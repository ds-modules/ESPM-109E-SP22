{
 "cells": [
  {
   "cell_type": "code",
   "execution_count": 1,
   "metadata": {},
   "outputs": [],
   "source": [
    "# Run this cell to set up your notebook\n",
    "import numpy as np\n",
    "import pandas as pd\n",
    "import matplotlib.pyplot as plt\n",
    "import seaborn as sns"
   ]
  },
  {
   "cell_type": "markdown",
   "metadata": {},
   "source": [
    "# The Ocean Health Index"
   ]
  },
  {
   "cell_type": "markdown",
   "metadata": {},
   "source": [
    "The goal of the ocean health index is to give scientists a method of accessing the state of oceans over time and to make predictions for the future. Scientists, economists, and sociologists used surveys to determine specific factors that people want and expect from the ocean. Then, these factors were grouped into ten categories called \"goals\". Each goal is scored out of 100 on whether or not the goals were maximized without compromising the ocean's ability to deliever those same benefits in the future. Read more about the ocean health index here: https://oceanhealthindex.org/methodology/"
   ]
  },
  {
   "cell_type": "code",
   "execution_count": 2,
   "metadata": {},
   "outputs": [
    {
     "data": {
      "text/html": [
       "<div>\n",
       "<style scoped>\n",
       "    .dataframe tbody tr th:only-of-type {\n",
       "        vertical-align: middle;\n",
       "    }\n",
       "\n",
       "    .dataframe tbody tr th {\n",
       "        vertical-align: top;\n",
       "    }\n",
       "\n",
       "    .dataframe thead th {\n",
       "        text-align: right;\n",
       "    }\n",
       "</style>\n",
       "<table border=\"1\" class=\"dataframe\">\n",
       "  <thead>\n",
       "    <tr style=\"text-align: right;\">\n",
       "      <th></th>\n",
       "      <th>scenario</th>\n",
       "      <th>goal</th>\n",
       "      <th>long_goal</th>\n",
       "      <th>dimension</th>\n",
       "      <th>region_id</th>\n",
       "      <th>region_name</th>\n",
       "      <th>value</th>\n",
       "    </tr>\n",
       "  </thead>\n",
       "  <tbody>\n",
       "    <tr>\n",
       "      <th>0</th>\n",
       "      <td>2012</td>\n",
       "      <td>AO</td>\n",
       "      <td>Artisanal opportunities</td>\n",
       "      <td>future</td>\n",
       "      <td>0</td>\n",
       "      <td>Global average</td>\n",
       "      <td>74.32</td>\n",
       "    </tr>\n",
       "    <tr>\n",
       "      <th>1</th>\n",
       "      <td>2012</td>\n",
       "      <td>AO</td>\n",
       "      <td>Artisanal opportunities</td>\n",
       "      <td>future</td>\n",
       "      <td>1</td>\n",
       "      <td>Cocos Islands</td>\n",
       "      <td>72.62</td>\n",
       "    </tr>\n",
       "    <tr>\n",
       "      <th>2</th>\n",
       "      <td>2012</td>\n",
       "      <td>AO</td>\n",
       "      <td>Artisanal opportunities</td>\n",
       "      <td>future</td>\n",
       "      <td>2</td>\n",
       "      <td>Christmas Island</td>\n",
       "      <td>72.62</td>\n",
       "    </tr>\n",
       "    <tr>\n",
       "      <th>3</th>\n",
       "      <td>2012</td>\n",
       "      <td>AO</td>\n",
       "      <td>Artisanal opportunities</td>\n",
       "      <td>future</td>\n",
       "      <td>3</td>\n",
       "      <td>Norfolk Island</td>\n",
       "      <td>41.41</td>\n",
       "    </tr>\n",
       "    <tr>\n",
       "      <th>4</th>\n",
       "      <td>2012</td>\n",
       "      <td>AO</td>\n",
       "      <td>Artisanal opportunities</td>\n",
       "      <td>future</td>\n",
       "      <td>4</td>\n",
       "      <td>Macquarie Island</td>\n",
       "      <td>NaN</td>\n",
       "    </tr>\n",
       "    <tr>\n",
       "      <th>...</th>\n",
       "      <td>...</td>\n",
       "      <td>...</td>\n",
       "      <td>...</td>\n",
       "      <td>...</td>\n",
       "      <td>...</td>\n",
       "      <td>...</td>\n",
       "      <td>...</td>\n",
       "    </tr>\n",
       "    <tr>\n",
       "      <th>243655</th>\n",
       "      <td>2021</td>\n",
       "      <td>TR</td>\n",
       "      <td>Tourism &amp; recreation</td>\n",
       "      <td>trend</td>\n",
       "      <td>245</td>\n",
       "      <td>Bonaire</td>\n",
       "      <td>0.00</td>\n",
       "    </tr>\n",
       "    <tr>\n",
       "      <th>243656</th>\n",
       "      <td>2021</td>\n",
       "      <td>TR</td>\n",
       "      <td>Tourism &amp; recreation</td>\n",
       "      <td>trend</td>\n",
       "      <td>247</td>\n",
       "      <td>Brunei</td>\n",
       "      <td>0.01</td>\n",
       "    </tr>\n",
       "    <tr>\n",
       "      <th>243657</th>\n",
       "      <td>2021</td>\n",
       "      <td>TR</td>\n",
       "      <td>Tourism &amp; recreation</td>\n",
       "      <td>trend</td>\n",
       "      <td>248</td>\n",
       "      <td>Saba</td>\n",
       "      <td>0.00</td>\n",
       "    </tr>\n",
       "    <tr>\n",
       "      <th>243658</th>\n",
       "      <td>2021</td>\n",
       "      <td>TR</td>\n",
       "      <td>Tourism &amp; recreation</td>\n",
       "      <td>trend</td>\n",
       "      <td>249</td>\n",
       "      <td>Sint Eustatius</td>\n",
       "      <td>0.00</td>\n",
       "    </tr>\n",
       "    <tr>\n",
       "      <th>243659</th>\n",
       "      <td>2021</td>\n",
       "      <td>TR</td>\n",
       "      <td>Tourism &amp; recreation</td>\n",
       "      <td>trend</td>\n",
       "      <td>250</td>\n",
       "      <td>Aruba</td>\n",
       "      <td>0.00</td>\n",
       "    </tr>\n",
       "  </tbody>\n",
       "</table>\n",
       "<p>243660 rows × 7 columns</p>\n",
       "</div>"
      ],
      "text/plain": [
       "        scenario goal                long_goal dimension  region_id  \\\n",
       "0           2012   AO  Artisanal opportunities    future          0   \n",
       "1           2012   AO  Artisanal opportunities    future          1   \n",
       "2           2012   AO  Artisanal opportunities    future          2   \n",
       "3           2012   AO  Artisanal opportunities    future          3   \n",
       "4           2012   AO  Artisanal opportunities    future          4   \n",
       "...          ...  ...                      ...       ...        ...   \n",
       "243655      2021   TR     Tourism & recreation     trend        245   \n",
       "243656      2021   TR     Tourism & recreation     trend        247   \n",
       "243657      2021   TR     Tourism & recreation     trend        248   \n",
       "243658      2021   TR     Tourism & recreation     trend        249   \n",
       "243659      2021   TR     Tourism & recreation     trend        250   \n",
       "\n",
       "             region_name  value  \n",
       "0         Global average  74.32  \n",
       "1          Cocos Islands  72.62  \n",
       "2       Christmas Island  72.62  \n",
       "3         Norfolk Island  41.41  \n",
       "4       Macquarie Island    NaN  \n",
       "...                  ...    ...  \n",
       "243655           Bonaire   0.00  \n",
       "243656            Brunei   0.01  \n",
       "243657              Saba   0.00  \n",
       "243658    Sint Eustatius   0.00  \n",
       "243659             Aruba   0.00  \n",
       "\n",
       "[243660 rows x 7 columns]"
      ]
     },
     "execution_count": 2,
     "metadata": {},
     "output_type": "execute_result"
    }
   ],
   "source": [
    "# load the data\n",
    "ohi = pd.read_csv(\"https://oceanhealthindex.org/data/scores.csv\")\n",
    "ohi"
   ]
  },
  {
   "cell_type": "markdown",
   "metadata": {},
   "source": [
    "The \"goal\" column consists of 2 letter abbreviations of one of the 10 goals I described above. This website describes each abbreviation and what they mean: https://ohi-science.org/ohiprep_v2021/Reference/methods_and_results/Supplement_Results.html"
   ]
  },
  {
   "cell_type": "code",
   "execution_count": 3,
   "metadata": {},
   "outputs": [
    {
     "data": {
      "text/plain": [
       "array(['AO', 'BD', 'CP', 'CS', 'CW', 'ECO', 'FIS', 'FP', 'HAB', 'ICO',\n",
       "       'Index', 'LE', 'LIV', 'LSP', 'MAR', 'NP', 'SP', 'SPP', 'TR'],\n",
       "      dtype=object)"
      ]
     },
     "execution_count": 3,
     "metadata": {},
     "output_type": "execute_result"
    }
   ],
   "source": [
    "# Here are all of the different goal abbreviations. \n",
    "# Go to the link above to read what they stand for.\n",
    "ohi['goal'].unique()"
   ]
  },
  {
   "cell_type": "code",
   "execution_count": 3,
   "metadata": {},
   "outputs": [
    {
     "data": {
      "text/plain": [
       "array(['Global average', 'Cocos Islands', 'Christmas Island',\n",
       "       'Norfolk Island', 'Macquarie Island', 'New Caledonia', 'Vanuatu',\n",
       "       'Solomon Islands', 'Palau', 'Micronesia', 'Nauru',\n",
       "       'Marshall Islands', 'Wake Island',\n",
       "       'Northern Mariana Islands and Guam', 'Taiwan', 'Philippines',\n",
       "       'Australia', 'Papua New Guinea', 'Fiji', 'Tuvalu', 'South Korea',\n",
       "       'North Korea', 'Cambodia', 'Thailand', 'Andaman and Nicobar',\n",
       "       'Comoro Islands', 'Mayotte', 'Glorioso Islands', 'Seychelles',\n",
       "       'Réunion', 'Juan de Nova Island', 'Bassas da India', 'Ile Europa',\n",
       "       'Ile Tromelin', 'Mauritius', 'British Indian Ocean Territory',\n",
       "       'Maldives', 'Sri Lanka', 'Mozambique', 'Madagascar', 'Kenya',\n",
       "       'Somalia', 'Eritrea', 'Djibouti', 'Yemen', 'Oman', 'Sudan',\n",
       "       'Saudi Arabia', 'Kuwait', 'Bahrain', 'Pakistan',\n",
       "       'United Arab Emirates', 'Azores', 'Cape Verde', 'Madeira',\n",
       "       'Canary Islands', 'Belgium', 'Gibraltar', 'Tunisia', 'Morocco',\n",
       "       'Western Sahara', 'Mauritania', 'Gambia', 'Senegal', 'Libya',\n",
       "       'Malta', 'Latvia', 'Estonia', 'Bulgaria', 'Romania', 'Russia',\n",
       "       'Georgia', 'Ukraine', 'Turkey', 'Syria', 'Lebanon', 'Israel',\n",
       "       'Greece', 'Cyprus', 'Albania', 'Algeria', 'Ascension',\n",
       "       'Saint Helena', 'Tristan da Cunha',\n",
       "       'South Georgia and the South Sandwich Islands',\n",
       "       'Prince Edward Islands', 'Crozet Islands',\n",
       "       'Amsterdam Island and Saint Paul Island', 'Kerguelen Islands',\n",
       "       'Heard and McDonald Islands', 'Falkland Islands', 'Sierra Leone',\n",
       "       'Liberia', 'Togo', 'Benin', 'Republique du Congo', 'Namibia',\n",
       "       'South Africa', 'Sao Tome and Principe', 'Equatorial Guinea',\n",
       "       'Bouvet Island', 'Ghana', 'Clipperton Island', 'Bermuda',\n",
       "       'Bahamas', 'Turks and Caicos Islands', 'Cuba', 'Cayman Islands',\n",
       "       'Haiti', 'Dominican Republic',\n",
       "       'Puerto Rico and Virgin Islands of the United States',\n",
       "       'British Virgin Islands', 'Anguilla', 'Saint Kitts and Nevis',\n",
       "       'Antigua and Barbuda', 'Montserrat', 'Saint Lucia', 'Dominica',\n",
       "       'Barbados', 'Grenada', 'Trinidad and Tobago',\n",
       "       'Saint Vincent and the Grenadines', 'Panama', 'Costa Rica',\n",
       "       'Nicaragua', 'Colombia', 'Honduras', 'El Salvador', 'Mexico',\n",
       "       'Guatemala', 'Ecuador', 'Peru', 'Venezuela',\n",
       "       'Guadeloupe and Martinique', 'Faeroe Islands', 'Iceland',\n",
       "       'Jan Mayen', 'Greenland', 'Pitcairn', 'French Polynesia',\n",
       "       'Line Islands (Kiribati)', 'Jarvis Island', 'Palmyra Atoll',\n",
       "       'American Samoa', 'Samoa', 'Cook Islands', 'Niue', 'Tonga',\n",
       "       'Tokelau', 'Phoenix Islands (Kiribati)',\n",
       "       'Howland Island and Baker Island', 'Johnston Atoll',\n",
       "       'Wallis and Futuna', 'New Zealand', 'United States', 'Belize',\n",
       "       'Jamaica', 'Guyana', 'Suriname', 'French Guiana', 'Brazil',\n",
       "       'Argentina', 'Uruguay', 'Finland', 'Denmark', 'Germany',\n",
       "       'Netherlands', 'Poland', 'France', 'United Kingdom', 'Ireland',\n",
       "       'Spain', 'Portugal', 'Italy', 'Monaco', 'Montenegro', 'Croatia',\n",
       "       'Slovenia', 'Lithuania', 'Qatar', 'Iran', 'Iraq', 'Guinea Bissau',\n",
       "       'Guinea', 'Ivory Coast', 'Nigeria', 'Cameroon', 'Gabon',\n",
       "       'Democratic Republic of the Congo', 'Angola', 'Tanzania', 'India',\n",
       "       'Bangladesh', 'Myanmar', 'Malaysia', 'Vietnam', 'Singapore',\n",
       "       'China', 'Japan', 'Gilbert Islands (Kiribati)', 'Antarctica',\n",
       "       'Egypt', 'Jordan', 'Indonesia', 'Canada',\n",
       "       'Saint Pierre and Miquelon', 'Sint Maarten',\n",
       "       'Northern Saint-Martin', 'Sweden', 'Norway', 'Chile', 'Jersey',\n",
       "       'Guernsey', 'East Timor', 'Bosnia and Herzegovina',\n",
       "       'Oecussi Ambeno', 'Curacao', 'Bonaire', 'Brunei', 'Saba',\n",
       "       'Sint Eustatius', 'Aruba'], dtype=object)"
      ]
     },
     "execution_count": 3,
     "metadata": {},
     "output_type": "execute_result"
    }
   ],
   "source": [
    "ohi['region_name'].unique()"
   ]
  },
  {
   "cell_type": "markdown",
   "metadata": {},
   "source": [
    "## Analyzing distributions of ocean health indexes"
   ]
  },
  {
   "cell_type": "markdown",
   "metadata": {},
   "source": [
    "Let's focus on data from 2021. In the cell below, isolate rows where the \"scenario\" column is 2021, and drop 0 and NaN values. Then, plot a historgam showing the distributions of all ocean health indexes."
   ]
  },
  {
   "cell_type": "code",
   "execution_count": 4,
   "metadata": {},
   "outputs": [
    {
     "data": {
      "text/plain": [
       "Text(0.5, 1.0, 'Number of Ocean Health Indexes')"
      ]
     },
     "execution_count": 4,
     "metadata": {},
     "output_type": "execute_result"
    },
    {
     "data": {
      "image/png": "[encoded data removed]",
      "text/plain": [
       "<Figure size 432x288 with 1 Axes>"
      ]
     },
     "metadata": {
      "needs_background": "light"
     },
     "output_type": "display_data"
    }
   ],
   "source": [
    "# isolate data from the year 2021 \n",
    "only2021 = ohi[ohi['scenario'] == 2021]\n",
    "\n",
    "# remove 0 and NaNvalues\n",
    "only2021 = only2021[only2021['value'] != 0].dropna()\n",
    "\n",
    "# plot a histogram showing the percent of values that fall within each bin\n",
    "sns.histplot(data=only2021, x='value', binwidth=5, color='red')\n",
    "plt.xlabel('Ocean Health Index')\n",
    "plt.title('Number of Ocean Health Indexes')"
   ]
  },
  {
   "cell_type": "markdown",
   "metadata": {},
   "source": [
    "Above we can see the distribution of ocean health indexes in 2021. Look at the histogram above. What do you notice? "
   ]
  },
  {
   "cell_type": "markdown",
   "metadata": {},
   "source": [
    "Let's compute the mean ocean health index below. "
   ]
  },
  {
   "cell_type": "code",
   "execution_count": 5,
   "metadata": {},
   "outputs": [
    {
     "name": "stdout",
     "output_type": "stream",
     "text": [
      "The average ocean health index is 53.05935887412027\n"
     ]
    }
   ],
   "source": [
    "avg = np.mean(only2021['value'])\n",
    "print('The average ocean health index is', avg)"
   ]
  },
  {
   "cell_type": "markdown",
   "metadata": {},
   "source": [
    "Above, we described that there are seperate goals with their own indexes. Let's create a histogram showing the distribution of indexes for the clean water goal."
   ]
  },
  {
   "cell_type": "code",
   "execution_count": 6,
   "metadata": {},
   "outputs": [
    {
     "data": {
      "text/plain": [
       "Text(0.5, 1.0, 'Distribution of ocean health indexes for clean water goal')"
      ]
     },
     "execution_count": 6,
     "metadata": {},
     "output_type": "execute_result"
    },
    {
     "data": {
      "image/png": "[encoded data removed]",
      "text/plain": [
       "<Figure size 432x288 with 1 Axes>"
      ]
     },
     "metadata": {
      "needs_background": "light"
     },
     "output_type": "display_data"
    }
   ],
   "source": [
    "clean_water = ohi[ohi['goal'] == 'CW']\n",
    "clean_water = clean_water[clean_water['scenario'] == 2021]\n",
    "sns.histplot(data=clean_water, x='value', binwidth=5) \n",
    "plt.xlabel('Ocean Health Index')\n",
    "plt.title('Distribution of ocean health indexes for clean water goal')"
   ]
  },
  {
   "cell_type": "markdown",
   "metadata": {},
   "source": [
    "Do the same thing for a few more goals."
   ]
  },
  {
   "cell_type": "code",
   "execution_count": 7,
   "metadata": {},
   "outputs": [
    {
     "data": {
      "text/plain": [
       "Text(0.5, 1.0, 'Distribution of ocean health indexes for tourism and recreation goal')"
      ]
     },
     "execution_count": 7,
     "metadata": {},
     "output_type": "execute_result"
    },
    {
     "data": {
      "image/png": "[encoded data removed]",
      "text/plain": [
       "<Figure size 432x288 with 1 Axes>"
      ]
     },
     "metadata": {
      "needs_background": "light"
     },
     "output_type": "display_data"
    }
   ],
   "source": [
    "tourism = ohi[ohi['goal'] == 'TR']\n",
    "tourism = tourism[tourism['scenario'] == 2021]\n",
    "sns.histplot(data=tourism, x='value', binwidth=5, color='purple') \n",
    "plt.xlabel('Ocean Health Index')\n",
    "plt.title('Distribution of ocean health indexes for tourism and recreation goal')"
   ]
  },
  {
   "cell_type": "code",
   "execution_count": 8,
   "metadata": {},
   "outputs": [
    {
     "data": {
      "text/plain": [
       "Text(0.5, 1.0, 'Distribution of ocean health indexes for food provision goal')"
      ]
     },
     "execution_count": 8,
     "metadata": {},
     "output_type": "execute_result"
    },
    {
     "data": {
      "image/png": "[encoded data removed]",
      "text/plain": [
       "<Figure size 432x288 with 1 Axes>"
      ]
     },
     "metadata": {
      "needs_background": "light"
     },
     "output_type": "display_data"
    }
   ],
   "source": [
    "food = ohi[ohi['goal'] == 'FP']\n",
    "food = food[food['scenario'] == 2021]\n",
    "sns.histplot(data=food, x='value', binwidth=5, color='brown') \n",
    "plt.xlabel('Ocean Health Index')\n",
    "plt.title('Distribution of ocean health indexes for food provision goal')"
   ]
  },
  {
   "cell_type": "markdown",
   "metadata": {},
   "source": [
    "## Analyzing change in ocean health indexes over time"
   ]
  },
  {
   "cell_type": "code",
   "execution_count": 9,
   "metadata": {},
   "outputs": [
    {
     "data": {
      "text/html": [
       "<div>\n",
       "<style scoped>\n",
       "    .dataframe tbody tr th:only-of-type {\n",
       "        vertical-align: middle;\n",
       "    }\n",
       "\n",
       "    .dataframe tbody tr th {\n",
       "        vertical-align: top;\n",
       "    }\n",
       "\n",
       "    .dataframe thead th {\n",
       "        text-align: right;\n",
       "    }\n",
       "</style>\n",
       "<table border=\"1\" class=\"dataframe\">\n",
       "  <thead>\n",
       "    <tr style=\"text-align: right;\">\n",
       "      <th></th>\n",
       "      <th>scenario</th>\n",
       "      <th>value</th>\n",
       "    </tr>\n",
       "  </thead>\n",
       "  <tbody>\n",
       "    <tr>\n",
       "      <th>0</th>\n",
       "      <td>2012</td>\n",
       "      <td>50.062276</td>\n",
       "    </tr>\n",
       "    <tr>\n",
       "      <th>1</th>\n",
       "      <td>2013</td>\n",
       "      <td>50.478112</td>\n",
       "    </tr>\n",
       "    <tr>\n",
       "      <th>2</th>\n",
       "      <td>2014</td>\n",
       "      <td>50.742177</td>\n",
       "    </tr>\n",
       "    <tr>\n",
       "      <th>3</th>\n",
       "      <td>2015</td>\n",
       "      <td>50.794526</td>\n",
       "    </tr>\n",
       "    <tr>\n",
       "      <th>4</th>\n",
       "      <td>2016</td>\n",
       "      <td>50.798226</td>\n",
       "    </tr>\n",
       "    <tr>\n",
       "      <th>5</th>\n",
       "      <td>2017</td>\n",
       "      <td>50.801006</td>\n",
       "    </tr>\n",
       "    <tr>\n",
       "      <th>6</th>\n",
       "      <td>2018</td>\n",
       "      <td>50.823515</td>\n",
       "    </tr>\n",
       "    <tr>\n",
       "      <th>7</th>\n",
       "      <td>2019</td>\n",
       "      <td>50.521380</td>\n",
       "    </tr>\n",
       "    <tr>\n",
       "      <th>8</th>\n",
       "      <td>2020</td>\n",
       "      <td>50.473734</td>\n",
       "    </tr>\n",
       "    <tr>\n",
       "      <th>9</th>\n",
       "      <td>2021</td>\n",
       "      <td>50.429925</td>\n",
       "    </tr>\n",
       "  </tbody>\n",
       "</table>\n",
       "</div>"
      ],
      "text/plain": [
       "   scenario      value\n",
       "0      2012  50.062276\n",
       "1      2013  50.478112\n",
       "2      2014  50.742177\n",
       "3      2015  50.794526\n",
       "4      2016  50.798226\n",
       "5      2017  50.801006\n",
       "6      2018  50.823515\n",
       "7      2019  50.521380\n",
       "8      2020  50.473734\n",
       "9      2021  50.429925"
      ]
     },
     "execution_count": 9,
     "metadata": {},
     "output_type": "execute_result"
    }
   ],
   "source": [
    "# make a new df with year in one column, average score in next column\n",
    "vals = ohi.groupby('scenario')['value'].agg(np.mean)\n",
    "averages = pd.DataFrame(vals).reset_index()\n",
    "averages"
   ]
  },
  {
   "cell_type": "markdown",
   "metadata": {},
   "source": [
    "Let's visualize the change in average ocean health indexes over time. Create a line plot below."
   ]
  },
  {
   "cell_type": "code",
   "execution_count": 10,
   "metadata": {},
   "outputs": [
    {
     "data": {
      "text/plain": [
       "Text(0.5, 1.0, 'Average ocean health indexes over time')"
      ]
     },
     "execution_count": 10,
     "metadata": {},
     "output_type": "execute_result"
    },
    {
     "data": {
      "image/png": "[encoded data removed]",
      "text/plain": [
       "<Figure size 432x288 with 1 Axes>"
      ]
     },
     "metadata": {
      "needs_background": "light"
     },
     "output_type": "display_data"
    }
   ],
   "source": [
    "sns.lineplot(data=averages, x='scenario', y='value')\n",
    "plt.xlabel('Year')\n",
    "plt.ylabel('Averge ocean health indexes')\n",
    "plt.title('Average ocean health indexes over time')"
   ]
  },
  {
   "cell_type": "markdown",
   "metadata": {},
   "source": [
    "Now, we calculate the change in indexes over time. Create a new column \"differences\" in the data frame averages that calculates the difference in indexes from row i+1 and row i (the difference between each row and the one above it). Don't worry too much about understanding the code, just run the next cell."
   ]
  },
  {
   "cell_type": "code",
   "execution_count": 11,
   "metadata": {},
   "outputs": [
    {
     "data": {
      "text/html": [
       "<div>\n",
       "<style scoped>\n",
       "    .dataframe tbody tr th:only-of-type {\n",
       "        vertical-align: middle;\n",
       "    }\n",
       "\n",
       "    .dataframe tbody tr th {\n",
       "        vertical-align: top;\n",
       "    }\n",
       "\n",
       "    .dataframe thead th {\n",
       "        text-align: right;\n",
       "    }\n",
       "</style>\n",
       "<table border=\"1\" class=\"dataframe\">\n",
       "  <thead>\n",
       "    <tr style=\"text-align: right;\">\n",
       "      <th></th>\n",
       "      <th>scenario</th>\n",
       "      <th>value</th>\n",
       "      <th>differences</th>\n",
       "    </tr>\n",
       "  </thead>\n",
       "  <tbody>\n",
       "    <tr>\n",
       "      <th>0</th>\n",
       "      <td>2012</td>\n",
       "      <td>50.062276</td>\n",
       "      <td>0.000000</td>\n",
       "    </tr>\n",
       "    <tr>\n",
       "      <th>1</th>\n",
       "      <td>2013</td>\n",
       "      <td>50.478112</td>\n",
       "      <td>0.415836</td>\n",
       "    </tr>\n",
       "    <tr>\n",
       "      <th>2</th>\n",
       "      <td>2014</td>\n",
       "      <td>50.742177</td>\n",
       "      <td>0.264065</td>\n",
       "    </tr>\n",
       "    <tr>\n",
       "      <th>3</th>\n",
       "      <td>2015</td>\n",
       "      <td>50.794526</td>\n",
       "      <td>0.052349</td>\n",
       "    </tr>\n",
       "    <tr>\n",
       "      <th>4</th>\n",
       "      <td>2016</td>\n",
       "      <td>50.798226</td>\n",
       "      <td>0.003700</td>\n",
       "    </tr>\n",
       "    <tr>\n",
       "      <th>5</th>\n",
       "      <td>2017</td>\n",
       "      <td>50.801006</td>\n",
       "      <td>0.002780</td>\n",
       "    </tr>\n",
       "    <tr>\n",
       "      <th>6</th>\n",
       "      <td>2018</td>\n",
       "      <td>50.823515</td>\n",
       "      <td>0.022510</td>\n",
       "    </tr>\n",
       "    <tr>\n",
       "      <th>7</th>\n",
       "      <td>2019</td>\n",
       "      <td>50.521380</td>\n",
       "      <td>-0.302136</td>\n",
       "    </tr>\n",
       "    <tr>\n",
       "      <th>8</th>\n",
       "      <td>2020</td>\n",
       "      <td>50.473734</td>\n",
       "      <td>-0.047645</td>\n",
       "    </tr>\n",
       "    <tr>\n",
       "      <th>9</th>\n",
       "      <td>2021</td>\n",
       "      <td>50.429925</td>\n",
       "      <td>-0.043809</td>\n",
       "    </tr>\n",
       "  </tbody>\n",
       "</table>\n",
       "</div>"
      ],
      "text/plain": [
       "   scenario      value  differences\n",
       "0      2012  50.062276     0.000000\n",
       "1      2013  50.478112     0.415836\n",
       "2      2014  50.742177     0.264065\n",
       "3      2015  50.794526     0.052349\n",
       "4      2016  50.798226     0.003700\n",
       "5      2017  50.801006     0.002780\n",
       "6      2018  50.823515     0.022510\n",
       "7      2019  50.521380    -0.302136\n",
       "8      2020  50.473734    -0.047645\n",
       "9      2021  50.429925    -0.043809"
      ]
     },
     "execution_count": 11,
     "metadata": {},
     "output_type": "execute_result"
    }
   ],
   "source": [
    "diff = np.array([0])\n",
    "for i in np.arange(len(averages)-1):\n",
    "    x = averages.iloc[i+1, 1] - averages.iloc[i,1]\n",
    "    diff = np.append(diff,x)\n",
    "averages['differences'] = diff #create a new column in table\n",
    "averages"
   ]
  },
  {
   "cell_type": "markdown",
   "metadata": {},
   "source": [
    "Let's visualize the change in the differences over time below with a line graph."
   ]
  },
  {
   "cell_type": "code",
   "execution_count": 12,
   "metadata": {},
   "outputs": [
    {
     "data": {
      "text/plain": [
       "Text(0.5, 1.0, 'Average differences in scores per year')"
      ]
     },
     "execution_count": 12,
     "metadata": {},
     "output_type": "execute_result"
    },
    {
     "data": {
      "image/png": "[encoded data removed]",
      "text/plain": [
       "<Figure size 432x288 with 1 Axes>"
      ]
     },
     "metadata": {
      "needs_background": "light"
     },
     "output_type": "display_data"
    }
   ],
   "source": [
    "sns.lineplot(data=averages, x='scenario', y='differences')\n",
    "plt.xlabel('year')\n",
    "plt.title('Average differences in scores per year')"
   ]
  },
  {
   "cell_type": "markdown",
   "metadata": {},
   "source": [
    "Look at the plot you created above. Notice that the average difference among scores decreases starting around 2013. What does that mean about the ocean health indexes? Are the indexes increasing or decreasing? Are they increasing/decreasing at the same rate over time?"
   ]
  },
  {
   "cell_type": "markdown",
   "metadata": {},
   "source": [
    "## Lets Look at French Polynesia\n",
    "\n",
    "Let's look at French Polynesia by looking at the region_name and sub-setting the data based on the region being equal to French Polynesia\n",
    "\n"
   ]
  },
  {
   "cell_type": "code",
   "execution_count": 6,
   "metadata": {},
   "outputs": [
    {
     "data": {
      "text/html": [
       "<div>\n",
       "<style scoped>\n",
       "    .dataframe tbody tr th:only-of-type {\n",
       "        vertical-align: middle;\n",
       "    }\n",
       "\n",
       "    .dataframe tbody tr th {\n",
       "        vertical-align: top;\n",
       "    }\n",
       "\n",
       "    .dataframe thead th {\n",
       "        text-align: right;\n",
       "    }\n",
       "</style>\n",
       "<table border=\"1\" class=\"dataframe\">\n",
       "  <thead>\n",
       "    <tr style=\"text-align: right;\">\n",
       "      <th></th>\n",
       "      <th>scenario</th>\n",
       "      <th>goal</th>\n",
       "      <th>long_goal</th>\n",
       "      <th>dimension</th>\n",
       "      <th>region_id</th>\n",
       "      <th>region_name</th>\n",
       "      <th>value</th>\n",
       "    </tr>\n",
       "  </thead>\n",
       "  <tbody>\n",
       "    <tr>\n",
       "      <th>139</th>\n",
       "      <td>2012</td>\n",
       "      <td>AO</td>\n",
       "      <td>Artisanal opportunities</td>\n",
       "      <td>future</td>\n",
       "      <td>147</td>\n",
       "      <td>French Polynesia</td>\n",
       "      <td>80.88</td>\n",
       "    </tr>\n",
       "    <tr>\n",
       "      <th>360</th>\n",
       "      <td>2012</td>\n",
       "      <td>AO</td>\n",
       "      <td>Artisanal opportunities</td>\n",
       "      <td>pressures</td>\n",
       "      <td>147</td>\n",
       "      <td>French Polynesia</td>\n",
       "      <td>17.09</td>\n",
       "    </tr>\n",
       "    <tr>\n",
       "      <th>581</th>\n",
       "      <td>2012</td>\n",
       "      <td>AO</td>\n",
       "      <td>Artisanal opportunities</td>\n",
       "      <td>resilience</td>\n",
       "      <td>147</td>\n",
       "      <td>French Polynesia</td>\n",
       "      <td>71.05</td>\n",
       "    </tr>\n",
       "    <tr>\n",
       "      <th>803</th>\n",
       "      <td>2012</td>\n",
       "      <td>AO</td>\n",
       "      <td>Artisanal opportunities</td>\n",
       "      <td>score</td>\n",
       "      <td>147</td>\n",
       "      <td>French Polynesia</td>\n",
       "      <td>80.67</td>\n",
       "    </tr>\n",
       "    <tr>\n",
       "      <th>1025</th>\n",
       "      <td>2012</td>\n",
       "      <td>AO</td>\n",
       "      <td>Artisanal opportunities</td>\n",
       "      <td>status</td>\n",
       "      <td>147</td>\n",
       "      <td>French Polynesia</td>\n",
       "      <td>80.46</td>\n",
       "    </tr>\n",
       "    <tr>\n",
       "      <th>...</th>\n",
       "      <td>...</td>\n",
       "      <td>...</td>\n",
       "      <td>...</td>\n",
       "      <td>...</td>\n",
       "      <td>...</td>\n",
       "      <td>...</td>\n",
       "      <td>...</td>\n",
       "    </tr>\n",
       "    <tr>\n",
       "      <th>242691</th>\n",
       "      <td>2021</td>\n",
       "      <td>TR</td>\n",
       "      <td>Tourism &amp; recreation</td>\n",
       "      <td>pressures</td>\n",
       "      <td>147</td>\n",
       "      <td>French Polynesia</td>\n",
       "      <td>35.73</td>\n",
       "    </tr>\n",
       "    <tr>\n",
       "      <th>242912</th>\n",
       "      <td>2021</td>\n",
       "      <td>TR</td>\n",
       "      <td>Tourism &amp; recreation</td>\n",
       "      <td>resilience</td>\n",
       "      <td>147</td>\n",
       "      <td>French Polynesia</td>\n",
       "      <td>73.09</td>\n",
       "    </tr>\n",
       "    <tr>\n",
       "      <th>243134</th>\n",
       "      <td>2021</td>\n",
       "      <td>TR</td>\n",
       "      <td>Tourism &amp; recreation</td>\n",
       "      <td>score</td>\n",
       "      <td>147</td>\n",
       "      <td>French Polynesia</td>\n",
       "      <td>79.37</td>\n",
       "    </tr>\n",
       "    <tr>\n",
       "      <th>243356</th>\n",
       "      <td>2021</td>\n",
       "      <td>TR</td>\n",
       "      <td>Tourism &amp; recreation</td>\n",
       "      <td>status</td>\n",
       "      <td>147</td>\n",
       "      <td>French Polynesia</td>\n",
       "      <td>76.79</td>\n",
       "    </tr>\n",
       "    <tr>\n",
       "      <th>243577</th>\n",
       "      <td>2021</td>\n",
       "      <td>TR</td>\n",
       "      <td>Tourism &amp; recreation</td>\n",
       "      <td>trend</td>\n",
       "      <td>147</td>\n",
       "      <td>French Polynesia</td>\n",
       "      <td>0.10</td>\n",
       "    </tr>\n",
       "  </tbody>\n",
       "</table>\n",
       "<p>967 rows × 7 columns</p>\n",
       "</div>"
      ],
      "text/plain": [
       "        scenario goal                long_goal   dimension  region_id  \\\n",
       "139         2012   AO  Artisanal opportunities      future        147   \n",
       "360         2012   AO  Artisanal opportunities   pressures        147   \n",
       "581         2012   AO  Artisanal opportunities  resilience        147   \n",
       "803         2012   AO  Artisanal opportunities       score        147   \n",
       "1025        2012   AO  Artisanal opportunities      status        147   \n",
       "...          ...  ...                      ...         ...        ...   \n",
       "242691      2021   TR     Tourism & recreation   pressures        147   \n",
       "242912      2021   TR     Tourism & recreation  resilience        147   \n",
       "243134      2021   TR     Tourism & recreation       score        147   \n",
       "243356      2021   TR     Tourism & recreation      status        147   \n",
       "243577      2021   TR     Tourism & recreation       trend        147   \n",
       "\n",
       "             region_name  value  \n",
       "139     French Polynesia  80.88  \n",
       "360     French Polynesia  17.09  \n",
       "581     French Polynesia  71.05  \n",
       "803     French Polynesia  80.67  \n",
       "1025    French Polynesia  80.46  \n",
       "...                  ...    ...  \n",
       "242691  French Polynesia  35.73  \n",
       "242912  French Polynesia  73.09  \n",
       "243134  French Polynesia  79.37  \n",
       "243356  French Polynesia  76.79  \n",
       "243577  French Polynesia   0.10  \n",
       "\n",
       "[967 rows x 7 columns]"
      ]
     },
     "execution_count": 6,
     "metadata": {},
     "output_type": "execute_result"
    }
   ],
   "source": [
    "# isolate data from the year 2021 \n",
    "FP = ohi[ohi['region_name'] == 'French Polynesia']\n",
    "\n",
    "# remove 0 and NaNvalues\n",
    "FP = FP[FP['value'] != 0].dropna()\n",
    "FP"
   ]
  },
  {
   "cell_type": "code",
   "execution_count": 18,
   "metadata": {},
   "outputs": [
    {
     "name": "stderr",
     "output_type": "stream",
     "text": [
      "<ipython-input-18-16efe90530ba>:2: UserWarning: Boolean Series key will be reindexed to match DataFrame index.\n",
      "  FP_score_Biod=FP_score[FP['long_goal'] == 'Biodiversity']\n"
     ]
    },
    {
     "data": {
      "text/html": [
       "<div>\n",
       "<style scoped>\n",
       "    .dataframe tbody tr th:only-of-type {\n",
       "        vertical-align: middle;\n",
       "    }\n",
       "\n",
       "    .dataframe tbody tr th {\n",
       "        vertical-align: top;\n",
       "    }\n",
       "\n",
       "    .dataframe thead th {\n",
       "        text-align: right;\n",
       "    }\n",
       "</style>\n",
       "<table border=\"1\" class=\"dataframe\">\n",
       "  <thead>\n",
       "    <tr style=\"text-align: right;\">\n",
       "      <th></th>\n",
       "      <th>scenario</th>\n",
       "      <th>goal</th>\n",
       "      <th>long_goal</th>\n",
       "      <th>dimension</th>\n",
       "      <th>region_id</th>\n",
       "      <th>region_name</th>\n",
       "      <th>value</th>\n",
       "    </tr>\n",
       "  </thead>\n",
       "  <tbody>\n",
       "    <tr>\n",
       "      <th>2132</th>\n",
       "      <td>2012</td>\n",
       "      <td>BD</td>\n",
       "      <td>Biodiversity</td>\n",
       "      <td>score</td>\n",
       "      <td>147</td>\n",
       "      <td>French Polynesia</td>\n",
       "      <td>88.21</td>\n",
       "    </tr>\n",
       "    <tr>\n",
       "      <th>26498</th>\n",
       "      <td>2013</td>\n",
       "      <td>BD</td>\n",
       "      <td>Biodiversity</td>\n",
       "      <td>score</td>\n",
       "      <td>147</td>\n",
       "      <td>French Polynesia</td>\n",
       "      <td>87.98</td>\n",
       "    </tr>\n",
       "    <tr>\n",
       "      <th>50864</th>\n",
       "      <td>2014</td>\n",
       "      <td>BD</td>\n",
       "      <td>Biodiversity</td>\n",
       "      <td>score</td>\n",
       "      <td>147</td>\n",
       "      <td>French Polynesia</td>\n",
       "      <td>87.77</td>\n",
       "    </tr>\n",
       "    <tr>\n",
       "      <th>75230</th>\n",
       "      <td>2015</td>\n",
       "      <td>BD</td>\n",
       "      <td>Biodiversity</td>\n",
       "      <td>score</td>\n",
       "      <td>147</td>\n",
       "      <td>French Polynesia</td>\n",
       "      <td>87.55</td>\n",
       "    </tr>\n",
       "    <tr>\n",
       "      <th>99596</th>\n",
       "      <td>2016</td>\n",
       "      <td>BD</td>\n",
       "      <td>Biodiversity</td>\n",
       "      <td>score</td>\n",
       "      <td>147</td>\n",
       "      <td>French Polynesia</td>\n",
       "      <td>87.32</td>\n",
       "    </tr>\n",
       "    <tr>\n",
       "      <th>123962</th>\n",
       "      <td>2017</td>\n",
       "      <td>BD</td>\n",
       "      <td>Biodiversity</td>\n",
       "      <td>score</td>\n",
       "      <td>147</td>\n",
       "      <td>French Polynesia</td>\n",
       "      <td>87.10</td>\n",
       "    </tr>\n",
       "    <tr>\n",
       "      <th>148328</th>\n",
       "      <td>2018</td>\n",
       "      <td>BD</td>\n",
       "      <td>Biodiversity</td>\n",
       "      <td>score</td>\n",
       "      <td>147</td>\n",
       "      <td>French Polynesia</td>\n",
       "      <td>86.88</td>\n",
       "    </tr>\n",
       "    <tr>\n",
       "      <th>172694</th>\n",
       "      <td>2019</td>\n",
       "      <td>BD</td>\n",
       "      <td>Biodiversity</td>\n",
       "      <td>score</td>\n",
       "      <td>147</td>\n",
       "      <td>French Polynesia</td>\n",
       "      <td>86.67</td>\n",
       "    </tr>\n",
       "    <tr>\n",
       "      <th>197060</th>\n",
       "      <td>2020</td>\n",
       "      <td>BD</td>\n",
       "      <td>Biodiversity</td>\n",
       "      <td>score</td>\n",
       "      <td>147</td>\n",
       "      <td>French Polynesia</td>\n",
       "      <td>86.45</td>\n",
       "    </tr>\n",
       "    <tr>\n",
       "      <th>221426</th>\n",
       "      <td>2021</td>\n",
       "      <td>BD</td>\n",
       "      <td>Biodiversity</td>\n",
       "      <td>score</td>\n",
       "      <td>147</td>\n",
       "      <td>French Polynesia</td>\n",
       "      <td>86.45</td>\n",
       "    </tr>\n",
       "  </tbody>\n",
       "</table>\n",
       "</div>"
      ],
      "text/plain": [
       "        scenario goal     long_goal dimension  region_id       region_name  \\\n",
       "2132        2012   BD  Biodiversity     score        147  French Polynesia   \n",
       "26498       2013   BD  Biodiversity     score        147  French Polynesia   \n",
       "50864       2014   BD  Biodiversity     score        147  French Polynesia   \n",
       "75230       2015   BD  Biodiversity     score        147  French Polynesia   \n",
       "99596       2016   BD  Biodiversity     score        147  French Polynesia   \n",
       "123962      2017   BD  Biodiversity     score        147  French Polynesia   \n",
       "148328      2018   BD  Biodiversity     score        147  French Polynesia   \n",
       "172694      2019   BD  Biodiversity     score        147  French Polynesia   \n",
       "197060      2020   BD  Biodiversity     score        147  French Polynesia   \n",
       "221426      2021   BD  Biodiversity     score        147  French Polynesia   \n",
       "\n",
       "        value  \n",
       "2132    88.21  \n",
       "26498   87.98  \n",
       "50864   87.77  \n",
       "75230   87.55  \n",
       "99596   87.32  \n",
       "123962  87.10  \n",
       "148328  86.88  \n",
       "172694  86.67  \n",
       "197060  86.45  \n",
       "221426  86.45  "
      ]
     },
     "execution_count": 18,
     "metadata": {},
     "output_type": "execute_result"
    }
   ],
   "source": [
    "FP_score = FP[FP['dimension'] == 'score']\n",
    "FP_score_Biod=FP_score[FP['long_goal'] == 'Biodiversity']\n",
    "\n",
    "FP_score_Biod\n",
    "\n",
    "#sns.histplot(data=food, x='value', binwidth=5, color='brown') \n",
    "#plt.xlabel('Ocean Health Index')\n",
    "#plt.title('Distribution of ocean health indexes for food provision goal')"
   ]
  },
  {
   "cell_type": "code",
   "execution_count": 19,
   "metadata": {},
   "outputs": [
    {
     "data": {
      "text/plain": [
       "Text(0.5, 1.0, 'Biodiversity Score')"
      ]
     },
     "execution_count": 19,
     "metadata": {},
     "output_type": "execute_result"
    },
    {
     "data": {
      "image/png": "[encoded data removed]",
      "text/plain": [
       "<Figure size 432x288 with 1 Axes>"
      ]
     },
     "metadata": {
      "needs_background": "light"
     },
     "output_type": "display_data"
    }
   ],
   "source": [
    "sns.lineplot(data=FP_score_Biod, x='scenario', y='value')\n",
    "plt.xlabel('year')\n",
    "plt.title('Biodiversity Score')"
   ]
  },
  {
   "cell_type": "code",
   "execution_count": null,
   "metadata": {},
   "outputs": [],
   "source": []
  }
 ],
 "metadata": {
  "kernelspec": {
   "display_name": "Python 3",
   "language": "python",
   "name": "python3"
  },
  "language_info": {
   "codemirror_mode": {
    "name": "ipython",
    "version": 3
   },
   "file_extension": ".py",
   "mimetype": "text/x-python",
   "name": "python",
   "nbconvert_exporter": "python",
   "pygments_lexer": "ipython3",
   "version": "3.8.5"
  }
 },
 "nbformat": 4,
 "nbformat_minor": 4
}
