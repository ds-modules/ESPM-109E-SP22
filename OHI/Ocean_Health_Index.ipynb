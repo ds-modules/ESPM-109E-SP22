{
  "cells": [
    {
      "cell_type": "code",
      "source": [
        "# Run this cell to set up your notebook\n",
        "import numpy as np\n",
        "import pandas as pd\n",
        "import matplotlib.pyplot as plt\n",
        "import seaborn as sns"
      ],
      "outputs": [],
      "execution_count": null,
      "metadata": {}
    },
    {
      "cell_type": "markdown",
      "source": [
        "# The Ocean Health Index"
      ],
      "metadata": {}
    },
    {
      "cell_type": "markdown",
      "source": [
        "The goal of the ocean health index is to give scientists a method of accessing the state of oceans over time and to make predictions for the future. Scientists, economists, and sociologists used surveys to determine specific factors that people want and expect from the ocean. Then, these factors were grouped into ten categories called \"goals\". Each goal is scored out of 100 on whether or not the goals were maximized without compromising the ocean's ability to deliever those same benefits in the future. Read more about the ocean health index here: https://oceanhealthindex.org/methodology/"
      ],
      "metadata": {}
    },
    {
      "cell_type": "code",
      "source": [
        "# load the data\n",
        "ohi = pd.read_csv(\"https://oceanhealthindex.org/data/scores.csv\")\n",
        "ohi"
      ],
      "outputs": [],
      "execution_count": null,
      "metadata": {}
    },
    {
      "cell_type": "markdown",
      "source": [
        "The \"goal\" column consists of 2 letter abbreviations of one of the 10 goals I described above. This website describes each abbreviation and what they mean: https://ohi-science.org/ohiprep_v2021/Reference/methods_and_results/Supplement_Results.html"
      ],
      "metadata": {}
    },
    {
      "cell_type": "code",
      "source": [
        "# Here are all of the different goal abbreviations. \n",
        "# Go to the link above to read what they stand for.\n",
        "ohi['goal'].unique()"
      ],
      "outputs": [],
      "execution_count": null,
      "metadata": {}
    },
    {
      "cell_type": "code",
      "source": [
        "ohi['region_name'].unique()"
      ],
      "outputs": [],
      "execution_count": null,
      "metadata": {}
    },
    {
      "cell_type": "markdown",
      "source": [
        "## Analyzing distributions of ocean health indexes"
      ],
      "metadata": {}
    },
    {
      "cell_type": "markdown",
      "source": [
        "Let's focus on data from 2021. In the cell below, isolate rows where the \"scenario\" column is 2021, and drop 0 and NaN values. Then, plot a historgam showing the distributions of all ocean health indexes."
      ],
      "metadata": {}
    },
    {
      "cell_type": "code",
      "source": [
        "# isolate data from the year 2021 \n",
        "only2021 = ohi[ohi['scenario'] == 2021]\n",
        "\n",
        "# remove 0 and NaNvalues\n",
        "only2021 = only2021[only2021['value'] != 0].dropna()\n",
        "\n",
        "# plot a histogram showing the percent of values that fall within each bin\n",
        "sns.histplot(data=only2021, x='value', binwidth=5, color='red')\n",
        "plt.xlabel('Ocean Health Index')\n",
        "plt.title('Number of Ocean Health Indexes')"
      ],
      "outputs": [],
      "execution_count": null,
      "metadata": {}
    },
    {
      "cell_type": "markdown",
      "source": [
        "Above we can see the distribution of ocean health indexes in 2021. Look at the histogram above. What do you notice? "
      ],
      "metadata": {}
    },
    {
      "cell_type": "markdown",
      "source": [
        "Let's compute the mean ocean health index below. "
      ],
      "metadata": {}
    },
    {
      "cell_type": "code",
      "source": [
        "avg = np.mean(only2021['value'])\n",
        "print('The average ocean health index is', avg)"
      ],
      "outputs": [],
      "execution_count": null,
      "metadata": {}
    },
    {
      "cell_type": "markdown",
      "source": [
        "Above, we described that there are seperate goals with their own indexes. Let's create a histogram showing the distribution of indexes for the clean water goal."
      ],
      "metadata": {}
    },
    {
      "cell_type": "code",
      "source": [
        "clean_water = ohi[ohi['goal'] == 'CW']\n",
        "clean_water = clean_water[clean_water['scenario'] == 2021]\n",
        "sns.histplot(data=clean_water, x='value', binwidth=5) \n",
        "plt.xlabel('Ocean Health Index')\n",
        "plt.title('Distribution of ocean health indexes for clean water goal')"
      ],
      "outputs": [],
      "execution_count": null,
      "metadata": {}
    },
    {
      "cell_type": "markdown",
      "source": [
        "Do the same thing for a few more goals."
      ],
      "metadata": {}
    },
    {
      "cell_type": "code",
      "source": [
        "tourism = ohi[ohi['goal'] == 'TR']\n",
        "tourism = tourism[tourism['scenario'] == 2021]\n",
        "sns.histplot(data=tourism, x='value', binwidth=5, color='purple') \n",
        "plt.xlabel('Ocean Health Index')\n",
        "plt.title('Distribution of ocean health indexes for tourism and recreation goal')"
      ],
      "outputs": [],
      "execution_count": null,
      "metadata": {}
    },
    {
      "cell_type": "code",
      "source": [
        "food = ohi[ohi['goal'] == 'FP']\n",
        "food = food[food['scenario'] == 2021]\n",
        "sns.histplot(data=food, x='value', binwidth=5, color='brown') \n",
        "plt.xlabel('Ocean Health Index')\n",
        "plt.title('Distribution of ocean health indexes for food provision goal')"
      ],
      "outputs": [],
      "execution_count": null,
      "metadata": {}
    },
    {
      "cell_type": "markdown",
      "source": [
        "## Analyzing change in ocean health indexes over time"
      ],
      "metadata": {}
    },
    {
      "cell_type": "code",
      "source": [
        "# make a new df with year in one column, average score in next column\n",
        "vals = ohi.groupby('scenario')['value'].agg(np.mean)\n",
        "averages = pd.DataFrame(vals).reset_index()\n",
        "averages"
      ],
      "outputs": [],
      "execution_count": null,
      "metadata": {}
    },
    {
      "cell_type": "markdown",
      "source": [
        "Let's visualize the change in average ocean health indexes over time. Create a line plot below."
      ],
      "metadata": {}
    },
    {
      "cell_type": "code",
      "source": [
        "sns.lineplot(data=averages, x='scenario', y='value')\n",
        "plt.xlabel('Year')\n",
        "plt.ylabel('Averge ocean health indexes')\n",
        "plt.title('Average ocean health indexes over time')"
      ],
      "outputs": [],
      "execution_count": null,
      "metadata": {}
    },
    {
      "cell_type": "markdown",
      "source": [
        "Now, we calculate the change in indexes over time. Create a new column \"differences\" in the data frame averages that calculates the difference in indexes from row i+1 and row i (the difference between each row and the one above it). Don't worry too much about understanding the code, just run the next cell."
      ],
      "metadata": {}
    },
    {
      "cell_type": "code",
      "source": [
        "diff = np.array([0])\n",
        "for i in np.arange(len(averages)-1):\n",
        "    x = averages.iloc[i+1, 1] - averages.iloc[i,1]\n",
        "    diff = np.append(diff,x)\n",
        "averages['differences'] = diff #create a new column in table\n",
        "averages"
      ],
      "outputs": [],
      "execution_count": null,
      "metadata": {}
    },
    {
      "cell_type": "markdown",
      "source": [
        "Let's visualize the change in the differences over time below with a line graph."
      ],
      "metadata": {}
    },
    {
      "cell_type": "code",
      "source": [
        "sns.lineplot(data=averages, x='scenario', y='differences')\n",
        "plt.xlabel('year')\n",
        "plt.title('Average differences in scores per year')"
      ],
      "outputs": [],
      "execution_count": null,
      "metadata": {}
    },
    {
      "cell_type": "markdown",
      "source": [
        "Look at the plot you created above. Notice that the average difference among scores decreases starting around 2013. What does that mean about the ocean health indexes? Are the indexes increasing or decreasing? Are they increasing/decreasing at the same rate over time?"
      ],
      "metadata": {}
    },
    {
      "cell_type": "markdown",
      "source": [
        "## Lets Look at French Polynesia\n",
        "\n",
        "Let's look at French Polynesia by looking at the region_name and sub-setting the data based on the region being equal to French Polynesia\n",
        "\n"
      ],
      "metadata": {}
    },
    {
      "cell_type": "code",
      "source": [
        "# isolate data from the year 2021 \n",
        "FP = ohi[ohi['region_name'] == 'French Polynesia']\n",
        "\n",
        "# remove 0 and NaNvalues\n",
        "FP = FP[FP['value'] != 0].dropna()\n",
        "FP"
      ],
      "outputs": [],
      "execution_count": null,
      "metadata": {}
    },
    {
      "cell_type": "code",
      "source": [
        "FP_score = FP[FP['dimension'] == 'score']\n",
        "FP_score_Biod=FP_score[FP['long_goal'] == 'Biodiversity']\n",
        "\n",
        "FP_score_Biod\n",
        "\n",
        "#sns.histplot(data=food, x='value', binwidth=5, color='brown') \n",
        "#plt.xlabel('Ocean Health Index')\n",
        "#plt.title('Distribution of ocean health indexes for food provision goal')"
      ],
      "outputs": [],
      "execution_count": null,
      "metadata": {}
    },
    {
      "cell_type": "code",
      "source": [
        "sns.lineplot(data=FP_score_Biod, x='scenario', y='value')\n",
        "plt.xlabel('year')\n",
        "plt.title('Biodiversity Score')"
      ],
      "outputs": [],
      "execution_count": null,
      "metadata": {}
    },
    {
      "cell_type": "code",
      "source": [],
      "outputs": [],
      "execution_count": null,
      "metadata": {}
    }
  ],
  "metadata": {
    "kernelspec": {
      "display_name": "Python 3",
      "language": "python",
      "name": "python3"
    },
    "language_info": {
      "codemirror_mode": {
        "name": "ipython",
        "version": 3
      },
      "file_extension": ".py",
      "mimetype": "text/x-python",
      "name": "python",
      "nbconvert_exporter": "python",
      "pygments_lexer": "ipython3",
      "version": "3.8.5"
    },
    "nteract": {
      "version": "0.28.0"
    }
  },
  "nbformat": 4,
  "nbformat_minor": 4
}