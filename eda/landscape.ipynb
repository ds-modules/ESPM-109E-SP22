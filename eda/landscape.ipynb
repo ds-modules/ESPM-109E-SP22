{
 "cells": [
  {
   "cell_type": "code",
   "execution_count": 2,
   "id": "7b95480d-5dbc-4a83-a1d3-c1c83b944cde",
   "metadata": {},
   "outputs": [],
   "source": [
    "import requests\n",
    "from pathlib import Path\n",
    "import time\n",
    "#standard data analysis libraries\n",
    "import numpy as np \n",
    "import pandas as pd \n",
    "#imports for displaying, rendering, and saving plots and visualizations\n",
    "from funcs import *"
   ]
  },
  {
   "cell_type": "code",
   "execution_count": 4,
   "id": "37ffc61e-79c9-481e-b5ec-fa77bc62661a",
   "metadata": {},
   "outputs": [
    {
     "data": {
      "text/plain": [
       "'Here is a description of the data frame dt1 and number of lines\\n'"
      ]
     },
     "metadata": {},
     "output_type": "display_data"
    },
    {
     "name": "stdout",
     "output_type": "stream",
     "text": [
      "<class 'pandas.core.frame.DataFrame'>\n",
      "RangeIndex: 85 entries, 0 to 84\n",
      "Data columns (total 2 columns):\n",
      " #   Column    Non-Null Count  Dtype   \n",
      "---  ------    --------------  -----   \n",
      " 0   Taxa      85 non-null     category\n",
      " 1   Category  85 non-null     category\n",
      "dtypes: category(2)\n",
      "memory usage: 3.4 KB\n"
     ]
    },
    {
     "data": {
      "text/plain": [
       "None"
      ]
     },
     "metadata": {},
     "output_type": "display_data"
    },
    {
     "data": {
      "text/plain": [
       "'--------------------\\n\\n'"
      ]
     },
     "metadata": {},
     "output_type": "display_data"
    },
    {
     "data": {
      "text/plain": [
       "'Here is a summary of numerical variables in the data frame dt1\\n'"
      ]
     },
     "metadata": {},
     "output_type": "display_data"
    },
    {
     "data": {
      "text/html": [
       "<div>\n",
       "<style scoped>\n",
       "    .dataframe tbody tr th:only-of-type {\n",
       "        vertical-align: middle;\n",
       "    }\n",
       "\n",
       "    .dataframe tbody tr th {\n",
       "        vertical-align: top;\n",
       "    }\n",
       "\n",
       "    .dataframe thead th {\n",
       "        text-align: right;\n",
       "    }\n",
       "</style>\n",
       "<table border=\"1\" class=\"dataframe\">\n",
       "  <thead>\n",
       "    <tr style=\"text-align: right;\">\n",
       "      <th></th>\n",
       "      <th>Taxa</th>\n",
       "      <th>Category</th>\n",
       "    </tr>\n",
       "  </thead>\n",
       "  <tbody>\n",
       "    <tr>\n",
       "      <th>count</th>\n",
       "      <td>85</td>\n",
       "      <td>85</td>\n",
       "    </tr>\n",
       "    <tr>\n",
       "      <th>unique</th>\n",
       "      <td>85</td>\n",
       "      <td>11</td>\n",
       "    </tr>\n",
       "    <tr>\n",
       "      <th>top</th>\n",
       "      <td>Acanthophora.spicifera</td>\n",
       "      <td>Other_macroalgae</td>\n",
       "    </tr>\n",
       "    <tr>\n",
       "      <th>freq</th>\n",
       "      <td>1</td>\n",
       "      <td>60</td>\n",
       "    </tr>\n",
       "  </tbody>\n",
       "</table>\n",
       "</div>"
      ],
      "text/plain": [
       "                          Taxa          Category\n",
       "count                       85                85\n",
       "unique                      85                11\n",
       "top     Acanthophora.spicifera  Other_macroalgae\n",
       "freq                         1                60"
      ]
     },
     "metadata": {},
     "output_type": "display_data"
    },
    {
     "data": {
      "text/plain": [
       "'--------------------\\n\\n'"
      ]
     },
     "metadata": {},
     "output_type": "display_data"
    },
    {
     "data": {
      "text/plain": [
       "'The analyses below are basic descriptions of the variables. After testing, they should be replaced.\\n'"
      ]
     },
     "metadata": {},
     "output_type": "display_data"
    },
    {
     "data": {
      "text/plain": [
       "count                         85\n",
       "unique                        85\n",
       "top       Acanthophora.spicifera\n",
       "freq                           1\n",
       "Name: Taxa, dtype: object"
      ]
     },
     "metadata": {},
     "output_type": "display_data"
    },
    {
     "data": {
      "text/plain": [
       "'--------------------\\n\\n'"
      ]
     },
     "metadata": {},
     "output_type": "display_data"
    },
    {
     "data": {
      "text/plain": [
       "count                   85\n",
       "unique                  11\n",
       "top       Other_macroalgae\n",
       "freq                    60\n",
       "Name: Category, dtype: object"
      ]
     },
     "metadata": {},
     "output_type": "display_data"
    },
    {
     "data": {
      "text/plain": [
       "'--------------------\\n\\n'"
      ]
     },
     "metadata": {},
     "output_type": "display_data"
    },
    {
     "data": {
      "text/plain": [
       "'Here is a description of the data frame dt2 and number of lines\\n'"
      ]
     },
     "metadata": {},
     "output_type": "display_data"
    },
    {
     "name": "stdout",
     "output_type": "stream",
     "text": [
      "<class 'pandas.core.frame.DataFrame'>\n",
      "RangeIndex: 6 entries, 0 to 5\n",
      "Data columns (total 6 columns):\n",
      " #   Column    Non-Null Count  Dtype   \n",
      "---  ------    --------------  -----   \n",
      " 0   Site      6 non-null      category\n",
      " 1   lsmean    6 non-null      float64 \n",
      " 2   SE        6 non-null      float64 \n",
      " 3   df        6 non-null      int64   \n",
      " 4   lower_CL  6 non-null      float64 \n",
      " 5   upper_CL  6 non-null      float64 \n",
      "dtypes: category(1), float64(4), int64(1)\n",
      "memory usage: 594.0 bytes\n"
     ]
    },
    {
     "data": {
      "text/plain": [
       "None"
      ]
     },
     "metadata": {},
     "output_type": "display_data"
    },
    {
     "data": {
      "text/plain": [
       "'--------------------\\n\\n'"
      ]
     },
     "metadata": {},
     "output_type": "display_data"
    },
    {
     "data": {
      "text/plain": [
       "'Here is a summary of numerical variables in the data frame dt2\\n'"
      ]
     },
     "metadata": {},
     "output_type": "display_data"
    },
    {
     "data": {
      "text/html": [
       "<div>\n",
       "<style scoped>\n",
       "    .dataframe tbody tr th:only-of-type {\n",
       "        vertical-align: middle;\n",
       "    }\n",
       "\n",
       "    .dataframe tbody tr th {\n",
       "        vertical-align: top;\n",
       "    }\n",
       "\n",
       "    .dataframe thead th {\n",
       "        text-align: right;\n",
       "    }\n",
       "</style>\n",
       "<table border=\"1\" class=\"dataframe\">\n",
       "  <thead>\n",
       "    <tr style=\"text-align: right;\">\n",
       "      <th></th>\n",
       "      <th>lsmean</th>\n",
       "      <th>SE</th>\n",
       "      <th>df</th>\n",
       "      <th>lower_CL</th>\n",
       "      <th>upper_CL</th>\n",
       "    </tr>\n",
       "  </thead>\n",
       "  <tbody>\n",
       "    <tr>\n",
       "      <th>count</th>\n",
       "      <td>6.000000</td>\n",
       "      <td>6.000000</td>\n",
       "      <td>6.0</td>\n",
       "      <td>6.000000</td>\n",
       "      <td>6.000000</td>\n",
       "    </tr>\n",
       "    <tr>\n",
       "      <th>mean</th>\n",
       "      <td>0.748211</td>\n",
       "      <td>0.018843</td>\n",
       "      <td>108.0</td>\n",
       "      <td>0.710860</td>\n",
       "      <td>0.785561</td>\n",
       "    </tr>\n",
       "    <tr>\n",
       "      <th>std</th>\n",
       "      <td>0.033885</td>\n",
       "      <td>0.000552</td>\n",
       "      <td>0.0</td>\n",
       "      <td>0.034608</td>\n",
       "      <td>0.033182</td>\n",
       "    </tr>\n",
       "    <tr>\n",
       "      <th>min</th>\n",
       "      <td>0.708692</td>\n",
       "      <td>0.018487</td>\n",
       "      <td>108.0</td>\n",
       "      <td>0.669929</td>\n",
       "      <td>0.747454</td>\n",
       "    </tr>\n",
       "    <tr>\n",
       "      <th>25%</th>\n",
       "      <td>0.726827</td>\n",
       "      <td>0.018487</td>\n",
       "      <td>108.0</td>\n",
       "      <td>0.689653</td>\n",
       "      <td>0.764001</td>\n",
       "    </tr>\n",
       "    <tr>\n",
       "      <th>50%</th>\n",
       "      <td>0.738392</td>\n",
       "      <td>0.018487</td>\n",
       "      <td>108.0</td>\n",
       "      <td>0.700688</td>\n",
       "      <td>0.776095</td>\n",
       "    </tr>\n",
       "    <tr>\n",
       "      <th>75%</th>\n",
       "      <td>0.777090</td>\n",
       "      <td>0.019288</td>\n",
       "      <td>108.0</td>\n",
       "      <td>0.740445</td>\n",
       "      <td>0.813735</td>\n",
       "    </tr>\n",
       "    <tr>\n",
       "      <th>max</th>\n",
       "      <td>0.790826</td>\n",
       "      <td>0.019556</td>\n",
       "      <td>108.0</td>\n",
       "      <td>0.754181</td>\n",
       "      <td>0.827471</td>\n",
       "    </tr>\n",
       "  </tbody>\n",
       "</table>\n",
       "</div>"
      ],
      "text/plain": [
       "         lsmean        SE     df  lower_CL  upper_CL\n",
       "count  6.000000  6.000000    6.0  6.000000  6.000000\n",
       "mean   0.748211  0.018843  108.0  0.710860  0.785561\n",
       "std    0.033885  0.000552    0.0  0.034608  0.033182\n",
       "min    0.708692  0.018487  108.0  0.669929  0.747454\n",
       "25%    0.726827  0.018487  108.0  0.689653  0.764001\n",
       "50%    0.738392  0.018487  108.0  0.700688  0.776095\n",
       "75%    0.777090  0.019288  108.0  0.740445  0.813735\n",
       "max    0.790826  0.019556  108.0  0.754181  0.827471"
      ]
     },
     "metadata": {},
     "output_type": "display_data"
    },
    {
     "data": {
      "text/plain": [
       "'--------------------\\n\\n'"
      ]
     },
     "metadata": {},
     "output_type": "display_data"
    },
    {
     "data": {
      "text/plain": [
       "'The analyses below are basic descriptions of the variables. After testing, they should be replaced.\\n'"
      ]
     },
     "metadata": {},
     "output_type": "display_data"
    },
    {
     "data": {
      "text/plain": [
       "count          6\n",
       "unique         6\n",
       "top       LTER 1\n",
       "freq           1\n",
       "Name: Site, dtype: object"
      ]
     },
     "metadata": {},
     "output_type": "display_data"
    },
    {
     "data": {
      "text/plain": [
       "'--------------------\\n\\n'"
      ]
     },
     "metadata": {},
     "output_type": "display_data"
    },
    {
     "data": {
      "text/plain": [
       "count    6.000000\n",
       "mean     0.748211\n",
       "std      0.033885\n",
       "min      0.708692\n",
       "25%      0.726827\n",
       "50%      0.738392\n",
       "75%      0.777090\n",
       "max      0.790826\n",
       "Name: lsmean, dtype: float64"
      ]
     },
     "metadata": {},
     "output_type": "display_data"
    },
    {
     "data": {
      "text/plain": [
       "'--------------------\\n\\n'"
      ]
     },
     "metadata": {},
     "output_type": "display_data"
    },
    {
     "data": {
      "text/plain": [
       "count    6.000000\n",
       "mean     0.018843\n",
       "std      0.000552\n",
       "min      0.018487\n",
       "25%      0.018487\n",
       "50%      0.018487\n",
       "75%      0.019288\n",
       "max      0.019556\n",
       "Name: SE, dtype: float64"
      ]
     },
     "metadata": {},
     "output_type": "display_data"
    },
    {
     "data": {
      "text/plain": [
       "'--------------------\\n\\n'"
      ]
     },
     "metadata": {},
     "output_type": "display_data"
    },
    {
     "data": {
      "text/plain": [
       "count      6.0\n",
       "mean     108.0\n",
       "std        0.0\n",
       "min      108.0\n",
       "25%      108.0\n",
       "50%      108.0\n",
       "75%      108.0\n",
       "max      108.0\n",
       "Name: df, dtype: float64"
      ]
     },
     "metadata": {},
     "output_type": "display_data"
    },
    {
     "data": {
      "text/plain": [
       "'--------------------\\n\\n'"
      ]
     },
     "metadata": {},
     "output_type": "display_data"
    },
    {
     "data": {
      "text/plain": [
       "count    6.000000\n",
       "mean     0.710860\n",
       "std      0.034608\n",
       "min      0.669929\n",
       "25%      0.689653\n",
       "50%      0.700688\n",
       "75%      0.740445\n",
       "max      0.754181\n",
       "Name: lower_CL, dtype: float64"
      ]
     },
     "metadata": {},
     "output_type": "display_data"
    },
    {
     "data": {
      "text/plain": [
       "'--------------------\\n\\n'"
      ]
     },
     "metadata": {},
     "output_type": "display_data"
    },
    {
     "data": {
      "text/plain": [
       "count    6.000000\n",
       "mean     0.785561\n",
       "std      0.033182\n",
       "min      0.747454\n",
       "25%      0.764001\n",
       "50%      0.776095\n",
       "75%      0.813735\n",
       "max      0.827471\n",
       "Name: upper_CL, dtype: float64"
      ]
     },
     "metadata": {},
     "output_type": "display_data"
    },
    {
     "data": {
      "text/plain": [
       "'--------------------\\n\\n'"
      ]
     },
     "metadata": {},
     "output_type": "display_data"
    },
    {
     "data": {
      "text/plain": [
       "'Here is a description of the data frame dt3 and number of lines\\n'"
      ]
     },
     "metadata": {},
     "output_type": "display_data"
    },
    {
     "name": "stdout",
     "output_type": "stream",
     "text": [
      "<class 'pandas.core.frame.DataFrame'>\n",
      "RangeIndex: 190 entries, 0 to 189\n",
      "Data columns (total 11 columns):\n",
      " #   Column          Non-Null Count  Dtype   \n",
      "---  ------          --------------  -----   \n",
      " 0   Point           190 non-null    category\n",
      " 1   Latitude        190 non-null    float64 \n",
      " 2   Longitude       190 non-null    float64 \n",
      " 3   Island_shore    190 non-null    category\n",
      " 4   Habitat         190 non-null    category\n",
      " 5   Percent_N_Jan   184 non-null    float64 \n",
      " 6   Percent_N_May   171 non-null    float64 \n",
      " 7   Percent_N_July  173 non-null    float64 \n",
      " 8   d15NNorm_Jan    184 non-null    float64 \n",
      " 9   d15NNorm_May    171 non-null    float64 \n",
      " 10  d15NNorm_July   169 non-null    float64 \n",
      "dtypes: category(3), float64(8)\n",
      "memory usage: 18.6 KB\n"
     ]
    },
    {
     "data": {
      "text/plain": [
       "None"
      ]
     },
     "metadata": {},
     "output_type": "display_data"
    },
    {
     "data": {
      "text/plain": [
       "'--------------------\\n\\n'"
      ]
     },
     "metadata": {},
     "output_type": "display_data"
    },
    {
     "data": {
      "text/plain": [
       "'Here is a summary of numerical variables in the data frame dt3\\n'"
      ]
     },
     "metadata": {},
     "output_type": "display_data"
    },
    {
     "data": {
      "text/html": [
       "<div>\n",
       "<style scoped>\n",
       "    .dataframe tbody tr th:only-of-type {\n",
       "        vertical-align: middle;\n",
       "    }\n",
       "\n",
       "    .dataframe tbody tr th {\n",
       "        vertical-align: top;\n",
       "    }\n",
       "\n",
       "    .dataframe thead th {\n",
       "        text-align: right;\n",
       "    }\n",
       "</style>\n",
       "<table border=\"1\" class=\"dataframe\">\n",
       "  <thead>\n",
       "    <tr style=\"text-align: right;\">\n",
       "      <th></th>\n",
       "      <th>Latitude</th>\n",
       "      <th>Longitude</th>\n",
       "      <th>Percent_N_Jan</th>\n",
       "      <th>Percent_N_May</th>\n",
       "      <th>Percent_N_July</th>\n",
       "      <th>d15NNorm_Jan</th>\n",
       "      <th>d15NNorm_May</th>\n",
       "      <th>d15NNorm_July</th>\n",
       "    </tr>\n",
       "  </thead>\n",
       "  <tbody>\n",
       "    <tr>\n",
       "      <th>count</th>\n",
       "      <td>190.000000</td>\n",
       "      <td>190.000000</td>\n",
       "      <td>184.000000</td>\n",
       "      <td>171.000000</td>\n",
       "      <td>173.000000</td>\n",
       "      <td>184.000000</td>\n",
       "      <td>171.000000</td>\n",
       "      <td>169.000000</td>\n",
       "    </tr>\n",
       "    <tr>\n",
       "      <th>mean</th>\n",
       "      <td>-17.527087</td>\n",
       "      <td>-149.837704</td>\n",
       "      <td>0.427337</td>\n",
       "      <td>0.522047</td>\n",
       "      <td>0.410000</td>\n",
       "      <td>3.391386</td>\n",
       "      <td>3.710029</td>\n",
       "      <td>3.750207</td>\n",
       "    </tr>\n",
       "    <tr>\n",
       "      <th>std</th>\n",
       "      <td>0.042865</td>\n",
       "      <td>0.049008</td>\n",
       "      <td>0.066847</td>\n",
       "      <td>0.072671</td>\n",
       "      <td>0.083003</td>\n",
       "      <td>0.586022</td>\n",
       "      <td>0.617436</td>\n",
       "      <td>0.761896</td>\n",
       "    </tr>\n",
       "    <tr>\n",
       "      <th>min</th>\n",
       "      <td>-17.604108</td>\n",
       "      <td>-149.924037</td>\n",
       "      <td>0.290000</td>\n",
       "      <td>0.370000</td>\n",
       "      <td>0.210000</td>\n",
       "      <td>1.570000</td>\n",
       "      <td>2.320000</td>\n",
       "      <td>2.060000</td>\n",
       "    </tr>\n",
       "    <tr>\n",
       "      <th>25%</th>\n",
       "      <td>-17.566569</td>\n",
       "      <td>-149.878949</td>\n",
       "      <td>0.380000</td>\n",
       "      <td>0.470000</td>\n",
       "      <td>0.350000</td>\n",
       "      <td>3.070000</td>\n",
       "      <td>3.275000</td>\n",
       "      <td>3.220000</td>\n",
       "    </tr>\n",
       "    <tr>\n",
       "      <th>50%</th>\n",
       "      <td>-17.519756</td>\n",
       "      <td>-149.837783</td>\n",
       "      <td>0.420000</td>\n",
       "      <td>0.520000</td>\n",
       "      <td>0.400000</td>\n",
       "      <td>3.432500</td>\n",
       "      <td>3.660000</td>\n",
       "      <td>3.650000</td>\n",
       "    </tr>\n",
       "    <tr>\n",
       "      <th>75%</th>\n",
       "      <td>-17.486626</td>\n",
       "      <td>-149.793636</td>\n",
       "      <td>0.470000</td>\n",
       "      <td>0.570000</td>\n",
       "      <td>0.460000</td>\n",
       "      <td>3.722500</td>\n",
       "      <td>4.100000</td>\n",
       "      <td>4.250000</td>\n",
       "    </tr>\n",
       "    <tr>\n",
       "      <th>max</th>\n",
       "      <td>-17.471870</td>\n",
       "      <td>-149.757646</td>\n",
       "      <td>0.630000</td>\n",
       "      <td>0.720000</td>\n",
       "      <td>0.700000</td>\n",
       "      <td>5.120000</td>\n",
       "      <td>5.640000</td>\n",
       "      <td>6.250000</td>\n",
       "    </tr>\n",
       "  </tbody>\n",
       "</table>\n",
       "</div>"
      ],
      "text/plain": [
       "         Latitude   Longitude  Percent_N_Jan  Percent_N_May  Percent_N_July  \\\n",
       "count  190.000000  190.000000     184.000000     171.000000      173.000000   \n",
       "mean   -17.527087 -149.837704       0.427337       0.522047        0.410000   \n",
       "std      0.042865    0.049008       0.066847       0.072671        0.083003   \n",
       "min    -17.604108 -149.924037       0.290000       0.370000        0.210000   \n",
       "25%    -17.566569 -149.878949       0.380000       0.470000        0.350000   \n",
       "50%    -17.519756 -149.837783       0.420000       0.520000        0.400000   \n",
       "75%    -17.486626 -149.793636       0.470000       0.570000        0.460000   \n",
       "max    -17.471870 -149.757646       0.630000       0.720000        0.700000   \n",
       "\n",
       "       d15NNorm_Jan  d15NNorm_May  d15NNorm_July  \n",
       "count    184.000000    171.000000     169.000000  \n",
       "mean       3.391386      3.710029       3.750207  \n",
       "std        0.586022      0.617436       0.761896  \n",
       "min        1.570000      2.320000       2.060000  \n",
       "25%        3.070000      3.275000       3.220000  \n",
       "50%        3.432500      3.660000       3.650000  \n",
       "75%        3.722500      4.100000       4.250000  \n",
       "max        5.120000      5.640000       6.250000  "
      ]
     },
     "metadata": {},
     "output_type": "display_data"
    },
    {
     "data": {
      "text/plain": [
       "'--------------------\\n\\n'"
      ]
     },
     "metadata": {},
     "output_type": "display_data"
    },
    {
     "data": {
      "text/plain": [
       "'The analyses below are basic descriptions of the variables. After testing, they should be replaced.\\n'"
      ]
     },
     "metadata": {},
     "output_type": "display_data"
    },
    {
     "data": {
      "text/plain": [
       "count     190\n",
       "unique    190\n",
       "top         1\n",
       "freq        1\n",
       "Name: Point, dtype: object"
      ]
     },
     "metadata": {},
     "output_type": "display_data"
    },
    {
     "data": {
      "text/plain": [
       "'--------------------\\n\\n'"
      ]
     },
     "metadata": {},
     "output_type": "display_data"
    },
    {
     "data": {
      "text/plain": [
       "count    190.000000\n",
       "mean     -17.527087\n",
       "std        0.042865\n",
       "min      -17.604108\n",
       "25%      -17.566569\n",
       "50%      -17.519756\n",
       "75%      -17.486626\n",
       "max      -17.471870\n",
       "Name: Latitude, dtype: float64"
      ]
     },
     "metadata": {},
     "output_type": "display_data"
    },
    {
     "data": {
      "text/plain": [
       "'--------------------\\n\\n'"
      ]
     },
     "metadata": {},
     "output_type": "display_data"
    },
    {
     "data": {
      "text/plain": [
       "count    190.000000\n",
       "mean    -149.837704\n",
       "std        0.049008\n",
       "min     -149.924037\n",
       "25%     -149.878949\n",
       "50%     -149.837783\n",
       "75%     -149.793636\n",
       "max     -149.757646\n",
       "Name: Longitude, dtype: float64"
      ]
     },
     "metadata": {},
     "output_type": "display_data"
    },
    {
     "data": {
      "text/plain": [
       "'--------------------\\n\\n'"
      ]
     },
     "metadata": {},
     "output_type": "display_data"
    },
    {
     "data": {
      "text/plain": [
       "count     190\n",
       "unique      3\n",
       "top         N\n",
       "freq       75\n",
       "Name: Island_shore, dtype: object"
      ]
     },
     "metadata": {},
     "output_type": "display_data"
    },
    {
     "data": {
      "text/plain": [
       "'--------------------\\n\\n'"
      ]
     },
     "metadata": {},
     "output_type": "display_data"
    },
    {
     "data": {
      "text/plain": [
       "count               190\n",
       "unique                5\n",
       "top       Fringing reef\n",
       "freq                 76\n",
       "Name: Habitat, dtype: object"
      ]
     },
     "metadata": {},
     "output_type": "display_data"
    },
    {
     "data": {
      "text/plain": [
       "'--------------------\\n\\n'"
      ]
     },
     "metadata": {},
     "output_type": "display_data"
    },
    {
     "data": {
      "text/plain": [
       "count    184.000000\n",
       "mean       0.427337\n",
       "std        0.066847\n",
       "min        0.290000\n",
       "25%        0.380000\n",
       "50%        0.420000\n",
       "75%        0.470000\n",
       "max        0.630000\n",
       "Name: Percent_N_Jan, dtype: float64"
      ]
     },
     "metadata": {},
     "output_type": "display_data"
    },
    {
     "data": {
      "text/plain": [
       "'--------------------\\n\\n'"
      ]
     },
     "metadata": {},
     "output_type": "display_data"
    },
    {
     "data": {
      "text/plain": [
       "count    171.000000\n",
       "mean       0.522047\n",
       "std        0.072671\n",
       "min        0.370000\n",
       "25%        0.470000\n",
       "50%        0.520000\n",
       "75%        0.570000\n",
       "max        0.720000\n",
       "Name: Percent_N_May, dtype: float64"
      ]
     },
     "metadata": {},
     "output_type": "display_data"
    },
    {
     "data": {
      "text/plain": [
       "'--------------------\\n\\n'"
      ]
     },
     "metadata": {},
     "output_type": "display_data"
    },
    {
     "data": {
      "text/plain": [
       "count    173.000000\n",
       "mean       0.410000\n",
       "std        0.083003\n",
       "min        0.210000\n",
       "25%        0.350000\n",
       "50%        0.400000\n",
       "75%        0.460000\n",
       "max        0.700000\n",
       "Name: Percent_N_July, dtype: float64"
      ]
     },
     "metadata": {},
     "output_type": "display_data"
    },
    {
     "data": {
      "text/plain": [
       "'--------------------\\n\\n'"
      ]
     },
     "metadata": {},
     "output_type": "display_data"
    },
    {
     "data": {
      "text/plain": [
       "count    184.000000\n",
       "mean       3.391386\n",
       "std        0.586022\n",
       "min        1.570000\n",
       "25%        3.070000\n",
       "50%        3.432500\n",
       "75%        3.722500\n",
       "max        5.120000\n",
       "Name: d15NNorm_Jan, dtype: float64"
      ]
     },
     "metadata": {},
     "output_type": "display_data"
    },
    {
     "data": {
      "text/plain": [
       "'--------------------\\n\\n'"
      ]
     },
     "metadata": {},
     "output_type": "display_data"
    },
    {
     "data": {
      "text/plain": [
       "count    171.000000\n",
       "mean       3.710029\n",
       "std        0.617436\n",
       "min        2.320000\n",
       "25%        3.275000\n",
       "50%        3.660000\n",
       "75%        4.100000\n",
       "max        5.640000\n",
       "Name: d15NNorm_May, dtype: float64"
      ]
     },
     "metadata": {},
     "output_type": "display_data"
    },
    {
     "data": {
      "text/plain": [
       "'--------------------\\n\\n'"
      ]
     },
     "metadata": {},
     "output_type": "display_data"
    },
    {
     "data": {
      "text/plain": [
       "count    169.000000\n",
       "mean       3.750207\n",
       "std        0.761896\n",
       "min        2.060000\n",
       "25%        3.220000\n",
       "50%        3.650000\n",
       "75%        4.250000\n",
       "max        6.250000\n",
       "Name: d15NNorm_July, dtype: float64"
      ]
     },
     "metadata": {},
     "output_type": "display_data"
    },
    {
     "data": {
      "text/plain": [
       "'--------------------\\n\\n'"
      ]
     },
     "metadata": {},
     "output_type": "display_data"
    },
    {
     "data": {
      "text/plain": [
       "'Here is a description of the data frame dt4 and number of lines\\n'"
      ]
     },
     "metadata": {},
     "output_type": "display_data"
    },
    {
     "name": "stdout",
     "output_type": "stream",
     "text": [
      "<class 'pandas.core.frame.DataFrame'>\n",
      "RangeIndex: 102 entries, 0 to 101\n",
      "Data columns (total 2 columns):\n",
      " #   Column  Non-Null Count  Dtype  \n",
      "---  ------  --------------  -----  \n",
      " 0   X       102 non-null    float64\n",
      " 1   Y       102 non-null    float64\n",
      "dtypes: float64(2)\n",
      "memory usage: 1.7 KB\n"
     ]
    },
    {
     "data": {
      "text/plain": [
       "None"
      ]
     },
     "metadata": {},
     "output_type": "display_data"
    },
    {
     "data": {
      "text/plain": [
       "'--------------------\\n\\n'"
      ]
     },
     "metadata": {},
     "output_type": "display_data"
    },
    {
     "data": {
      "text/plain": [
       "'Here is a summary of numerical variables in the data frame dt4\\n'"
      ]
     },
     "metadata": {},
     "output_type": "display_data"
    },
    {
     "data": {
      "text/html": [
       "<div>\n",
       "<style scoped>\n",
       "    .dataframe tbody tr th:only-of-type {\n",
       "        vertical-align: middle;\n",
       "    }\n",
       "\n",
       "    .dataframe tbody tr th {\n",
       "        vertical-align: top;\n",
       "    }\n",
       "\n",
       "    .dataframe thead th {\n",
       "        text-align: right;\n",
       "    }\n",
       "</style>\n",
       "<table border=\"1\" class=\"dataframe\">\n",
       "  <thead>\n",
       "    <tr style=\"text-align: right;\">\n",
       "      <th></th>\n",
       "      <th>X</th>\n",
       "      <th>Y</th>\n",
       "    </tr>\n",
       "  </thead>\n",
       "  <tbody>\n",
       "    <tr>\n",
       "      <th>count</th>\n",
       "      <td>102.000000</td>\n",
       "      <td>1.020000e+02</td>\n",
       "    </tr>\n",
       "    <tr>\n",
       "      <th>mean</th>\n",
       "      <td>199057.560652</td>\n",
       "      <td>8.059683e+06</td>\n",
       "    </tr>\n",
       "    <tr>\n",
       "      <th>std</th>\n",
       "      <td>5487.638625</td>\n",
       "      <td>4.597392e+03</td>\n",
       "    </tr>\n",
       "    <tr>\n",
       "      <th>min</th>\n",
       "      <td>189487.372500</td>\n",
       "      <td>8.051383e+06</td>\n",
       "    </tr>\n",
       "    <tr>\n",
       "      <th>25%</th>\n",
       "      <td>194166.580800</td>\n",
       "      <td>8.055594e+06</td>\n",
       "    </tr>\n",
       "    <tr>\n",
       "      <th>50%</th>\n",
       "      <td>200076.543400</td>\n",
       "      <td>8.060562e+06</td>\n",
       "    </tr>\n",
       "    <tr>\n",
       "      <th>75%</th>\n",
       "      <td>203983.563550</td>\n",
       "      <td>8.063722e+06</td>\n",
       "    </tr>\n",
       "    <tr>\n",
       "      <th>max</th>\n",
       "      <td>207163.842700</td>\n",
       "      <td>8.066081e+06</td>\n",
       "    </tr>\n",
       "  </tbody>\n",
       "</table>\n",
       "</div>"
      ],
      "text/plain": [
       "                   X             Y\n",
       "count     102.000000  1.020000e+02\n",
       "mean   199057.560652  8.059683e+06\n",
       "std      5487.638625  4.597392e+03\n",
       "min    189487.372500  8.051383e+06\n",
       "25%    194166.580800  8.055594e+06\n",
       "50%    200076.543400  8.060562e+06\n",
       "75%    203983.563550  8.063722e+06\n",
       "max    207163.842700  8.066081e+06"
      ]
     },
     "metadata": {},
     "output_type": "display_data"
    },
    {
     "data": {
      "text/plain": [
       "'--------------------\\n\\n'"
      ]
     },
     "metadata": {},
     "output_type": "display_data"
    },
    {
     "data": {
      "text/plain": [
       "'The analyses below are basic descriptions of the variables. After testing, they should be replaced.\\n'"
      ]
     },
     "metadata": {},
     "output_type": "display_data"
    },
    {
     "data": {
      "text/plain": [
       "count       102.000000\n",
       "mean     199057.560652\n",
       "std        5487.638625\n",
       "min      189487.372500\n",
       "25%      194166.580800\n",
       "50%      200076.543400\n",
       "75%      203983.563550\n",
       "max      207163.842700\n",
       "Name: X, dtype: float64"
      ]
     },
     "metadata": {},
     "output_type": "display_data"
    },
    {
     "data": {
      "text/plain": [
       "'--------------------\\n\\n'"
      ]
     },
     "metadata": {},
     "output_type": "display_data"
    },
    {
     "data": {
      "text/plain": [
       "count    1.020000e+02\n",
       "mean     8.059683e+06\n",
       "std      4.597392e+03\n",
       "min      8.051383e+06\n",
       "25%      8.055594e+06\n",
       "50%      8.060562e+06\n",
       "75%      8.063722e+06\n",
       "max      8.066081e+06\n",
       "Name: Y, dtype: float64"
      ]
     },
     "metadata": {},
     "output_type": "display_data"
    },
    {
     "data": {
      "text/plain": [
       "'--------------------\\n\\n'"
      ]
     },
     "metadata": {},
     "output_type": "display_data"
    },
    {
     "data": {
      "text/plain": [
       "'Here is a description of the data frame dt5 and number of lines\\n'"
      ]
     },
     "metadata": {},
     "output_type": "display_data"
    },
    {
     "name": "stdout",
     "output_type": "stream",
     "text": [
      "<class 'pandas.core.frame.DataFrame'>\n",
      "RangeIndex: 9 entries, 0 to 8\n",
      "Data columns (total 7 columns):\n",
      " #   Column                  Non-Null Count  Dtype   \n",
      "---  ------                  --------------  -----   \n",
      " 0   Shore                   9 non-null      category\n",
      " 1   Season                  9 non-null      category\n",
      " 2   v_3monthDeltawaves      9 non-null      float64 \n",
      " 3   v_6weekDeltawaves       9 non-null      float64 \n",
      " 4   v_3monthDeltawavesprop  9 non-null      float64 \n",
      " 5   v_6weekDeltawavesprop   9 non-null      float64 \n",
      " 6   Ncorrelation            9 non-null      float64 \n",
      "dtypes: category(2), float64(5)\n",
      "memory usage: 770.0 bytes\n"
     ]
    },
    {
     "data": {
      "text/plain": [
       "None"
      ]
     },
     "metadata": {},
     "output_type": "display_data"
    },
    {
     "data": {
      "text/plain": [
       "'--------------------\\n\\n'"
      ]
     },
     "metadata": {},
     "output_type": "display_data"
    },
    {
     "data": {
      "text/plain": [
       "'Here is a summary of numerical variables in the data frame dt5\\n'"
      ]
     },
     "metadata": {},
     "output_type": "display_data"
    },
    {
     "data": {
      "text/html": [
       "<div>\n",
       "<style scoped>\n",
       "    .dataframe tbody tr th:only-of-type {\n",
       "        vertical-align: middle;\n",
       "    }\n",
       "\n",
       "    .dataframe tbody tr th {\n",
       "        vertical-align: top;\n",
       "    }\n",
       "\n",
       "    .dataframe thead th {\n",
       "        text-align: right;\n",
       "    }\n",
       "</style>\n",
       "<table border=\"1\" class=\"dataframe\">\n",
       "  <thead>\n",
       "    <tr style=\"text-align: right;\">\n",
       "      <th></th>\n",
       "      <th>v_3monthDeltawaves</th>\n",
       "      <th>v_6weekDeltawaves</th>\n",
       "      <th>v_3monthDeltawavesprop</th>\n",
       "      <th>v_6weekDeltawavesprop</th>\n",
       "      <th>Ncorrelation</th>\n",
       "    </tr>\n",
       "  </thead>\n",
       "  <tbody>\n",
       "    <tr>\n",
       "      <th>count</th>\n",
       "      <td>9.000000</td>\n",
       "      <td>9.000000</td>\n",
       "      <td>9.000000</td>\n",
       "      <td>9.000000</td>\n",
       "      <td>9.000000</td>\n",
       "    </tr>\n",
       "    <tr>\n",
       "      <th>mean</th>\n",
       "      <td>11525.653294</td>\n",
       "      <td>10405.535927</td>\n",
       "      <td>0.577603</td>\n",
       "      <td>0.649362</td>\n",
       "      <td>0.478222</td>\n",
       "    </tr>\n",
       "    <tr>\n",
       "      <th>std</th>\n",
       "      <td>7356.385735</td>\n",
       "      <td>6189.208879</td>\n",
       "      <td>0.416488</td>\n",
       "      <td>0.477046</td>\n",
       "      <td>0.199780</td>\n",
       "    </tr>\n",
       "    <tr>\n",
       "      <th>min</th>\n",
       "      <td>830.287392</td>\n",
       "      <td>2206.937636</td>\n",
       "      <td>0.041046</td>\n",
       "      <td>0.076746</td>\n",
       "      <td>0.192000</td>\n",
       "    </tr>\n",
       "    <tr>\n",
       "      <th>25%</th>\n",
       "      <td>9487.386291</td>\n",
       "      <td>7020.970466</td>\n",
       "      <td>0.381012</td>\n",
       "      <td>0.455558</td>\n",
       "      <td>0.338000</td>\n",
       "    </tr>\n",
       "    <tr>\n",
       "      <th>50%</th>\n",
       "      <td>11927.309880</td>\n",
       "      <td>10493.491550</td>\n",
       "      <td>0.469014</td>\n",
       "      <td>0.593282</td>\n",
       "      <td>0.426000</td>\n",
       "    </tr>\n",
       "    <tr>\n",
       "      <th>75%</th>\n",
       "      <td>14261.434370</td>\n",
       "      <td>16537.908570</td>\n",
       "      <td>0.807287</td>\n",
       "      <td>0.669496</td>\n",
       "      <td>0.704000</td>\n",
       "    </tr>\n",
       "    <tr>\n",
       "      <th>max</th>\n",
       "      <td>25271.535360</td>\n",
       "      <td>18744.846210</td>\n",
       "      <td>1.281869</td>\n",
       "      <td>1.676995</td>\n",
       "      <td>0.747000</td>\n",
       "    </tr>\n",
       "  </tbody>\n",
       "</table>\n",
       "</div>"
      ],
      "text/plain": [
       "       v_3monthDeltawaves  v_6weekDeltawaves  v_3monthDeltawavesprop  \\\n",
       "count            9.000000           9.000000                9.000000   \n",
       "mean         11525.653294       10405.535927                0.577603   \n",
       "std           7356.385735        6189.208879                0.416488   \n",
       "min            830.287392        2206.937636                0.041046   \n",
       "25%           9487.386291        7020.970466                0.381012   \n",
       "50%          11927.309880       10493.491550                0.469014   \n",
       "75%          14261.434370       16537.908570                0.807287   \n",
       "max          25271.535360       18744.846210                1.281869   \n",
       "\n",
       "       v_6weekDeltawavesprop  Ncorrelation  \n",
       "count               9.000000      9.000000  \n",
       "mean                0.649362      0.478222  \n",
       "std                 0.477046      0.199780  \n",
       "min                 0.076746      0.192000  \n",
       "25%                 0.455558      0.338000  \n",
       "50%                 0.593282      0.426000  \n",
       "75%                 0.669496      0.704000  \n",
       "max                 1.676995      0.747000  "
      ]
     },
     "metadata": {},
     "output_type": "display_data"
    },
    {
     "data": {
      "text/plain": [
       "'--------------------\\n\\n'"
      ]
     },
     "metadata": {},
     "output_type": "display_data"
    },
    {
     "data": {
      "text/plain": [
       "'The analyses below are basic descriptions of the variables. After testing, they should be replaced.\\n'"
      ]
     },
     "metadata": {},
     "output_type": "display_data"
    },
    {
     "data": {
      "text/plain": [
       "count          9\n",
       "unique         3\n",
       "top       nshore\n",
       "freq           3\n",
       "Name: Shore, dtype: object"
      ]
     },
     "metadata": {},
     "output_type": "display_data"
    },
    {
     "data": {
      "text/plain": [
       "'--------------------\\n\\n'"
      ]
     },
     "metadata": {},
     "output_type": "display_data"
    },
    {
     "data": {
      "text/plain": [
       "count           9\n",
       "unique          3\n",
       "top       JanJuly\n",
       "freq            3\n",
       "Name: Season, dtype: object"
      ]
     },
     "metadata": {},
     "output_type": "display_data"
    },
    {
     "data": {
      "text/plain": [
       "'--------------------\\n\\n'"
      ]
     },
     "metadata": {},
     "output_type": "display_data"
    },
    {
     "data": {
      "text/plain": [
       "count        9.000000\n",
       "mean     11525.653294\n",
       "std       7356.385735\n",
       "min        830.287392\n",
       "25%       9487.386291\n",
       "50%      11927.309880\n",
       "75%      14261.434370\n",
       "max      25271.535360\n",
       "Name: v_3monthDeltawaves, dtype: float64"
      ]
     },
     "metadata": {},
     "output_type": "display_data"
    },
    {
     "data": {
      "text/plain": [
       "'--------------------\\n\\n'"
      ]
     },
     "metadata": {},
     "output_type": "display_data"
    },
    {
     "data": {
      "text/plain": [
       "count        9.000000\n",
       "mean     10405.535927\n",
       "std       6189.208879\n",
       "min       2206.937636\n",
       "25%       7020.970466\n",
       "50%      10493.491550\n",
       "75%      16537.908570\n",
       "max      18744.846210\n",
       "Name: v_6weekDeltawaves, dtype: float64"
      ]
     },
     "metadata": {},
     "output_type": "display_data"
    },
    {
     "data": {
      "text/plain": [
       "'--------------------\\n\\n'"
      ]
     },
     "metadata": {},
     "output_type": "display_data"
    },
    {
     "data": {
      "text/plain": [
       "count    9.000000\n",
       "mean     0.577603\n",
       "std      0.416488\n",
       "min      0.041046\n",
       "25%      0.381012\n",
       "50%      0.469014\n",
       "75%      0.807287\n",
       "max      1.281869\n",
       "Name: v_3monthDeltawavesprop, dtype: float64"
      ]
     },
     "metadata": {},
     "output_type": "display_data"
    },
    {
     "data": {
      "text/plain": [
       "'--------------------\\n\\n'"
      ]
     },
     "metadata": {},
     "output_type": "display_data"
    },
    {
     "data": {
      "text/plain": [
       "count    9.000000\n",
       "mean     0.649362\n",
       "std      0.477046\n",
       "min      0.076746\n",
       "25%      0.455558\n",
       "50%      0.593282\n",
       "75%      0.669496\n",
       "max      1.676995\n",
       "Name: v_6weekDeltawavesprop, dtype: float64"
      ]
     },
     "metadata": {},
     "output_type": "display_data"
    },
    {
     "data": {
      "text/plain": [
       "'--------------------\\n\\n'"
      ]
     },
     "metadata": {},
     "output_type": "display_data"
    },
    {
     "data": {
      "text/plain": [
       "count    9.000000\n",
       "mean     0.478222\n",
       "std      0.199780\n",
       "min      0.192000\n",
       "25%      0.338000\n",
       "50%      0.426000\n",
       "75%      0.704000\n",
       "max      0.747000\n",
       "Name: Ncorrelation, dtype: float64"
      ]
     },
     "metadata": {},
     "output_type": "display_data"
    },
    {
     "data": {
      "text/plain": [
       "'--------------------\\n\\n'"
      ]
     },
     "metadata": {},
     "output_type": "display_data"
    }
   ],
   "source": [
    "# Package ID: knb-lter-mcr.5038.10 Cataloging System:https://pasta.edirepository.org.\n",
    "# Data set title: MCR LTER: Coral Reef: Landscape-scale patterns of nutrient enrichment in a coral reef ecosystem: implications for coral to algae phase shifts, Adam et al., Ecol. Appl..\n",
    "# Data set creator:    - Moorea Coral Reef LTER \n",
    "# Data set creator:  Deron Burkepile - Moorea Coral Reef LTER \n",
    "# Data set creator:  Tom Adam - Moorea Coral Reef LTER \n",
    "# Metadata Provider:    - Moorea Coral Reef LTER \n",
    "# Contact:    - Information Manager Moorea Coral Reef LTER  - mcrlter@msi.ucsb.edu\n",
    "# Stylesheet v1.0 for metadata conversion into program: John H. Porter, Univ. Virginia, jporter@virginia.edu      \n",
    "# \n",
    "# This program creates numbered PANDA dataframes named dt1,dt2,dt3...,\n",
    "# one for each data table in the dataset. It also provides some basic\n",
    "# summaries of their contents. NumPy and Pandas modules need to be installed\n",
    "# for the program to run. \n",
    "\n",
    "import numpy as np\n",
    "import pandas as pd \n",
    "\n",
    "infile1  = \"https://pasta.lternet.edu/package/data/eml/knb-lter-mcr/5038/10/f8a084a25303fb07541b5a1dbc9dea2d\".strip() \n",
    "                 \n",
    "dt1 =pd.read_csv(infile1 \n",
    "          ,skiprows=1\n",
    "            ,sep=\",\"  \n",
    "                ,quotechar='\"' \n",
    "           , names=[\n",
    "                    \"Taxa\",     \n",
    "                    \"Category\"    ]\n",
    "# data type checking is commented out because it may cause data\n",
    "# loads to fail if the data contains inconsistent values. Uncomment \n",
    "# the following lines to enable data type checking\n",
    "         \n",
    "#            ,dtype={  \n",
    "#             'Taxa':'str' ,  \n",
    "#             'Category':'str'  \n",
    "#        }\n",
    "    )\n",
    "# Coerce the data into the types specified in the metadata  \n",
    "dt1.Taxa=dt1.Taxa.astype('category')  \n",
    "dt1.Category=dt1.Category.astype('category') \n",
    "      \n",
    "display(\"Here is a description of the data frame dt1 and number of lines\\n\")\n",
    "display(dt1.info())\n",
    "display(\"--------------------\\n\\n\")                \n",
    "display(\"Here is a summary of numerical variables in the data frame dt1\\n\")\n",
    "display(dt1.describe())\n",
    "display(\"--------------------\\n\\n\")                \n",
    "                         \n",
    "display(\"The analyses below are basic descriptions of the variables. After testing, they should be replaced.\\n\")                 \n",
    "\n",
    "display(dt1.Taxa.describe())               \n",
    "display(\"--------------------\\n\\n\")\n",
    "                    \n",
    "display(dt1.Category.describe())               \n",
    "display(\"--------------------\\n\\n\")\n",
    "                    \n",
    "                    \n",
    "                 \n",
    "\n",
    "infile2  =\"https://pasta.lternet.edu/package/data/eml/knb-lter-mcr/5038/10/5b9e129d63e9f05764a85342cdcf9175\".strip() \n",
    "infile2  = infile2.replace(\"https://\",\"http://\")\n",
    "                 \n",
    "dt2 =pd.read_csv(infile2 \n",
    "          ,skiprows=1\n",
    "            ,sep=\",\"  \n",
    "                ,quotechar='\"' \n",
    "           , names=[\n",
    "                    \"Site\",     \n",
    "                    \"lsmean\",     \n",
    "                    \"SE\",     \n",
    "                    \"df\",     \n",
    "                    \"lower_CL\",     \n",
    "                    \"upper_CL\"    ]\n",
    "# data type checking is commented out because it may cause data\n",
    "# loads to fail if the data contains inconsistent values. Uncomment \n",
    "# the following lines to enable data type checking\n",
    "         \n",
    "#            ,dtype={  \n",
    "#             'Site':'str' , \n",
    "#             'lsmean':'float' , \n",
    "#             'SE':'float' , \n",
    "#             'df':'float' , \n",
    "#             'lower_CL':'float' , \n",
    "#             'upper_CL':'float'  \n",
    "#        }\n",
    "    )\n",
    "# Coerce the data into the types specified in the metadata  \n",
    "dt2.Site=dt2.Site.astype('category') \n",
    "dt2.lsmean=pd.to_numeric(dt2.lsmean,errors='coerce') \n",
    "dt2.SE=pd.to_numeric(dt2.SE,errors='coerce') \n",
    "dt2.df=pd.to_numeric(dt2.df,errors='coerce') \n",
    "dt2.lower_CL=pd.to_numeric(dt2.lower_CL,errors='coerce') \n",
    "dt2.upper_CL=pd.to_numeric(dt2.upper_CL,errors='coerce') \n",
    "      \n",
    "display(\"Here is a description of the data frame dt2 and number of lines\\n\")\n",
    "display(dt2.info())\n",
    "display(\"--------------------\\n\\n\")                \n",
    "display(\"Here is a summary of numerical variables in the data frame dt2\\n\")\n",
    "display(dt2.describe())\n",
    "display(\"--------------------\\n\\n\")                \n",
    "                         \n",
    "display(\"The analyses below are basic descriptions of the variables. After testing, they should be replaced.\\n\")                 \n",
    "\n",
    "display(dt2.Site.describe())               \n",
    "display(\"--------------------\\n\\n\")\n",
    "                    \n",
    "display(dt2.lsmean.describe())               \n",
    "display(\"--------------------\\n\\n\")\n",
    "                    \n",
    "display(dt2.SE.describe())               \n",
    "display(\"--------------------\\n\\n\")\n",
    "                    \n",
    "display(dt2.df.describe())               \n",
    "display(\"--------------------\\n\\n\")\n",
    "                    \n",
    "display(dt2.lower_CL.describe())               \n",
    "display(\"--------------------\\n\\n\")\n",
    "                    \n",
    "display(dt2.upper_CL.describe())               \n",
    "display(\"--------------------\\n\\n\")\n",
    "                    \n",
    "                    \n",
    "                 \n",
    "\n",
    "infile3  =\"https://pasta.lternet.edu/package/data/eml/knb-lter-mcr/5038/10/c80250c11f1bb28deb0854c25b5c6fe1\".strip() \n",
    "infile3  = infile3.replace(\"https://\",\"http://\")\n",
    "                 \n",
    "dt3 =pd.read_csv(infile3 \n",
    "          ,skiprows=1\n",
    "            ,sep=\",\"  \n",
    "                ,quotechar='\"' \n",
    "           , names=[\n",
    "                    \"Point\",     \n",
    "                    \"Latitude\",     \n",
    "                    \"Longitude\",     \n",
    "                    \"Island_shore\",     \n",
    "                    \"Habitat\",     \n",
    "                    \"Percent_N_Jan\",     \n",
    "                    \"Percent_N_May\",     \n",
    "                    \"Percent_N_July\",     \n",
    "                    \"d15NNorm_Jan\",     \n",
    "                    \"d15NNorm_May\",     \n",
    "                    \"d15NNorm_July\"    ]\n",
    "# data type checking is commented out because it may cause data\n",
    "# loads to fail if the data contains inconsistent values. Uncomment \n",
    "# the following lines to enable data type checking\n",
    "         \n",
    "#            ,dtype={  \n",
    "#             'Point':'str' , \n",
    "#             'Latitude':'float' , \n",
    "#             'Longitude':'float' ,  \n",
    "#             'Island_shore':'str' ,  \n",
    "#             'Habitat':'str' , \n",
    "#             'Percent_N_Jan':'float' , \n",
    "#             'Percent_N_May':'float' , \n",
    "#             'Percent_N_July':'float' , \n",
    "#             'd15NNorm_Jan':'float' , \n",
    "#             'd15NNorm_May':'float' , \n",
    "#             'd15NNorm_July':'float'  \n",
    "#        }\n",
    "    )\n",
    "# Coerce the data into the types specified in the metadata  \n",
    "dt3.Point=dt3.Point.astype('category') \n",
    "dt3.Latitude=pd.to_numeric(dt3.Latitude,errors='coerce') \n",
    "dt3.Longitude=pd.to_numeric(dt3.Longitude,errors='coerce')  \n",
    "dt3.Island_shore=dt3.Island_shore.astype('category')  \n",
    "dt3.Habitat=dt3.Habitat.astype('category') \n",
    "dt3.Percent_N_Jan=pd.to_numeric(dt3.Percent_N_Jan,errors='coerce') \n",
    "dt3.Percent_N_May=pd.to_numeric(dt3.Percent_N_May,errors='coerce') \n",
    "dt3.Percent_N_July=pd.to_numeric(dt3.Percent_N_July,errors='coerce') \n",
    "dt3.d15NNorm_Jan=pd.to_numeric(dt3.d15NNorm_Jan,errors='coerce') \n",
    "dt3.d15NNorm_May=pd.to_numeric(dt3.d15NNorm_May,errors='coerce') \n",
    "dt3.d15NNorm_July=pd.to_numeric(dt3.d15NNorm_July,errors='coerce') \n",
    "      \n",
    "display(\"Here is a description of the data frame dt3 and number of lines\\n\")\n",
    "display(dt3.info())\n",
    "display(\"--------------------\\n\\n\")                \n",
    "display(\"Here is a summary of numerical variables in the data frame dt3\\n\")\n",
    "display(dt3.describe())\n",
    "display(\"--------------------\\n\\n\")                \n",
    "                         \n",
    "display(\"The analyses below are basic descriptions of the variables. After testing, they should be replaced.\\n\")                 \n",
    "\n",
    "display(dt3.Point.describe())               \n",
    "display(\"--------------------\\n\\n\")\n",
    "                    \n",
    "display(dt3.Latitude.describe())               \n",
    "display(\"--------------------\\n\\n\")\n",
    "                    \n",
    "display(dt3.Longitude.describe())               \n",
    "display(\"--------------------\\n\\n\")\n",
    "                    \n",
    "display(dt3.Island_shore.describe())               \n",
    "display(\"--------------------\\n\\n\")\n",
    "                    \n",
    "display(dt3.Habitat.describe())               \n",
    "display(\"--------------------\\n\\n\")\n",
    "                    \n",
    "display(dt3.Percent_N_Jan.describe())               \n",
    "display(\"--------------------\\n\\n\")\n",
    "                    \n",
    "display(dt3.Percent_N_May.describe())               \n",
    "display(\"--------------------\\n\\n\")\n",
    "                    \n",
    "display(dt3.Percent_N_July.describe())               \n",
    "display(\"--------------------\\n\\n\")\n",
    "                    \n",
    "display(dt3.d15NNorm_Jan.describe())               \n",
    "display(\"--------------------\\n\\n\")\n",
    "                    \n",
    "display(dt3.d15NNorm_May.describe())               \n",
    "display(\"--------------------\\n\\n\")\n",
    "                    \n",
    "display(dt3.d15NNorm_July.describe())               \n",
    "display(\"--------------------\\n\\n\")\n",
    "                    \n",
    "                    \n",
    "                 \n",
    "\n",
    "infile4  =\"https://pasta.lternet.edu/package/data/eml/knb-lter-mcr/5038/10/bfed03abe55d9e4b17212442718f04c0\".strip() \n",
    "infile4  = infile4.replace(\"https://\",\"http://\")\n",
    "                 \n",
    "dt4 =pd.read_csv(infile4 \n",
    "          ,skiprows=1\n",
    "            ,sep=\",\"  \n",
    "                ,quotechar='\"' \n",
    "           , names=[\n",
    "                    \"X\",     \n",
    "                    \"Y\"    ]\n",
    "# data type checking is commented out because it may cause data\n",
    "# loads to fail if the data contains inconsistent values. Uncomment \n",
    "# the following lines to enable data type checking\n",
    "         \n",
    "#            ,dtype={ \n",
    "#             'X':'float' , \n",
    "#             'Y':'float'  \n",
    "#        }\n",
    "    )\n",
    "# Coerce the data into the types specified in the metadata \n",
    "dt4.X=pd.to_numeric(dt4.X,errors='coerce') \n",
    "dt4.Y=pd.to_numeric(dt4.Y,errors='coerce') \n",
    "      \n",
    "display(\"Here is a description of the data frame dt4 and number of lines\\n\")\n",
    "display(dt4.info())\n",
    "display(\"--------------------\\n\\n\")                \n",
    "display(\"Here is a summary of numerical variables in the data frame dt4\\n\")\n",
    "display(dt4.describe())\n",
    "display(\"--------------------\\n\\n\")                \n",
    "                         \n",
    "display(\"The analyses below are basic descriptions of the variables. After testing, they should be replaced.\\n\")                 \n",
    "\n",
    "display(dt4.X.describe())               \n",
    "display(\"--------------------\\n\\n\")\n",
    "                    \n",
    "display(dt4.Y.describe())               \n",
    "display(\"--------------------\\n\\n\")\n",
    "                    \n",
    "                    \n",
    "                 \n",
    "\n",
    "infile5  =\"https://pasta.lternet.edu/package/data/eml/knb-lter-mcr/5038/10/1ec7ba38bc3e787c4998638eca1777a5\".strip() \n",
    "infile5  = infile5.replace(\"https://\",\"http://\")\n",
    "                 \n",
    "dt5 =pd.read_csv(infile5 \n",
    "          ,skiprows=1\n",
    "            ,sep=\",\"  \n",
    "                ,quotechar='\"' \n",
    "           , names=[\n",
    "                    \"Shore\",     \n",
    "                    \"Season\",     \n",
    "                    \"v_3monthDeltawaves\",     \n",
    "                    \"v_6weekDeltawaves\",     \n",
    "                    \"v_3monthDeltawavesprop\",     \n",
    "                    \"v_6weekDeltawavesprop\",     \n",
    "                    \"Ncorrelation\"    ]\n",
    "# data type checking is commented out because it may cause data\n",
    "# loads to fail if the data contains inconsistent values. Uncomment \n",
    "# the following lines to enable data type checking\n",
    "         \n",
    "#            ,dtype={  \n",
    "#             'Shore':'str' ,  \n",
    "#             'Season':'str' , \n",
    "#             'v_3monthDeltawaves':'float' , \n",
    "#             'v_6weekDeltawaves':'float' , \n",
    "#             'v_3monthDeltawavesprop':'float' , \n",
    "#             'v_6weekDeltawavesprop':'float' , \n",
    "#             'Ncorrelation':'float'  \n",
    "#        }\n",
    "    )\n",
    "# Coerce the data into the types specified in the metadata  \n",
    "dt5.Shore=dt5.Shore.astype('category')  \n",
    "dt5.Season=dt5.Season.astype('category') \n",
    "dt5.v_3monthDeltawaves=pd.to_numeric(dt5.v_3monthDeltawaves,errors='coerce') \n",
    "dt5.v_6weekDeltawaves=pd.to_numeric(dt5.v_6weekDeltawaves,errors='coerce') \n",
    "dt5.v_3monthDeltawavesprop=pd.to_numeric(dt5.v_3monthDeltawavesprop,errors='coerce') \n",
    "dt5.v_6weekDeltawavesprop=pd.to_numeric(dt5.v_6weekDeltawavesprop,errors='coerce') \n",
    "dt5.Ncorrelation=pd.to_numeric(dt5.Ncorrelation,errors='coerce') \n",
    "      \n",
    "display(\"Here is a description of the data frame dt5 and number of lines\\n\")\n",
    "display(dt5.info())\n",
    "display(\"--------------------\\n\\n\")                \n",
    "display(\"Here is a summary of numerical variables in the data frame dt5\\n\")\n",
    "display(dt5.describe())\n",
    "display(\"--------------------\\n\\n\")                \n",
    "                         \n",
    "display(\"The analyses below are basic descriptions of the variables. After testing, they should be replaced.\\n\")                 \n",
    "\n",
    "display(dt5.Shore.describe())               \n",
    "display(\"--------------------\\n\\n\")\n",
    "                    \n",
    "display(dt5.Season.describe())               \n",
    "display(\"--------------------\\n\\n\")\n",
    "                    \n",
    "display(dt5.v_3monthDeltawaves.describe())               \n",
    "display(\"--------------------\\n\\n\")\n",
    "                    \n",
    "display(dt5.v_6weekDeltawaves.describe())               \n",
    "display(\"--------------------\\n\\n\")\n",
    "                    \n",
    "display(dt5.v_3monthDeltawavesprop.describe())               \n",
    "display(\"--------------------\\n\\n\")\n",
    "                    \n",
    "display(dt5.v_6weekDeltawavesprop.describe())               \n",
    "display(\"--------------------\\n\\n\")\n",
    "                    \n",
    "display(dt5.Ncorrelation.describe())               \n",
    "display(\"--------------------\\n\\n\")"
   ]
  },
  {
   "cell_type": "code",
   "execution_count": null,
   "id": "92c87b8a-fd78-4f45-b7ea-b1b2c9f452be",
   "metadata": {},
   "outputs": [],
   "source": []
  }
 ],
 "metadata": {
  "kernelspec": {
   "display_name": "Python 3 (ipykernel)",
   "language": "python",
   "name": "python3"
  },
  "language_info": {
   "codemirror_mode": {
    "name": "ipython",
    "version": 3
   },
   "file_extension": ".py",
   "mimetype": "text/x-python",
   "name": "python",
   "nbconvert_exporter": "python",
   "pygments_lexer": "ipython3",
   "version": "3.10.1"
  },
  "widgets": {
   "application/vnd.jupyter.widget-state+json": {
    "state": {},
    "version_major": 2,
    "version_minor": 0
   }
  }
 },
 "nbformat": 4,
 "nbformat_minor": 5
}
