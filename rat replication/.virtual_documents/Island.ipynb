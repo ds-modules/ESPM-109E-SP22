import pandas as pd 
import pandas as harrystyles
print("Harry Styles is a Panda?", harrystyles == pd)
truth = [1, 2, 3, None, 4, harrystyles,
         "Harry Styles", None, None, 
         5 * 2 - 1 / 1e-20, 1]
print(harrystyles.notnull(truth))
print(pd.notnull(truth))

# these lines delete the two imports we just made
del harrystyles
del pd


#necessary to implement `download_data()` [see below]
import requests
from pathlib import Path
import time
#standard data analysis libraries
import numpy as np 
import pandas as pd 
#imports for displaying, rendering, and saving plots and visualizations
import plotly
import plotly.express as px
from IPython.display import *
import plotly.io as pio
import ipywidgets as widgets
from ipywidgets import *
pio.renderers.default='notebook'
def show(x, tags = []):
    for tag in tags:
        x = f"<{tag}>{x}</{tag}>"
    display(Markdown(" "))
    display(Markdown(x))
    display(Markdown(" "))


def download_data(data_url, 
                  file, 
                  data_dir="data", 
                  force=False):
    data_dir = Path(data_dir)
    data_dir.mkdir(exist_ok = True)
    file_path = data_dir / Path(file)

    if force:
        if file_path.exists():
            file_path.unlink()
        
        else:
            print('Downloading...', end=' ')
            resp = requests.get(data_url)
            with file_path.open('wb') as f:
                f.write(resp.content)
            print('Done!')
            last_modified_time = time.ctime(file_path.stat().st_mtime)
        
    else:
        last_modified_time = time.ctime(file_path.stat().st_mtime)
        print("Using cached version that was downloaded (UTC):",
              last_modified_time)
        
    return file_path


def showtable(self, 
         allrows: bool = False, 
         columns: list = ["all"], 
         rows: int = 20, 
         start: int = 0,
         title = None,
         desc = True):
        """
        Display pandas.DataFrame using custom values 

        Parameters
        ----------
        allrows : bool | default ``False``
            Wether or not to show all rows
            
        columns : list | default ``["all"]``
            Default shows all columns. Set to list of 
            column names to select those columns
            
        rows : int | default ``20``
            How mant rows of the DataFrame to display.
            If rows < 0, displays the last 
            ``abs(rows)`` entries
            
        start: int | default ``0``
            What index to start displaying the DataFrame at
        
        Returns
        -------
        None
        """
        if type(title) == str:
            show(title)
        elif title != None:
            show(title[0], title[1])
        settings = ['display.max_rows','display.max_columns',
                        'display.width','display.max_colwidth']
        [pd.set_option(i, None) for i in settings]
        loc, cols = 'head', self.columns
        if rows < 0:
            loc = 'tail'
        if columns != ["all"]:
            cols = columns
        if allrows:
            display(self[cols])
        if start or columns != ['all']:
            display(self[cols].iloc[start:start+rows , :])
        else:
            eval(f"display(self.{loc}({abs(rows)}))")
        [pd.reset_option(i) for i in settings]
        if desc:
            nrow, ncol = self.shape
            show(f"{nrow} Rows x {ncol} Columns", [])
pd.DataFrame.show = showtable


airports = pd.read_csv("data/airports.csv")
airports.show(rows = 3, 
              title = "First 3 rows")
airports.show(rows =3, columns = ['name', 'iata'],
             title = 'First 3 rows with columns "name" and "iata" (in that order)')
airports.show(rows = 3, start = 101,
             title = '3 rows starting with 101')


island_data = download_data(
    "https://datadryad.org/stash/downloads/file_stream/55546", "island.xls")
seedlings = pd.read_excel(island_data, sheet_name = 0)
trees = pd.read_excel(island_data, sheet_name = 1)


seedlings.show(rows = 3)


if 'Transect_ID' in seedlings.columns:
    # this if statement allows you to run this cell
    # multiple times without encountering an error
    seedlings = seedlings.drop(columns="Transect_ID")
seedlings.show(rows = 3, 
               title = 'Removed <code>Transect_ID</code>')
seedlings.columns = ['Pisona Count', "Coco Count", "Year", "Forest"]
seedlings.show(rows = 3, title = 'Relabeled Columns')


if "TreeID" in trees.columns:
    # this if statement allows you to run this cell
    # multiple times without encountering an error
    trees = trees.drop(columns = "TreeID")
trees.show(rows = 3, title = "Removed <code>TreeID</code> Column")
trees.columns = ["Year", "Count", "Tree"]
trees.show(rows = 3, title = "Relabeled Columns")


seedlings.show(rows = 3, title = "Seedlings")
trees.show(rows = 3, title = "Trees")


def add_rats(table):
    def rats_present(x):
        if x > 2010:
            return "No"
        else:
            return "Yes"
    if "Rats" in table.columns:
        show("Rats already exists!")
    else:
        table["Rats"] = table["Year"].map(rats_present)
        show("Rats added")
    return table


for data in [seedlings, trees]:
    data = add_rats(data)


def first(series):
    return series.iloc[0]


def triple_seedling_table(dataframe, genus):
    main = (dataframe[[f'{genus} Count','Year', 'Forest', 'Rats']]
                     .rename(columns = {f'{genus} Count': "Count"}))
    
    forest = (main.drop(columns="Rats")
                   .query("Year == 2016"))
    
    rats = (main.drop(columns="Forest")
                .groupby("Year")
                .agg({"Count": sum, "Rats": first})
                .reset_index())
    return main, forest, rats


def tree_type(table, name):
    tree = (table.query(f"Tree == '{name}'")
              .groupby("Year")
              .agg({"Count": sum, "Rats":first})
              .reset_index())
    return tree


def plot_rats(data, x = None, y = None, color = None, title = None):
    cols = pd.Series(['Year', 'Count', 'Rats'])
    present = cols.isin(data.columns).all()
    if present:
        fig = px.bar(data_frame = data, x='Year', y="Count", color = 'Rats',
                       color_discrete_sequence =['#a63932', '#003262'], 
                       title = title, text_auto = True) #, width = 1000, height = 500)
    else:
        fig = px.bar(data_frame = data, x=x, y=y, color = color,
                       color_discrete_sequence =['#a63932', '#003262'], 
                       title = title) #, width = 1000, height = 500)
    fig.update_xaxes(type = 'category')
    fig.show()


def plot_forest(df, title = None):
    grouped = df.groupby(["Year", "Forest"]).sum().reset_index().drop(columns="Year")
    plot = px.bar(data_frame = grouped, x = "Forest", y = "Count", color = "Forest", text_auto = True, 
      color_discrete_sequence = ["#823e2b",'#85683c', "#3e853c"], title = title) #, width = 1000, height = 500
    plot.show()


(barrs, calos, cords, guets, herns,
(pisonia, pisonia_forest, pisonia_rats), 
(coco, coco_forest, coco_rats))          = (tree_type(trees, 'Barr'), 
                                            tree_type(trees, 'Calo'), 
                                            tree_type(trees, 'Cord'), 
                                            tree_type(trees, 'Guet'), 
                                            tree_type(trees, 'Hern'), 
                                            triple_seedling_table(seedlings, "Pisona"), 
                                            triple_seedling_table(seedlings, "Coco"))


frst_lbl, sdlgs_lbl  = iter(['Cocos', "Pisonias"]), iter(["Barrs", "Calos", "Cords", 
                                                          "Guets", "Herns", "Pisonias", "Cocos"])
for data in (coco_forest, pisonia_forest):
    plot_forest(data, title = next(frst_lbl))
for data in (barrs, calos, cords, guets, herns, pisonia_rats, coco_rats):
    plot_rats(data, title = next(sdlgs_lbl))
