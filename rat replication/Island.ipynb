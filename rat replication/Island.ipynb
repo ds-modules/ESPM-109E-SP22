{
 "cells": [
  {
   "cell_type": "markdown",
   "id": "021827dd",
   "metadata": {
    "toc": true
   },
   "source": [
    "<h1>Table of Contents<span class=\"tocSkip\"></span></h1>\n",
    "<div class=\"toc\"><ul class=\"toc-item\"><li><span><a href=\"#Import-Libraries-and-Their-Aliases\" data-toc-modified-id=\"Import-Libraries-and-Their-Aliases-1\"><span class=\"toc-item-num\">1&nbsp;&nbsp;</span>Import Libraries and Their Aliases</a></span></li><li><span><a href=\"#Function-Fun\" data-toc-modified-id=\"Function-Fun-2\"><span class=\"toc-item-num\">2&nbsp;&nbsp;</span>Function Fun</a></span><ul class=\"toc-item\"><li><span><a href=\"#download_data\" data-toc-modified-id=\"download_data-2.1\"><span class=\"toc-item-num\">2.1&nbsp;&nbsp;</span><code>download_data</code></a></span></li><li><span><a href=\"#show\" data-toc-modified-id=\"show-2.2\"><span class=\"toc-item-num\">2.2&nbsp;&nbsp;</span><code>show</code></a></span><ul class=\"toc-item\"><li><span><a href=\"#Examples-of-.show()\" data-toc-modified-id=\"Examples-of-.show()-2.2.1\"><span class=\"toc-item-num\">2.2.1&nbsp;&nbsp;</span>Examples of <code>.show()</code></a></span></li></ul></li></ul></li><li><span><a href=\"#Import-and-Tidy-Up-the-Data\" data-toc-modified-id=\"Import-and-Tidy-Up-the-Data-3\"><span class=\"toc-item-num\">3&nbsp;&nbsp;</span>Import and Tidy-Up the Data</a></span><ul class=\"toc-item\"><li><span><a href=\"#Seedlings\" data-toc-modified-id=\"Seedlings-3.1\"><span class=\"toc-item-num\">3.1&nbsp;&nbsp;</span>Seedlings</a></span></li><li><span><a href=\"#Trees\" data-toc-modified-id=\"Trees-3.2\"><span class=\"toc-item-num\">3.2&nbsp;&nbsp;</span>Trees</a></span></li><li><span><a href=\"#Next-Steps\" data-toc-modified-id=\"Next-Steps-3.3\"><span class=\"toc-item-num\">3.3&nbsp;&nbsp;</span>Next Steps</a></span><ul class=\"toc-item\"><li><span><a href=\"#rats_present\" data-toc-modified-id=\"rats_present-3.3.1\"><span class=\"toc-item-num\">3.3.1&nbsp;&nbsp;</span><code>rats_present</code></a></span></li><li><span><a href=\"#first\" data-toc-modified-id=\"first-3.3.2\"><span class=\"toc-item-num\">3.3.2&nbsp;&nbsp;</span><code>first</code></a></span></li></ul></li></ul></li><li><span><a href=\"#The-Figures\" data-toc-modified-id=\"The-Figures-4\"><span class=\"toc-item-num\">4&nbsp;&nbsp;</span>The Figures</a></span></li><li><span><a href=\"#Function-Fun-2:-Agregating-and-Plotting\" data-toc-modified-id=\"Function-Fun-2:-Agregating-and-Plotting-5\"><span class=\"toc-item-num\">5&nbsp;&nbsp;</span>Function Fun 2: Agregating and Plotting</a></span><ul class=\"toc-item\"><li><span><a href=\"#Agregating-Functions\" data-toc-modified-id=\"Agregating-Functions-5.1\"><span class=\"toc-item-num\">5.1&nbsp;&nbsp;</span>Agregating Functions</a></span><ul class=\"toc-item\"><li><span><a href=\"#tree_type_table\" data-toc-modified-id=\"tree_type_table-5.1.1\"><span class=\"toc-item-num\">5.1.1&nbsp;&nbsp;</span><code>tree_type_table</code></a></span></li><li><span><a href=\"#triple_seedling_table\" data-toc-modified-id=\"triple_seedling_table-5.1.2\"><span class=\"toc-item-num\">5.1.2&nbsp;&nbsp;</span><code>triple_seedling_table</code></a></span></li></ul></li><li><span><a href=\"#Plotting-Functions\" data-toc-modified-id=\"Plotting-Functions-5.2\"><span class=\"toc-item-num\">5.2&nbsp;&nbsp;</span>Plotting Functions</a></span><ul class=\"toc-item\"><li><span><a href=\"#plot_rats\" data-toc-modified-id=\"plot_rats-5.2.1\"><span class=\"toc-item-num\">5.2.1&nbsp;&nbsp;</span><code>plot_rats</code></a></span></li><li><span><a href=\"#plot_forest\" data-toc-modified-id=\"plot_forest-5.2.2\"><span class=\"toc-item-num\">5.2.2&nbsp;&nbsp;</span><code>plot_forest</code></a></span></li></ul></li></ul></li><li><span><a href=\"#Results\" data-toc-modified-id=\"Results-6\"><span class=\"toc-item-num\">6&nbsp;&nbsp;</span>Results</a></span><ul class=\"toc-item\"><li><span><a href=\"#Agregating-Results\" data-toc-modified-id=\"Agregating-Results-6.1\"><span class=\"toc-item-num\">6.1&nbsp;&nbsp;</span>Agregating Results</a></span></li><li><span><a href=\"#Aggregate-the-Tables\" data-toc-modified-id=\"Aggregate-the-Tables-6.2\"><span class=\"toc-item-num\">6.2&nbsp;&nbsp;</span>Aggregate the Tables</a></span></li><li><span><a href=\"#Plotting-Results\" data-toc-modified-id=\"Plotting-Results-6.3\"><span class=\"toc-item-num\">6.3&nbsp;&nbsp;</span>Plotting Results</a></span></li></ul></li></ul></div>"
   ]
  },
  {
   "cell_type": "markdown",
   "id": "67e4b2ac-c138-48a3-82be-f3be7139edf5",
   "metadata": {
    "tags": []
   },
   "source": [
    "<center><h1><pre>Oh Rats!:<br>A Data Science Dive Into Invasive Species<br>and Island Sustainability</pre></h1></center>"
   ]
  },
  {
   "cell_type": "markdown",
   "id": "7f1f0dc3",
   "metadata": {
    "tags": []
   },
   "source": [
    "## Import Libraries and Their Aliases\n",
    "Here we will import many of the industry-standard libraries including `NumPy`, `Pandas`, `MatPlotLib`, and `Plotly`. Feel free to find these packages on the [Python Package Index](https://pypi.org/)!\n",
    "\n",
    "For your reference, we'll break down one line of the large cell below. In this line:\n",
    "```python\n",
    "import pandas as pd\n",
    "```\n",
    "We <code><span style=\"color:#4caf4f\">import</span></code> the `pandas` library. Essentially, we're telling python that we want to use a specific set of functions that has been named \"pandas\". We then use the <code><span style=\"color:#4caf4f\">as</span></code> keyword to specify that we want to use some other name to refer to \"pandas\"; in this context we told python we want to call it \"pd\".\n",
    "\n",
    "Lets say we want to use the `pandas.notnull()` function (this checks if any values in an array or list are `None`).\n",
    "Because we imported \"pandas\" as \"pd\", we could now call `pd.notnull()`\n",
    "\n",
    "Note: We name pandas as \"pd\" because it is the standard name in the industry, however we could have said:\n",
    "```python\n",
    "import pandas as harrystyles\n",
    "```\n",
    "Which would've allowed us to run `Harry_Styles.notnull()`. This would be confusing for a reader, so its considered best practice to use standard names such as \"pd\" for \"pandas\" or \"np\" for \"numpy\".\n",
    "\n",
    "The cell below runs what we just talked about. Feel free to play around and try things out!"
   ]
  },
  {
   "cell_type": "code",
   "execution_count": 1,
   "id": "e5929d32-76cb-40a9-88e5-d2a9f906bfb6",
   "metadata": {
    "code_folding": []
   },
   "outputs": [
    {
     "name": "stdout",
     "output_type": "stream",
     "text": [
      "Harry Styles is a Panda? True\n",
      "[ True  True  True False  True  True  True False False  True  True]\n",
      "[ True  True  True False  True  True  True False False  True  True]\n"
     ]
    }
   ],
   "source": [
    "import pandas as pd \n",
    "import pandas as harrystyles\n",
    "print(\"Harry Styles is a Panda?\", harrystyles == pd)\n",
    "truth = [1, 2, 3, None, 4, harrystyles,\n",
    "         \"Harry Styles\", None, None, \n",
    "         5 * 2 - 1 / 1e-20, 1]\n",
    "print(harrystyles.notnull(truth))\n",
    "print(pd.notnull(truth))\n",
    "\n",
    "# these lines delete the two imports we just made\n",
    "del harrystyles\n",
    "del pd"
   ]
  },
  {
   "cell_type": "markdown",
   "id": "127afbd5-41d7-4c8d-bc63-b451a1b08425",
   "metadata": {},
   "source": [
    "Now, lets get to work! Here we'll import the actual modules we'll need for this notebook!"
   ]
  },
  {
   "cell_type": "code",
   "execution_count": 2,
   "id": "bbc2f0a4",
   "metadata": {
    "code_folding": []
   },
   "outputs": [],
   "source": [
    "#necessary to implement `download_data()` [see below]\n",
    "import requests\n",
    "from pathlib import Path\n",
    "import time\n",
    "#standard data analysis libraries\n",
    "import numpy as np \n",
    "import pandas as pd \n",
    "#imports for displaying, rendering, and saving plots and visualizations\n",
    "import plotly\n",
    "import plotly.express as px\n",
    "from IPython.display import *\n",
    "import plotly.io as pio\n",
    "import ipywidgets as widgets\n",
    "from ipywidgets import *\n",
    "#for dependency if not on datahub\n",
    "# >>>%pip install openpyxl"
   ]
  },
  {
   "cell_type": "markdown",
   "id": "860597d1-3442-414d-9178-313d351e6db5",
   "metadata": {},
   "source": [
    "## Function Fun"
   ]
  },
  {
   "cell_type": "markdown",
   "id": "eaee75f6",
   "metadata": {},
   "source": [
    "### `download_data`"
   ]
  },
  {
   "cell_type": "markdown",
   "id": "bfb8cb34-7982-4161-85d9-6ce04daecfd5",
   "metadata": {},
   "source": [
    "The `download_data` function will get data from `data_url` on the Internet and saves it so we can use it for analysis! \n",
    "\n",
    "This is a good practice to get into so that your future research or projects are [reproducible](https://www.displayr.com/what-is-reproducible-research/). Essentially, if you gave someone else a copy of this notebook, they should be able to run all of the cells and get the same result. So, if we have a cell that downloads the data when run, people don't even need access to the data! This is also great because if the data changes or is updated, we don't have to update the notebook, it will do so automatically _(woahhh how cool)_!! \n",
    "\n",
    "> **Please don't worry about understanding this function**, it's rather complex, even for those with a moderate amount of data science experience. **You can just use this function and trust it works.**"
   ]
  },
  {
   "cell_type": "code",
   "execution_count": 3,
   "id": "d1766e4b",
   "metadata": {
    "code_folding": [
     0
    ],
    "tags": []
   },
   "outputs": [],
   "source": [
    "def download_data(data_url, \n",
    "                  file):\n",
    "    file_path = Path(file)\n",
    "    print('Downloading...', end=' ')\n",
    "    resp = requests.get(data_url)\n",
    "    with file_path.open('wb') as f:\n",
    "        f.write(resp.content)\n",
    "    print('Done!')\n",
    "    return file_path"
   ]
  },
  {
   "cell_type": "code",
   "execution_count": 4,
   "id": "f9ba0a55-30e2-48c1-abe6-a2e4f68e7ae3",
   "metadata": {},
   "outputs": [
    {
     "name": "stdout",
     "output_type": "stream",
     "text": [
      "Downloading... Done!\n"
     ]
    }
   ],
   "source": [
    "#treat this cell as majic, just run it\n",
    "funcs = download_data(\"https://tinyurl.com/island-funcs\", \"funcs.py\")\n",
    "from funcs import *"
   ]
  },
  {
   "cell_type": "markdown",
   "id": "804d2487-0c47-424b-a2b6-c97b3707aafd",
   "metadata": {},
   "source": [
    "### `show`\n",
    "The function `.show()` below will allow us to freely examine this data! You don't need to understand how it works, just read the following properties:\n",
    "\n",
    "|Code|Result|\n",
    "|----|------|\n",
    "|`your_table.show(True)` |shows the ***entire*** DataFrame|\n",
    "|`your_table.show(columns = ['x', 'y'])` |shows the first 20 rows of columns `x` and `y`|\n",
    "|`your_table.show(rows = 18)` |shows the **first** 18 rows|\n",
    "|`your_table.show(rows = -18)` |shows the **last** 18 rows|\n",
    "|`your_table.show(start = 25, rows = 18)` |shows the **first** 18 rows that come after row `25`|\n",
    "\n",
    "In the above table, `your_table` represents whatever table you are working in\n",
    "\n",
    "> **Note**: This function is only for ease of exploration, if you don't feel comfortable using it, don't worry! The documentation is below if you want to check out the implementation. "
   ]
  },
  {
   "cell_type": "markdown",
   "id": "c206ff11-a97c-477d-b709-8866ed91cfd9",
   "metadata": {},
   "source": [
    "#### Examples of `.show()`"
   ]
  },
  {
   "cell_type": "markdown",
   "id": "faddf070-648e-480e-819c-1e4771b3473e",
   "metadata": {},
   "source": [
    "Here, we're using a small dataset to show what `show` can do (pun-intended). Don't worry about understanding the data, just look at the resulting tables"
   ]
  },
  {
   "cell_type": "code",
   "execution_count": 5,
   "id": "4a2c52db-4798-425a-9413-379291b1e2de",
   "metadata": {},
   "outputs": [
    {
     "name": "stdout",
     "output_type": "stream",
     "text": [
      "Downloading... Done!\n",
      "airports.csv\n"
     ]
    },
    {
     "data": {
      "text/markdown": [
       " "
      ],
      "text/plain": [
       "<IPython.core.display.Markdown object>"
      ]
     },
     "metadata": {},
     "output_type": "display_data"
    },
    {
     "data": {
      "text/markdown": [
       "<b>First 3 rows</b>"
      ],
      "text/plain": [
       "<IPython.core.display.Markdown object>"
      ]
     },
     "metadata": {},
     "output_type": "display_data"
    },
    {
     "data": {
      "text/markdown": [
       " "
      ],
      "text/plain": [
       "<IPython.core.display.Markdown object>"
      ]
     },
     "metadata": {},
     "output_type": "display_data"
    },
    {
     "data": {
      "text/html": [
       "<div>\n",
       "<style scoped>\n",
       "    .dataframe tbody tr th:only-of-type {\n",
       "        vertical-align: middle;\n",
       "    }\n",
       "\n",
       "    .dataframe tbody tr th {\n",
       "        vertical-align: top;\n",
       "    }\n",
       "\n",
       "    .dataframe thead th {\n",
       "        text-align: right;\n",
       "    }\n",
       "</style>\n",
       "<table border=\"1\" class=\"dataframe\">\n",
       "  <thead>\n",
       "    <tr style=\"text-align: right;\">\n",
       "      <th></th>\n",
       "      <th>iata</th>\n",
       "      <th>name</th>\n",
       "      <th>city</th>\n",
       "      <th>state</th>\n",
       "      <th>country</th>\n",
       "      <th>latitude</th>\n",
       "      <th>longitude</th>\n",
       "    </tr>\n",
       "  </thead>\n",
       "  <tbody>\n",
       "    <tr>\n",
       "      <th>0</th>\n",
       "      <td>00M</td>\n",
       "      <td>Thigpen</td>\n",
       "      <td>Bay Springs</td>\n",
       "      <td>MS</td>\n",
       "      <td>USA</td>\n",
       "      <td>31.953765</td>\n",
       "      <td>-89.234505</td>\n",
       "    </tr>\n",
       "    <tr>\n",
       "      <th>1</th>\n",
       "      <td>00R</td>\n",
       "      <td>Livingston Municipal</td>\n",
       "      <td>Livingston</td>\n",
       "      <td>TX</td>\n",
       "      <td>USA</td>\n",
       "      <td>30.685861</td>\n",
       "      <td>-95.017928</td>\n",
       "    </tr>\n",
       "    <tr>\n",
       "      <th>2</th>\n",
       "      <td>00V</td>\n",
       "      <td>Meadow Lake</td>\n",
       "      <td>Colorado Springs</td>\n",
       "      <td>CO</td>\n",
       "      <td>USA</td>\n",
       "      <td>38.945749</td>\n",
       "      <td>-104.569893</td>\n",
       "    </tr>\n",
       "  </tbody>\n",
       "</table>\n",
       "</div>"
      ],
      "text/plain": [
       "  iata                  name              city state country   latitude  \\\n",
       "0  00M               Thigpen       Bay Springs    MS     USA  31.953765   \n",
       "1  00R  Livingston Municipal        Livingston    TX     USA  30.685861   \n",
       "2  00V           Meadow Lake  Colorado Springs    CO     USA  38.945749   \n",
       "\n",
       "    longitude  \n",
       "0  -89.234505  \n",
       "1  -95.017928  \n",
       "2 -104.569893  "
      ]
     },
     "metadata": {},
     "output_type": "display_data"
    },
    {
     "data": {
      "text/markdown": [
       " "
      ],
      "text/plain": [
       "<IPython.core.display.Markdown object>"
      ]
     },
     "metadata": {},
     "output_type": "display_data"
    },
    {
     "data": {
      "text/markdown": [
       "3376 Rows x 7 Columns"
      ],
      "text/plain": [
       "<IPython.core.display.Markdown object>"
      ]
     },
     "metadata": {},
     "output_type": "display_data"
    },
    {
     "data": {
      "text/markdown": [
       " "
      ],
      "text/plain": [
       "<IPython.core.display.Markdown object>"
      ]
     },
     "metadata": {},
     "output_type": "display_data"
    },
    {
     "data": {
      "text/markdown": [
       " "
      ],
      "text/plain": [
       "<IPython.core.display.Markdown object>"
      ]
     },
     "metadata": {},
     "output_type": "display_data"
    },
    {
     "data": {
      "text/markdown": [
       "<b>First 3 rows with columns \"name\" and \"iata\" (in that order)</b>"
      ],
      "text/plain": [
       "<IPython.core.display.Markdown object>"
      ]
     },
     "metadata": {},
     "output_type": "display_data"
    },
    {
     "data": {
      "text/markdown": [
       " "
      ],
      "text/plain": [
       "<IPython.core.display.Markdown object>"
      ]
     },
     "metadata": {},
     "output_type": "display_data"
    },
    {
     "data": {
      "text/html": [
       "<div>\n",
       "<style scoped>\n",
       "    .dataframe tbody tr th:only-of-type {\n",
       "        vertical-align: middle;\n",
       "    }\n",
       "\n",
       "    .dataframe tbody tr th {\n",
       "        vertical-align: top;\n",
       "    }\n",
       "\n",
       "    .dataframe thead th {\n",
       "        text-align: right;\n",
       "    }\n",
       "</style>\n",
       "<table border=\"1\" class=\"dataframe\">\n",
       "  <thead>\n",
       "    <tr style=\"text-align: right;\">\n",
       "      <th></th>\n",
       "      <th>name</th>\n",
       "      <th>iata</th>\n",
       "    </tr>\n",
       "  </thead>\n",
       "  <tbody>\n",
       "    <tr>\n",
       "      <th>0</th>\n",
       "      <td>Thigpen</td>\n",
       "      <td>00M</td>\n",
       "    </tr>\n",
       "    <tr>\n",
       "      <th>1</th>\n",
       "      <td>Livingston Municipal</td>\n",
       "      <td>00R</td>\n",
       "    </tr>\n",
       "    <tr>\n",
       "      <th>2</th>\n",
       "      <td>Meadow Lake</td>\n",
       "      <td>00V</td>\n",
       "    </tr>\n",
       "  </tbody>\n",
       "</table>\n",
       "</div>"
      ],
      "text/plain": [
       "                   name iata\n",
       "0               Thigpen  00M\n",
       "1  Livingston Municipal  00R\n",
       "2           Meadow Lake  00V"
      ]
     },
     "metadata": {},
     "output_type": "display_data"
    },
    {
     "data": {
      "text/markdown": [
       " "
      ],
      "text/plain": [
       "<IPython.core.display.Markdown object>"
      ]
     },
     "metadata": {},
     "output_type": "display_data"
    },
    {
     "data": {
      "text/markdown": [
       "3376 Rows x 7 Columns"
      ],
      "text/plain": [
       "<IPython.core.display.Markdown object>"
      ]
     },
     "metadata": {},
     "output_type": "display_data"
    },
    {
     "data": {
      "text/markdown": [
       " "
      ],
      "text/plain": [
       "<IPython.core.display.Markdown object>"
      ]
     },
     "metadata": {},
     "output_type": "display_data"
    },
    {
     "data": {
      "text/markdown": [
       " "
      ],
      "text/plain": [
       "<IPython.core.display.Markdown object>"
      ]
     },
     "metadata": {},
     "output_type": "display_data"
    },
    {
     "data": {
      "text/markdown": [
       "<b>3 rows starting with 101</b>"
      ],
      "text/plain": [
       "<IPython.core.display.Markdown object>"
      ]
     },
     "metadata": {},
     "output_type": "display_data"
    },
    {
     "data": {
      "text/markdown": [
       " "
      ],
      "text/plain": [
       "<IPython.core.display.Markdown object>"
      ]
     },
     "metadata": {},
     "output_type": "display_data"
    },
    {
     "data": {
      "text/html": [
       "<div>\n",
       "<style scoped>\n",
       "    .dataframe tbody tr th:only-of-type {\n",
       "        vertical-align: middle;\n",
       "    }\n",
       "\n",
       "    .dataframe tbody tr th {\n",
       "        vertical-align: top;\n",
       "    }\n",
       "\n",
       "    .dataframe thead th {\n",
       "        text-align: right;\n",
       "    }\n",
       "</style>\n",
       "<table border=\"1\" class=\"dataframe\">\n",
       "  <thead>\n",
       "    <tr style=\"text-align: right;\">\n",
       "      <th></th>\n",
       "      <th>iata</th>\n",
       "      <th>name</th>\n",
       "      <th>city</th>\n",
       "      <th>state</th>\n",
       "      <th>country</th>\n",
       "      <th>latitude</th>\n",
       "      <th>longitude</th>\n",
       "    </tr>\n",
       "  </thead>\n",
       "  <tbody>\n",
       "    <tr>\n",
       "      <th>101</th>\n",
       "      <td>12C</td>\n",
       "      <td>Rochelle Municipal</td>\n",
       "      <td>Rochelle</td>\n",
       "      <td>IL</td>\n",
       "      <td>USA</td>\n",
       "      <td>41.893001</td>\n",
       "      <td>-89.078290</td>\n",
       "    </tr>\n",
       "    <tr>\n",
       "      <th>102</th>\n",
       "      <td>12D</td>\n",
       "      <td>Tower Municipal</td>\n",
       "      <td>Tower</td>\n",
       "      <td>MN</td>\n",
       "      <td>USA</td>\n",
       "      <td>47.818333</td>\n",
       "      <td>-92.291667</td>\n",
       "    </tr>\n",
       "    <tr>\n",
       "      <th>103</th>\n",
       "      <td>12J</td>\n",
       "      <td>Brewton Municipal</td>\n",
       "      <td>Brewton</td>\n",
       "      <td>AL</td>\n",
       "      <td>USA</td>\n",
       "      <td>31.051263</td>\n",
       "      <td>-87.067968</td>\n",
       "    </tr>\n",
       "  </tbody>\n",
       "</table>\n",
       "</div>"
      ],
      "text/plain": [
       "    iata                name      city state country   latitude  longitude\n",
       "101  12C  Rochelle Municipal  Rochelle    IL     USA  41.893001 -89.078290\n",
       "102  12D     Tower Municipal     Tower    MN     USA  47.818333 -92.291667\n",
       "103  12J   Brewton Municipal   Brewton    AL     USA  31.051263 -87.067968"
      ]
     },
     "metadata": {},
     "output_type": "display_data"
    },
    {
     "data": {
      "text/markdown": [
       " "
      ],
      "text/plain": [
       "<IPython.core.display.Markdown object>"
      ]
     },
     "metadata": {},
     "output_type": "display_data"
    },
    {
     "data": {
      "text/markdown": [
       "3376 Rows x 7 Columns"
      ],
      "text/plain": [
       "<IPython.core.display.Markdown object>"
      ]
     },
     "metadata": {},
     "output_type": "display_data"
    },
    {
     "data": {
      "text/markdown": [
       " "
      ],
      "text/plain": [
       "<IPython.core.display.Markdown object>"
      ]
     },
     "metadata": {},
     "output_type": "display_data"
    }
   ],
   "source": [
    "airports = download_data(\"https://raw.githubusercontent.com/vega/vega-datasets/next/data/airports.csv\", \"airports.csv\")\n",
    "print(airports)\n",
    "airports = pd.read_csv(airports)\n",
    "airports.show(rows = 3, \n",
    "              title = [\"First 3 rows\", [\"b\"]])\n",
    "airports.show(rows =3, columns = ['name', 'iata'],\n",
    "             title = ['First 3 rows with columns \"name\" and \"iata\" (in that order)', [\"b\"]])\n",
    "airports.show(rows = 3, start = 101,\n",
    "             title = ['3 rows starting with 101', [\"b\"]])"
   ]
  },
  {
   "cell_type": "markdown",
   "id": "b6a94d7d-b70d-438b-a93e-fd9112e63858",
   "metadata": {},
   "source": [
    "## Import and Tidy-Up the Data"
   ]
  },
  {
   "cell_type": "markdown",
   "id": "60034a6a-e466-4a23-998c-baf729cb96d9",
   "metadata": {},
   "source": [
    "Here, we'll use the function above (`download_data`), to get the data we want. \n",
    "\n",
    "The data source we'll be looking at is a [Microsoft Excel File](https://www.techonthenet.com/excel/sheets/index.php#:~:text=In%20Microsoft%20Excel%2C%20a%20sheet,the%20bottom%20of%20your%20document.), or `.xls` for short, which some of you may know a little bit about. One advantage that an excel file has over other data storage methods (such as `.csv` files) is that it can have separate \"sheets\", which are each are their own table/data frame. \n",
    "\n",
    "To ensure we can work with this data, we read the data which we call `island_data` twice, each time with the `pd.read_excel` function _(oh how creative computer scientists are at naming things)_. \n",
    "\n",
    "The first time we'll load the 0<sup>th</sup> page, and then the 1<sup>st</sup> (in non-data-science-terms the 1<sup>st</sup> and 2<sup>nd</sup> sheets), using the `sheet_name` argument.\n",
    "\n",
    "We call these `seedlings` and `trees` for reasons that will soon become evident. "
   ]
  },
  {
   "cell_type": "code",
   "execution_count": 6,
   "id": "e02c376d",
   "metadata": {
    "scrolled": true,
    "tags": []
   },
   "outputs": [
    {
     "name": "stdout",
     "output_type": "stream",
     "text": [
      "Downloading... Done!\n"
     ]
    }
   ],
   "source": [
    "island_data = download_data(\n",
    "    \"https://datadryad.org/stash/downloads/file_stream/55546\", \"island.xls\")\n",
    "seedlings = pd.read_excel(island_data, sheet_name = 0)\n",
    "trees = pd.read_excel(island_data, sheet_name = 1)"
   ]
  },
  {
   "cell_type": "markdown",
   "id": "ea7ba217-3760-451f-9729-2eb975e10493",
   "metadata": {},
   "source": [
    "Now, lets explore this data a bit! Below we'll look at what we just downloaded!"
   ]
  },
  {
   "cell_type": "markdown",
   "id": "fc8e5307-dfae-4a18-b6d1-ff6e620c037a",
   "metadata": {},
   "source": [
    "### Seedlings"
   ]
  },
  {
   "cell_type": "markdown",
   "id": "5cb0c994-a79d-4a59-9292-7c2bcbe97caf",
   "metadata": {},
   "source": [
    "The `seedlings` DataFrame has `275` rows and `5` columns (as noted at the bottom left of the data)\n",
    "Each row represents one collection/examination. The columns are:\n",
    "<center><pre>Seedlings Columns</pre></center>\n",
    "\n",
    "| Title | Meaning | Type |\n",
    "|------- |---------|------|\n",
    "|`Transect_ID`| a uniqe ID for each sample | `str` |\n",
    "|`P. grandis Count Seedings` | count of grandis seedings | `int` |\n",
    "|`C.nucifera Count Seedings` | count of nucifera seedings | `int` |\n",
    "|`Year` | The year which the sample was taken | `int` |\n",
    "|`Forest Type` | The type of forest the same was taken in | `str` |\n",
    "\n",
    "> **Note**: The numbers on the left side of the table are called the `index`, its an easy way for us to keep track of what rows are in what order"
   ]
  },
  {
   "cell_type": "code",
   "execution_count": 7,
   "id": "b8f77998-f1f1-4246-9ca5-ed4abeed8f45",
   "metadata": {},
   "outputs": [
    {
     "data": {
      "text/html": [
       "<div>\n",
       "<style scoped>\n",
       "    .dataframe tbody tr th:only-of-type {\n",
       "        vertical-align: middle;\n",
       "    }\n",
       "\n",
       "    .dataframe tbody tr th {\n",
       "        vertical-align: top;\n",
       "    }\n",
       "\n",
       "    .dataframe thead th {\n",
       "        text-align: right;\n",
       "    }\n",
       "</style>\n",
       "<table border=\"1\" class=\"dataframe\">\n",
       "  <thead>\n",
       "    <tr style=\"text-align: right;\">\n",
       "      <th></th>\n",
       "      <th>Transect_ID</th>\n",
       "      <th>P.grandis Count Seedlings</th>\n",
       "      <th>C.nucifera Count Seedlings</th>\n",
       "      <th>Year</th>\n",
       "      <th>Forest Type</th>\n",
       "    </tr>\n",
       "  </thead>\n",
       "  <tbody>\n",
       "    <tr>\n",
       "      <th>0</th>\n",
       "      <td>VT-Avi-1-C</td>\n",
       "      <td>0</td>\n",
       "      <td>14</td>\n",
       "      <td>2007</td>\n",
       "      <td>Cocos</td>\n",
       "    </tr>\n",
       "    <tr>\n",
       "      <th>1</th>\n",
       "      <td>VT-Avi-2-C</td>\n",
       "      <td>0</td>\n",
       "      <td>37</td>\n",
       "      <td>2007</td>\n",
       "      <td>Cocos</td>\n",
       "    </tr>\n",
       "    <tr>\n",
       "      <th>2</th>\n",
       "      <td>VT-Avi-2-I</td>\n",
       "      <td>0</td>\n",
       "      <td>12</td>\n",
       "      <td>2007</td>\n",
       "      <td>Cocos</td>\n",
       "    </tr>\n",
       "  </tbody>\n",
       "</table>\n",
       "</div>"
      ],
      "text/plain": [
       "  Transect_ID  P.grandis Count Seedlings  C.nucifera Count Seedlings  Year  \\\n",
       "0  VT-Avi-1-C                          0                          14  2007   \n",
       "1  VT-Avi-2-C                          0                          37  2007   \n",
       "2  VT-Avi-2-I                          0                          12  2007   \n",
       "\n",
       "  Forest Type  \n",
       "0       Cocos  \n",
       "1       Cocos  \n",
       "2       Cocos  "
      ]
     },
     "metadata": {},
     "output_type": "display_data"
    },
    {
     "data": {
      "text/markdown": [
       " "
      ],
      "text/plain": [
       "<IPython.core.display.Markdown object>"
      ]
     },
     "metadata": {},
     "output_type": "display_data"
    },
    {
     "data": {
      "text/markdown": [
       "275 Rows x 5 Columns"
      ],
      "text/plain": [
       "<IPython.core.display.Markdown object>"
      ]
     },
     "metadata": {},
     "output_type": "display_data"
    },
    {
     "data": {
      "text/markdown": [
       " "
      ],
      "text/plain": [
       "<IPython.core.display.Markdown object>"
      ]
     },
     "metadata": {},
     "output_type": "display_data"
    }
   ],
   "source": [
    "seedlings.show(rows = 3)"
   ]
  },
  {
   "cell_type": "markdown",
   "id": "1373b8aa-e61c-4582-bdee-66249a3488b1",
   "metadata": {},
   "source": [
    "Now we want to clean the data up. We won't use the `Transect_ID` column, so lets `drop` it.\n",
    "\n",
    "While we're at it lets shorten some of the column names. Here's a list of what we'll change:\n",
    "\n",
    "<center><pre>New Seedlings Column Labels</pre></center>\n",
    "\n",
    "| Old | New |\n",
    "|------- |---------|\n",
    "|`Transect_ID`| **REMOVED** |\n",
    "|`P. grandis Count Seedings` | `Pisona Count`|\n",
    "|`C.nucifera Count Seedings` | `Coco Count`|\n",
    "|`Year` | `Year`|\n",
    "|`Forest Type` | `Forest`|\n",
    "\n",
    "Below, we'll use the `.drop` method to drop the first column. We'll then set the table's column labels (`seedlings.columns`) equal to a list of new labels. You can view the result of each operation by running the cell."
   ]
  },
  {
   "cell_type": "code",
   "execution_count": 8,
   "id": "94ae90c9-f983-4f22-b769-3571afb89630",
   "metadata": {},
   "outputs": [
    {
     "data": {
      "text/markdown": [
       " "
      ],
      "text/plain": [
       "<IPython.core.display.Markdown object>"
      ]
     },
     "metadata": {},
     "output_type": "display_data"
    },
    {
     "data": {
      "text/markdown": [
       "Removed <code>Transect_ID</code>"
      ],
      "text/plain": [
       "<IPython.core.display.Markdown object>"
      ]
     },
     "metadata": {},
     "output_type": "display_data"
    },
    {
     "data": {
      "text/markdown": [
       " "
      ],
      "text/plain": [
       "<IPython.core.display.Markdown object>"
      ]
     },
     "metadata": {},
     "output_type": "display_data"
    },
    {
     "data": {
      "text/html": [
       "<div>\n",
       "<style scoped>\n",
       "    .dataframe tbody tr th:only-of-type {\n",
       "        vertical-align: middle;\n",
       "    }\n",
       "\n",
       "    .dataframe tbody tr th {\n",
       "        vertical-align: top;\n",
       "    }\n",
       "\n",
       "    .dataframe thead th {\n",
       "        text-align: right;\n",
       "    }\n",
       "</style>\n",
       "<table border=\"1\" class=\"dataframe\">\n",
       "  <thead>\n",
       "    <tr style=\"text-align: right;\">\n",
       "      <th></th>\n",
       "      <th>P.grandis Count Seedlings</th>\n",
       "      <th>C.nucifera Count Seedlings</th>\n",
       "      <th>Year</th>\n",
       "      <th>Forest Type</th>\n",
       "    </tr>\n",
       "  </thead>\n",
       "  <tbody>\n",
       "    <tr>\n",
       "      <th>0</th>\n",
       "      <td>0</td>\n",
       "      <td>14</td>\n",
       "      <td>2007</td>\n",
       "      <td>Cocos</td>\n",
       "    </tr>\n",
       "    <tr>\n",
       "      <th>1</th>\n",
       "      <td>0</td>\n",
       "      <td>37</td>\n",
       "      <td>2007</td>\n",
       "      <td>Cocos</td>\n",
       "    </tr>\n",
       "    <tr>\n",
       "      <th>2</th>\n",
       "      <td>0</td>\n",
       "      <td>12</td>\n",
       "      <td>2007</td>\n",
       "      <td>Cocos</td>\n",
       "    </tr>\n",
       "  </tbody>\n",
       "</table>\n",
       "</div>"
      ],
      "text/plain": [
       "   P.grandis Count Seedlings  C.nucifera Count Seedlings  Year Forest Type\n",
       "0                          0                          14  2007       Cocos\n",
       "1                          0                          37  2007       Cocos\n",
       "2                          0                          12  2007       Cocos"
      ]
     },
     "metadata": {},
     "output_type": "display_data"
    },
    {
     "data": {
      "text/markdown": [
       " "
      ],
      "text/plain": [
       "<IPython.core.display.Markdown object>"
      ]
     },
     "metadata": {},
     "output_type": "display_data"
    },
    {
     "data": {
      "text/markdown": [
       "275 Rows x 4 Columns"
      ],
      "text/plain": [
       "<IPython.core.display.Markdown object>"
      ]
     },
     "metadata": {},
     "output_type": "display_data"
    },
    {
     "data": {
      "text/markdown": [
       " "
      ],
      "text/plain": [
       "<IPython.core.display.Markdown object>"
      ]
     },
     "metadata": {},
     "output_type": "display_data"
    },
    {
     "data": {
      "text/markdown": [
       " "
      ],
      "text/plain": [
       "<IPython.core.display.Markdown object>"
      ]
     },
     "metadata": {},
     "output_type": "display_data"
    },
    {
     "data": {
      "text/markdown": [
       "Relabeled Columns"
      ],
      "text/plain": [
       "<IPython.core.display.Markdown object>"
      ]
     },
     "metadata": {},
     "output_type": "display_data"
    },
    {
     "data": {
      "text/markdown": [
       " "
      ],
      "text/plain": [
       "<IPython.core.display.Markdown object>"
      ]
     },
     "metadata": {},
     "output_type": "display_data"
    },
    {
     "data": {
      "text/html": [
       "<div>\n",
       "<style scoped>\n",
       "    .dataframe tbody tr th:only-of-type {\n",
       "        vertical-align: middle;\n",
       "    }\n",
       "\n",
       "    .dataframe tbody tr th {\n",
       "        vertical-align: top;\n",
       "    }\n",
       "\n",
       "    .dataframe thead th {\n",
       "        text-align: right;\n",
       "    }\n",
       "</style>\n",
       "<table border=\"1\" class=\"dataframe\">\n",
       "  <thead>\n",
       "    <tr style=\"text-align: right;\">\n",
       "      <th></th>\n",
       "      <th>Pisona Count</th>\n",
       "      <th>Coco Count</th>\n",
       "      <th>Year</th>\n",
       "      <th>Forest</th>\n",
       "    </tr>\n",
       "  </thead>\n",
       "  <tbody>\n",
       "    <tr>\n",
       "      <th>0</th>\n",
       "      <td>0</td>\n",
       "      <td>14</td>\n",
       "      <td>2007</td>\n",
       "      <td>Cocos</td>\n",
       "    </tr>\n",
       "    <tr>\n",
       "      <th>1</th>\n",
       "      <td>0</td>\n",
       "      <td>37</td>\n",
       "      <td>2007</td>\n",
       "      <td>Cocos</td>\n",
       "    </tr>\n",
       "    <tr>\n",
       "      <th>2</th>\n",
       "      <td>0</td>\n",
       "      <td>12</td>\n",
       "      <td>2007</td>\n",
       "      <td>Cocos</td>\n",
       "    </tr>\n",
       "  </tbody>\n",
       "</table>\n",
       "</div>"
      ],
      "text/plain": [
       "   Pisona Count  Coco Count  Year Forest\n",
       "0             0          14  2007  Cocos\n",
       "1             0          37  2007  Cocos\n",
       "2             0          12  2007  Cocos"
      ]
     },
     "metadata": {},
     "output_type": "display_data"
    },
    {
     "data": {
      "text/markdown": [
       " "
      ],
      "text/plain": [
       "<IPython.core.display.Markdown object>"
      ]
     },
     "metadata": {},
     "output_type": "display_data"
    },
    {
     "data": {
      "text/markdown": [
       "275 Rows x 4 Columns"
      ],
      "text/plain": [
       "<IPython.core.display.Markdown object>"
      ]
     },
     "metadata": {},
     "output_type": "display_data"
    },
    {
     "data": {
      "text/markdown": [
       " "
      ],
      "text/plain": [
       "<IPython.core.display.Markdown object>"
      ]
     },
     "metadata": {},
     "output_type": "display_data"
    }
   ],
   "source": [
    "if 'Transect_ID' in seedlings.columns:\n",
    "    # this if statement allows you to run this cell\n",
    "    # multiple times without encountering an error\n",
    "    seedlings = seedlings.drop(columns=\"Transect_ID\")\n",
    "seedlings.show(rows = 3, \n",
    "               title = 'Removed <code>Transect_ID</code>')\n",
    "seedlings.columns = ['Pisona Count', \"Coco Count\", \"Year\", \"Forest\"]\n",
    "seedlings.show(rows = 3, title = 'Relabeled Columns')"
   ]
  },
  {
   "cell_type": "markdown",
   "id": "29b213ac-beef-4eef-8671-69b86c451693",
   "metadata": {},
   "source": [
    "### Trees"
   ]
  },
  {
   "cell_type": "markdown",
   "id": "73e4f00b-27a0-48a7-b95e-27392a512e00",
   "metadata": {},
   "source": [
    "The second table we'll look at is called `trees`. It has `245` rows and `4` columns (again as shown in the same location). Each row here represents a count of certain trees, per a set area. The columns and their meanings are in the table below\n",
    "\n",
    "<center><pre>Trees Columns</pre></center>\n",
    "\n",
    "| Title | Meaning | Type |\n",
    "|------- |---------|------|\n",
    "|`TreeID` | a uniqe ID for each sample | `str` |\n",
    "|`Year` | The year which the sample was taken | `int` |\n",
    "|`Count Seedings (0 - 2m)` | count of grandis seedings | `int` |\n",
    "|`SPECIES` | The species of tree represented | `str` |\n"
   ]
  },
  {
   "cell_type": "markdown",
   "id": "9c447a92-a62f-4fb1-aa35-a28eb68f67fe",
   "metadata": {},
   "source": [
    "For our purposes, the column `TreeID` is irrelevant, so we can drop it in the same fashion as before. Lets also relabel the columns as such:\n",
    "<center><pre>New Trees Column Labels</pre></center>\n",
    "\n",
    "| Old | New |\n",
    "|------- |---------|\n",
    "|`TreeID`| **REMOVED** |\n",
    "|`Year` | `Year`|\n",
    "|`Count Seedings (0 - 2m)` | `Count`|\n",
    "|`SPECIES` | `Tree`|"
   ]
  },
  {
   "cell_type": "code",
   "execution_count": 9,
   "id": "21fcf4a1-fe53-40a1-8eee-a14d62f1f83d",
   "metadata": {},
   "outputs": [
    {
     "data": {
      "text/markdown": [
       " "
      ],
      "text/plain": [
       "<IPython.core.display.Markdown object>"
      ]
     },
     "metadata": {},
     "output_type": "display_data"
    },
    {
     "data": {
      "text/markdown": [
       "Removed <code>TreeID</code> Column"
      ],
      "text/plain": [
       "<IPython.core.display.Markdown object>"
      ]
     },
     "metadata": {},
     "output_type": "display_data"
    },
    {
     "data": {
      "text/markdown": [
       " "
      ],
      "text/plain": [
       "<IPython.core.display.Markdown object>"
      ]
     },
     "metadata": {},
     "output_type": "display_data"
    },
    {
     "data": {
      "text/html": [
       "<div>\n",
       "<style scoped>\n",
       "    .dataframe tbody tr th:only-of-type {\n",
       "        vertical-align: middle;\n",
       "    }\n",
       "\n",
       "    .dataframe tbody tr th {\n",
       "        vertical-align: top;\n",
       "    }\n",
       "\n",
       "    .dataframe thead th {\n",
       "        text-align: right;\n",
       "    }\n",
       "</style>\n",
       "<table border=\"1\" class=\"dataframe\">\n",
       "  <thead>\n",
       "    <tr style=\"text-align: right;\">\n",
       "      <th></th>\n",
       "      <th>Year</th>\n",
       "      <th>Count Seedlings (0 - 2m)</th>\n",
       "      <th>SPECIES</th>\n",
       "    </tr>\n",
       "  </thead>\n",
       "  <tbody>\n",
       "    <tr>\n",
       "      <th>0</th>\n",
       "      <td>2004</td>\n",
       "      <td>0</td>\n",
       "      <td>Barr</td>\n",
       "    </tr>\n",
       "    <tr>\n",
       "      <th>1</th>\n",
       "      <td>2004</td>\n",
       "      <td>30</td>\n",
       "      <td>Barr</td>\n",
       "    </tr>\n",
       "    <tr>\n",
       "      <th>2</th>\n",
       "      <td>2004</td>\n",
       "      <td>100</td>\n",
       "      <td>Barr</td>\n",
       "    </tr>\n",
       "  </tbody>\n",
       "</table>\n",
       "</div>"
      ],
      "text/plain": [
       "   Year  Count Seedlings (0 - 2m) SPECIES\n",
       "0  2004                         0    Barr\n",
       "1  2004                        30    Barr\n",
       "2  2004                       100    Barr"
      ]
     },
     "metadata": {},
     "output_type": "display_data"
    },
    {
     "data": {
      "text/markdown": [
       " "
      ],
      "text/plain": [
       "<IPython.core.display.Markdown object>"
      ]
     },
     "metadata": {},
     "output_type": "display_data"
    },
    {
     "data": {
      "text/markdown": [
       "245 Rows x 3 Columns"
      ],
      "text/plain": [
       "<IPython.core.display.Markdown object>"
      ]
     },
     "metadata": {},
     "output_type": "display_data"
    },
    {
     "data": {
      "text/markdown": [
       " "
      ],
      "text/plain": [
       "<IPython.core.display.Markdown object>"
      ]
     },
     "metadata": {},
     "output_type": "display_data"
    },
    {
     "data": {
      "text/markdown": [
       " "
      ],
      "text/plain": [
       "<IPython.core.display.Markdown object>"
      ]
     },
     "metadata": {},
     "output_type": "display_data"
    },
    {
     "data": {
      "text/markdown": [
       "Relabeled Columns"
      ],
      "text/plain": [
       "<IPython.core.display.Markdown object>"
      ]
     },
     "metadata": {},
     "output_type": "display_data"
    },
    {
     "data": {
      "text/markdown": [
       " "
      ],
      "text/plain": [
       "<IPython.core.display.Markdown object>"
      ]
     },
     "metadata": {},
     "output_type": "display_data"
    },
    {
     "data": {
      "text/html": [
       "<div>\n",
       "<style scoped>\n",
       "    .dataframe tbody tr th:only-of-type {\n",
       "        vertical-align: middle;\n",
       "    }\n",
       "\n",
       "    .dataframe tbody tr th {\n",
       "        vertical-align: top;\n",
       "    }\n",
       "\n",
       "    .dataframe thead th {\n",
       "        text-align: right;\n",
       "    }\n",
       "</style>\n",
       "<table border=\"1\" class=\"dataframe\">\n",
       "  <thead>\n",
       "    <tr style=\"text-align: right;\">\n",
       "      <th></th>\n",
       "      <th>Year</th>\n",
       "      <th>Count</th>\n",
       "      <th>Tree</th>\n",
       "    </tr>\n",
       "  </thead>\n",
       "  <tbody>\n",
       "    <tr>\n",
       "      <th>0</th>\n",
       "      <td>2004</td>\n",
       "      <td>0</td>\n",
       "      <td>Barr</td>\n",
       "    </tr>\n",
       "    <tr>\n",
       "      <th>1</th>\n",
       "      <td>2004</td>\n",
       "      <td>30</td>\n",
       "      <td>Barr</td>\n",
       "    </tr>\n",
       "    <tr>\n",
       "      <th>2</th>\n",
       "      <td>2004</td>\n",
       "      <td>100</td>\n",
       "      <td>Barr</td>\n",
       "    </tr>\n",
       "  </tbody>\n",
       "</table>\n",
       "</div>"
      ],
      "text/plain": [
       "   Year  Count  Tree\n",
       "0  2004      0  Barr\n",
       "1  2004     30  Barr\n",
       "2  2004    100  Barr"
      ]
     },
     "metadata": {},
     "output_type": "display_data"
    },
    {
     "data": {
      "text/markdown": [
       " "
      ],
      "text/plain": [
       "<IPython.core.display.Markdown object>"
      ]
     },
     "metadata": {},
     "output_type": "display_data"
    },
    {
     "data": {
      "text/markdown": [
       "245 Rows x 3 Columns"
      ],
      "text/plain": [
       "<IPython.core.display.Markdown object>"
      ]
     },
     "metadata": {},
     "output_type": "display_data"
    },
    {
     "data": {
      "text/markdown": [
       " "
      ],
      "text/plain": [
       "<IPython.core.display.Markdown object>"
      ]
     },
     "metadata": {},
     "output_type": "display_data"
    }
   ],
   "source": [
    "if \"TreeID\" in trees.columns:\n",
    "    # this if statement allows you to run this cell\n",
    "    # multiple times without encountering an error\n",
    "    trees = trees.drop(columns = \"TreeID\")\n",
    "trees.show(rows = 3, title = \"Removed <code>TreeID</code> Column\")\n",
    "trees.columns = [\"Year\", \"Count\", \"Tree\"]\n",
    "trees.show(rows = 3, title = \"Relabeled Columns\")"
   ]
  },
  {
   "cell_type": "markdown",
   "id": "e57f4da2-d5a5-4321-b7d7-afe208e8d945",
   "metadata": {},
   "source": [
    "### Next Steps\n",
    "Now we've got our cleaned tables! Check them out below"
   ]
  },
  {
   "cell_type": "code",
   "execution_count": 10,
   "id": "5ed56384-73ea-4dea-8bb2-d9e568fc9e56",
   "metadata": {},
   "outputs": [
    {
     "data": {
      "text/markdown": [
       " "
      ],
      "text/plain": [
       "<IPython.core.display.Markdown object>"
      ]
     },
     "metadata": {},
     "output_type": "display_data"
    },
    {
     "data": {
      "text/markdown": [
       "Seedlings"
      ],
      "text/plain": [
       "<IPython.core.display.Markdown object>"
      ]
     },
     "metadata": {},
     "output_type": "display_data"
    },
    {
     "data": {
      "text/markdown": [
       " "
      ],
      "text/plain": [
       "<IPython.core.display.Markdown object>"
      ]
     },
     "metadata": {},
     "output_type": "display_data"
    },
    {
     "data": {
      "text/html": [
       "<div>\n",
       "<style scoped>\n",
       "    .dataframe tbody tr th:only-of-type {\n",
       "        vertical-align: middle;\n",
       "    }\n",
       "\n",
       "    .dataframe tbody tr th {\n",
       "        vertical-align: top;\n",
       "    }\n",
       "\n",
       "    .dataframe thead th {\n",
       "        text-align: right;\n",
       "    }\n",
       "</style>\n",
       "<table border=\"1\" class=\"dataframe\">\n",
       "  <thead>\n",
       "    <tr style=\"text-align: right;\">\n",
       "      <th></th>\n",
       "      <th>Pisona Count</th>\n",
       "      <th>Coco Count</th>\n",
       "      <th>Year</th>\n",
       "      <th>Forest</th>\n",
       "    </tr>\n",
       "  </thead>\n",
       "  <tbody>\n",
       "    <tr>\n",
       "      <th>0</th>\n",
       "      <td>0</td>\n",
       "      <td>14</td>\n",
       "      <td>2007</td>\n",
       "      <td>Cocos</td>\n",
       "    </tr>\n",
       "    <tr>\n",
       "      <th>1</th>\n",
       "      <td>0</td>\n",
       "      <td>37</td>\n",
       "      <td>2007</td>\n",
       "      <td>Cocos</td>\n",
       "    </tr>\n",
       "    <tr>\n",
       "      <th>2</th>\n",
       "      <td>0</td>\n",
       "      <td>12</td>\n",
       "      <td>2007</td>\n",
       "      <td>Cocos</td>\n",
       "    </tr>\n",
       "  </tbody>\n",
       "</table>\n",
       "</div>"
      ],
      "text/plain": [
       "   Pisona Count  Coco Count  Year Forest\n",
       "0             0          14  2007  Cocos\n",
       "1             0          37  2007  Cocos\n",
       "2             0          12  2007  Cocos"
      ]
     },
     "metadata": {},
     "output_type": "display_data"
    },
    {
     "data": {
      "text/markdown": [
       " "
      ],
      "text/plain": [
       "<IPython.core.display.Markdown object>"
      ]
     },
     "metadata": {},
     "output_type": "display_data"
    },
    {
     "data": {
      "text/markdown": [
       "275 Rows x 4 Columns"
      ],
      "text/plain": [
       "<IPython.core.display.Markdown object>"
      ]
     },
     "metadata": {},
     "output_type": "display_data"
    },
    {
     "data": {
      "text/markdown": [
       " "
      ],
      "text/plain": [
       "<IPython.core.display.Markdown object>"
      ]
     },
     "metadata": {},
     "output_type": "display_data"
    },
    {
     "data": {
      "text/markdown": [
       " "
      ],
      "text/plain": [
       "<IPython.core.display.Markdown object>"
      ]
     },
     "metadata": {},
     "output_type": "display_data"
    },
    {
     "data": {
      "text/markdown": [
       "Trees"
      ],
      "text/plain": [
       "<IPython.core.display.Markdown object>"
      ]
     },
     "metadata": {},
     "output_type": "display_data"
    },
    {
     "data": {
      "text/markdown": [
       " "
      ],
      "text/plain": [
       "<IPython.core.display.Markdown object>"
      ]
     },
     "metadata": {},
     "output_type": "display_data"
    },
    {
     "data": {
      "text/html": [
       "<div>\n",
       "<style scoped>\n",
       "    .dataframe tbody tr th:only-of-type {\n",
       "        vertical-align: middle;\n",
       "    }\n",
       "\n",
       "    .dataframe tbody tr th {\n",
       "        vertical-align: top;\n",
       "    }\n",
       "\n",
       "    .dataframe thead th {\n",
       "        text-align: right;\n",
       "    }\n",
       "</style>\n",
       "<table border=\"1\" class=\"dataframe\">\n",
       "  <thead>\n",
       "    <tr style=\"text-align: right;\">\n",
       "      <th></th>\n",
       "      <th>Year</th>\n",
       "      <th>Count</th>\n",
       "      <th>Tree</th>\n",
       "    </tr>\n",
       "  </thead>\n",
       "  <tbody>\n",
       "    <tr>\n",
       "      <th>0</th>\n",
       "      <td>2004</td>\n",
       "      <td>0</td>\n",
       "      <td>Barr</td>\n",
       "    </tr>\n",
       "    <tr>\n",
       "      <th>1</th>\n",
       "      <td>2004</td>\n",
       "      <td>30</td>\n",
       "      <td>Barr</td>\n",
       "    </tr>\n",
       "    <tr>\n",
       "      <th>2</th>\n",
       "      <td>2004</td>\n",
       "      <td>100</td>\n",
       "      <td>Barr</td>\n",
       "    </tr>\n",
       "  </tbody>\n",
       "</table>\n",
       "</div>"
      ],
      "text/plain": [
       "   Year  Count  Tree\n",
       "0  2004      0  Barr\n",
       "1  2004     30  Barr\n",
       "2  2004    100  Barr"
      ]
     },
     "metadata": {},
     "output_type": "display_data"
    },
    {
     "data": {
      "text/markdown": [
       " "
      ],
      "text/plain": [
       "<IPython.core.display.Markdown object>"
      ]
     },
     "metadata": {},
     "output_type": "display_data"
    },
    {
     "data": {
      "text/markdown": [
       "245 Rows x 3 Columns"
      ],
      "text/plain": [
       "<IPython.core.display.Markdown object>"
      ]
     },
     "metadata": {},
     "output_type": "display_data"
    },
    {
     "data": {
      "text/markdown": [
       " "
      ],
      "text/plain": [
       "<IPython.core.display.Markdown object>"
      ]
     },
     "metadata": {},
     "output_type": "display_data"
    }
   ],
   "source": [
    "seedlings.show(rows = 3, title = \"Seedlings\")\n",
    "trees.show(rows = 3, title = \"Trees\")"
   ]
  },
  {
   "cell_type": "markdown",
   "id": "4bd5d1d6-454f-4e3e-98ca-2231590db766",
   "metadata": {},
   "source": [
    "#### `rats_present`"
   ]
  },
  {
   "cell_type": "markdown",
   "id": "6582a6e1-1839-4d4c-bfc9-53e5ab973839",
   "metadata": {},
   "source": [
    "Hmmm...it looks like we're missing something. \n",
    "\n",
    "We still don't know when the rats were eradicated; good thing we can figure that out! We know that by the year 2011, rats were eradicated from the island. Lets use that to write a function to add to our tables!"
   ]
  },
  {
   "cell_type": "code",
   "execution_count": 11,
   "id": "a8d88e01-6ff0-4c91-a22a-edc0c0cd039e",
   "metadata": {},
   "outputs": [],
   "source": [
    "def add_rats(table):\n",
    "    def rats_present(x):\n",
    "        if x > 2010:\n",
    "            return \"No\"\n",
    "        else:\n",
    "            return \"Yes\"\n",
    "    if \"Rats\" in table.columns:\n",
    "        show(\"Rats already exists!\")\n",
    "    else:\n",
    "        table[\"Rats\"] = table[\"Year\"].map(rats_present)\n",
    "        show(\"Rats added\")\n",
    "    return table"
   ]
  },
  {
   "cell_type": "code",
   "execution_count": 12,
   "id": "ad367904-74f4-40ee-83d4-0f94d6ee9dca",
   "metadata": {},
   "outputs": [
    {
     "data": {
      "text/markdown": [
       " "
      ],
      "text/plain": [
       "<IPython.core.display.Markdown object>"
      ]
     },
     "metadata": {},
     "output_type": "display_data"
    },
    {
     "data": {
      "text/markdown": [
       "Rats added"
      ],
      "text/plain": [
       "<IPython.core.display.Markdown object>"
      ]
     },
     "metadata": {},
     "output_type": "display_data"
    },
    {
     "data": {
      "text/markdown": [
       " "
      ],
      "text/plain": [
       "<IPython.core.display.Markdown object>"
      ]
     },
     "metadata": {},
     "output_type": "display_data"
    },
    {
     "data": {
      "text/markdown": [
       " "
      ],
      "text/plain": [
       "<IPython.core.display.Markdown object>"
      ]
     },
     "metadata": {},
     "output_type": "display_data"
    },
    {
     "data": {
      "text/markdown": [
       "Rats added"
      ],
      "text/plain": [
       "<IPython.core.display.Markdown object>"
      ]
     },
     "metadata": {},
     "output_type": "display_data"
    },
    {
     "data": {
      "text/markdown": [
       " "
      ],
      "text/plain": [
       "<IPython.core.display.Markdown object>"
      ]
     },
     "metadata": {},
     "output_type": "display_data"
    }
   ],
   "source": [
    "for data in [seedlings, trees]:\n",
    "    data = add_rats(data)"
   ]
  },
  {
   "cell_type": "markdown",
   "id": "144d8260-0a11-4079-b53d-9792767fd796",
   "metadata": {},
   "source": [
    "#### `first`\n",
    "Don't worry about the implementation of this function, but it returns the first value of an iterable (or list-like) object."
   ]
  },
  {
   "cell_type": "code",
   "execution_count": 13,
   "id": "a39b1602",
   "metadata": {},
   "outputs": [],
   "source": [
    "def first(series):\n",
    "    return series.iloc[0]"
   ]
  },
  {
   "cell_type": "markdown",
   "id": "696013f9-344b-4ec2-aad3-e013f584eea1",
   "metadata": {},
   "source": [
    "## The Figures\n",
    "Here are some figures that we got from the original research paper (where we got the data from). Later, you'll replicate them and you can decide who's you like more!"
   ]
  },
  {
   "cell_type": "markdown",
   "id": "c6142ce8-0f52-4dca-83f1-b0af4e9f6169",
   "metadata": {},
   "source": [
    "![image.png](https://raw.githubusercontent.com/ds-modules/ESPM-109E-SP22/main/rat%20replication/images/fig-1.png)\n",
    "![image-2.png](https://raw.githubusercontent.com/ds-modules/ESPM-109E-SP22/main/rat%20replication/images/fig-2.png) \n",
    "![image-3.png](https://raw.githubusercontent.com/ds-modules/ESPM-109E-SP22/main/rat%20replication/images/fig-3.png)"
   ]
  },
  {
   "cell_type": "markdown",
   "id": "bef8cd00-d3a5-4ad6-8d2d-f7ab7291789b",
   "metadata": {},
   "source": [
    "## Function Fun 2: Agregating and Plotting"
   ]
  },
  {
   "cell_type": "markdown",
   "id": "bcd62edb-eb2a-4dea-9fd6-1a9dd5a43d80",
   "metadata": {},
   "source": [
    "### Agregating Functions"
   ]
  },
  {
   "cell_type": "markdown",
   "id": "3813c037-e918-4c12-9955-64e927580cfd",
   "metadata": {},
   "source": [
    "#### `tree_type_table`"
   ]
  },
  {
   "cell_type": "markdown",
   "id": "1b0bd4de-83f1-4d9e-ad50-d16edc19cdc2",
   "metadata": {},
   "source": [
    "This function takes in a **DataFrame** and a **string**, and does all of the following, each on one line:\n",
    "- Filter for only rows where the column `Tree` has the value `name`\n",
    "- Group the data by what year it was collected\n",
    "- Sum the total count in each row for the year\n",
    "- Return the table with it's original index"
   ]
  },
  {
   "cell_type": "code",
   "execution_count": 14,
   "id": "20ec6ac9-4983-429a-9c75-e84cac91d5bd",
   "metadata": {},
   "outputs": [],
   "source": [
    "def tree_type_table(table: pd.DataFrame, name: str):\n",
    "    tree = (table.query(f\"Tree == '{name}'\")\n",
    "              .groupby(\"Year\")\n",
    "              .agg({\"Count\": sum, \"Rats\":first})\n",
    "              .reset_index())\n",
    "    return tree"
   ]
  },
  {
   "cell_type": "markdown",
   "id": "52de066c-560e-40b1-95e3-4b7af1d5cd5b",
   "metadata": {},
   "source": [
    "#### `triple_seedling_table`"
   ]
  },
  {
   "cell_type": "markdown",
   "id": "5963a9f4-6da6-4800-911e-8a78fedc3a81",
   "metadata": {},
   "source": [
    "This function is a bit more complicated, so we'll go though it quickly; if you're interested, you're more than welcome to try to figure it out, but it is more advanced than the majority of this notebook. \n",
    "`triple_seedlings_table` does the following:\n",
    "- creates a table `main` which selects relevant columns\n",
    "- creates a table `forest` which is `main`, but only in the year $2016$\n",
    "- creates a table `rats` which is `main` which performs a similar aggregation to `tree_type_table`\n",
    "- as the name suggests, the function returns all 3 tables"
   ]
  },
  {
   "cell_type": "code",
   "execution_count": 15,
   "id": "1ffea87d-aca0-4525-bf44-a989b3aa5f79",
   "metadata": {
    "tags": []
   },
   "outputs": [],
   "source": [
    "def triple_seedling_table(table: pd.DataFrame, genus: str):\n",
    "    main = (table[[f'{genus} Count','Year', 'Forest', 'Rats']]\n",
    "                     .rename(columns = {f'{genus} Count': \"Count\"}))\n",
    "    \n",
    "    forest = (main.drop(columns=\"Rats\")\n",
    "                   .query(\"Year == 2016\"))\n",
    "    \n",
    "    rats = (main.drop(columns=\"Forest\")\n",
    "                .groupby(\"Year\")\n",
    "                .agg({\"Count\": sum, \"Rats\": first})\n",
    "                .reset_index())\n",
    "    return main, forest, rats"
   ]
  },
  {
   "cell_type": "markdown",
   "id": "25ddc017-06b6-47e3-96ca-1247f61391ea",
   "metadata": {},
   "source": [
    "### Plotting Functions"
   ]
  },
  {
   "cell_type": "markdown",
   "id": "9cd3238c-32be-4ad0-b477-431921c871a3",
   "metadata": {},
   "source": [
    "#### `plot_rats`\n",
    "You don't need to worry about the implementation of this function, but it will give you a nicely formatted graph given a Table/DataFrame. This function should ideally have one column named `'Year'`, one named `'Count'`, and one named `'Rats'`. If it has these three functions you can simply call the following: \n",
    "```python \n",
    "plot_rats(data_frame)\n",
    "```\n",
    "If your data frame doesn't have all of these, you'll need to call the function as so:\n",
    "```python\n",
    "plot_rats(data = data_frame, x = x axis, y = y axis, color = group column)\n",
    "```\n",
    "where all of the values right of the `=` are filled in by you. You may also optionally include the argument:\n",
    "\n",
    ">`title = \"Your Title\"`\n",
    "\n",
    "The implementation of the function can be found below, and if you're interested, you can read the documentation of the [pandas](https://pandas.pydata.org/docs/reference/index.html#api) and [plotly](https://plotly.com/python/) modules which make this function work."
   ]
  },
  {
   "cell_type": "code",
   "execution_count": 16,
   "id": "e04e9a64-bbe5-453b-9b05-b1c2d3096a7f",
   "metadata": {},
   "outputs": [],
   "source": [
    "def plot_rats(data, x = None, y = None, color = None, title = None):\n",
    "    cols = pd.Series(['Year', 'Count', 'Rats'])\n",
    "    present = cols.isin(data.columns).all()\n",
    "    if present:\n",
    "        fig = px.bar(data_frame = data, x='Year', y=\"Count\", color = 'Rats',\n",
    "                       color_discrete_sequence =['#a63932', '#003262'], \n",
    "                       title = title, text_auto = True) #, width = 1000, height = 500)\n",
    "    else:\n",
    "        fig = px.bar(data_frame = data, x=x, y=y, color = color,\n",
    "                       color_discrete_sequence =['#a63932', '#003262'], \n",
    "                       title = title) #, width = 1000, height = 500)\n",
    "    fig.update_xaxes(type = 'category')\n",
    "    fig.show()"
   ]
  },
  {
   "cell_type": "markdown",
   "id": "1948fc9e-a114-46ed-ab31-608664bdde52",
   "metadata": {},
   "source": [
    "#### `plot_forest`"
   ]
  },
  {
   "cell_type": "markdown",
   "id": "0d8464f3-60ee-4911-a57b-ee7a95ec7210",
   "metadata": {},
   "source": [
    "This function functions in a very similar fashion. It takes in a dataframe, and outputs an interactive bar graph!"
   ]
  },
  {
   "cell_type": "code",
   "execution_count": 17,
   "id": "5dcc53b5-1384-4a4b-b055-8f2d55c44e4b",
   "metadata": {},
   "outputs": [],
   "source": [
    "def plot_forest(df, title = None):\n",
    "    grouped = df.groupby([\"Year\", \"Forest\"]).sum().reset_index().drop(columns=\"Year\")\n",
    "    plot = px.bar(data_frame = grouped, x = \"Forest\", y = \"Count\", color = \"Forest\", text_auto = True, \n",
    "      color_discrete_sequence = [\"#823e2b\",'#85683c', \"#3e853c\"], title = title) #, width = 1000, height = 500\n",
    "    plot.show()"
   ]
  },
  {
   "cell_type": "markdown",
   "id": "a8d4d9dc-4991-4ee1-85c3-c89fe71057cf",
   "metadata": {},
   "source": [
    "## Results\n",
    "<center><b><pre>The long awaited end has arrived! Theres no more work for you to do in this section. Simply run the cell below to see what all of your hard work has created. Go you!</pre></b></center>"
   ]
  },
  {
   "cell_type": "markdown",
   "id": "9f85ced1-2446-4d56-bf97-b35ec11f40fe",
   "metadata": {
    "tags": []
   },
   "source": [
    "### Agregating Results\n",
    "Play Around a bit with the cell below after running it to view the tables you just made!"
   ]
  },
  {
   "cell_type": "code",
   "execution_count": 18,
   "id": "ad4e2dc2-ccc8-4dc9-9c3d-e1a3dbd29882",
   "metadata": {
    "tags": []
   },
   "outputs": [
    {
     "data": {
      "application/vnd.jupyter.widget-view+json": {
       "model_id": "7e0d7a21f0fb4d7d99e3f53902eeefd7",
       "version_major": 2,
       "version_minor": 0
      },
      "text/plain": [
       "interactive(children=(Dropdown(description='Function', options=('tree_type', 'seedlings'), value='tree_type'),…"
      ]
     },
     "metadata": {},
     "output_type": "display_data"
    }
   ],
   "source": [
    "@interact(Function = widgets.Dropdown(options = [\"tree_type\", \"seedlings\"]))\n",
    "def the_tables(Function):\n",
    "    if Function == \"tree_type\":\n",
    "        @interact(Tree = widgets.Dropdown(options = ['Barr', 'Calo', 'Cord', 'Guet', 'Hern']))\n",
    "        def show_me_tree_type(Tree):\n",
    "            tree_type_table(trees, Tree).show()\n",
    "    else:\n",
    "        @interact(Tree = widgets.Dropdown(options = ['Pisona', \"Coco\"]),\n",
    "                  Rows = widgets.BoundedIntText(value = 10, max = 30, min = 1))\n",
    "        def show_me_seedlings(Tree, Rows):\n",
    "            a, b, c = triple_seedling_table(seedlings, Tree)\n",
    "            for df in [a, b]:\n",
    "                df.show(rows = Rows)  "
   ]
  },
  {
   "cell_type": "markdown",
   "id": "d578b40a-6667-49d1-9d0e-a51c18a04223",
   "metadata": {},
   "source": [
    "### Aggregate the Tables\n",
    "This cell is just nicely formatted and supplies all the tables from the data, using only your functions!"
   ]
  },
  {
   "cell_type": "code",
   "execution_count": 19,
   "id": "d9825392-1f8a-4d07-924c-4de07de82dd4",
   "metadata": {},
   "outputs": [],
   "source": [
    "(barrs, calos, cords, guets, herns,\n",
    "(pisonia, pisona_forest, pisona_rats), \n",
    "(coco, coco_forest, coco_rats))          = (tree_type_table(trees, 'Barr'), \n",
    "                                            tree_type_table(trees, 'Calo'), \n",
    "                                            tree_type_table(trees, 'Cord'), \n",
    "                                            tree_type_table(trees, 'Guet'), \n",
    "                                            tree_type_table(trees, 'Hern'), \n",
    "                                            triple_seedling_table(seedlings, \"Pisona\"), \n",
    "                                            triple_seedling_table(seedlings, \"Coco\"))\n",
    "tree_dict = {\"Plot Forests\": {\"Pisona\": pisona_forest, \"Coco\": coco_forest}, \n",
    "             \"Plot Rats\": {\"Barr\": barrs, \"Calo\": calos, \"Cord\": cords, \"Guet\": guets, \"Hern\": herns, \"Pisona\": pisona_rats, \"Coco\": coco_rats}}"
   ]
  },
  {
   "cell_type": "markdown",
   "id": "1bdf26e3-d167-4ab7-b9df-9101bdf1406c",
   "metadata": {},
   "source": [
    "### Plotting Results\n",
    "Use the cell below to view some of the graphs you just made!"
   ]
  },
  {
   "cell_type": "code",
   "execution_count": 20,
   "id": "e668f2ce-6ea8-4f99-ac95-053b61d6c0e1",
   "metadata": {},
   "outputs": [
    {
     "data": {
      "application/vnd.jupyter.widget-view+json": {
       "model_id": "ab70237ab3c54116b52130af931656d2",
       "version_major": 2,
       "version_minor": 0
      },
      "text/plain": [
       "interactive(children=(ToggleButton(value=False, button_style='success', description='Show All Tables', icon='e…"
      ]
     },
     "metadata": {},
     "output_type": "display_data"
    }
   ],
   "source": [
    "@interact(show_all = widgets.ToggleButton(value=False, description='Show All Tables', icon = \"eye\", button_style = \"success\"), \n",
    "          Function = widgets.Dropdown(options = [\"Plot Forests\", \"Plot Rats\"]))\n",
    "def the_plots(show_all, Function):\n",
    "    if show_all:\n",
    "        frst_lbl, sdlgs_lbl  = iter(['Cocos', \"Pisonas\"]), iter([\"Barrs\", \"Calos\", \"Cords\", \"Guets\", \"Herns\", \"Pisonas\", \"Cocos\"])\n",
    "        for data in (coco_forest, pisona_forest):\n",
    "            plot_forest(data, title = next(frst_lbl))\n",
    "        for data in (barrs, calos, cords, guets, herns, pisona_rats, coco_rats):\n",
    "            plot_rats(data, title = next(sdlgs_lbl))\n",
    "    elif Function == \"Plot Rats\":\n",
    "        @interact(Tree = widgets.Dropdown(options = ['Barr', 'Calo', 'Cord', 'Guet', 'Hern']))\n",
    "        def show_me_rats(Tree):\n",
    "            plot_rats(tree_dict[Function][Tree], title = Tree)\n",
    "    else:\n",
    "        @interact(Tree = widgets.Dropdown(options = ['Pisona', \"Coco\"]))\n",
    "        def show_me_forest(Tree):\n",
    "            plot_forest(tree_dict[Function][Tree], title = Tree)"
   ]
  }
 ],
 "metadata": {
  "kernelspec": {
   "display_name": "Python 3 (ipykernel)",
   "language": "python",
   "name": "python3"
  },
  "language_info": {
   "codemirror_mode": {
    "name": "ipython",
    "version": 3
   },
   "file_extension": ".py",
   "mimetype": "text/x-python",
   "name": "python",
   "nbconvert_exporter": "python",
   "pygments_lexer": "ipython3",
   "version": "3.10.1"
  },
  "toc": {
   "base_numbering": 1,
   "nav_menu": {},
   "number_sections": true,
   "sideBar": true,
   "skip_h1_title": true,
   "title_cell": "Table of Contents",
   "title_sidebar": "Contents",
   "toc_cell": true,
   "toc_position": {},
   "toc_section_display": true,
   "toc_window_display": true
  },
  "toc-autonumbering": true,
  "toc-showcode": false,
  "toc-showmarkdowntxt": false,
  "toc-showtags": false,
  "widgets": {
   "application/vnd.jupyter.widget-state+json": {
    "state": {},
    "version_major": 2,
    "version_minor": 0
   }
  }
 },
 "nbformat": 4,
 "nbformat_minor": 5
}
