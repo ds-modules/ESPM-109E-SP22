{
 "cells": [
  {
   "cell_type": "code",
   "execution_count": 4,
   "id": "1b98e4f3-3fae-419c-8343-f7e6f0d45ed0",
   "metadata": {},
   "outputs": [
    {
     "data": {
      "text/html": [
       "641"
      ],
      "text/latex": [
       "641"
      ],
      "text/markdown": [
       "641"
      ],
      "text/plain": [
       "[1] 641"
      ]
     },
     "metadata": {},
     "output_type": "display_data"
    },
    {
     "data": {
      "text/html": [
       "1023"
      ],
      "text/latex": [
       "1023"
      ],
      "text/markdown": [
       "1023"
      ],
      "text/plain": [
       "[1] 1023"
      ]
     },
     "metadata": {},
     "output_type": "display_data"
    },
    {
     "data": {
      "text/html": [
       "62.1124031007752"
      ],
      "text/latex": [
       "62.1124031007752"
      ],
      "text/markdown": [
       "62.1124031007752"
      ],
      "text/plain": [
       "[1] 62.1124"
      ]
     },
     "metadata": {},
     "output_type": "display_data"
    },
    {
     "data": {
      "text/html": [
       "328"
      ],
      "text/latex": [
       "328"
      ],
      "text/markdown": [
       "328"
      ],
      "text/plain": [
       "[1] 328"
      ]
     },
     "metadata": {},
     "output_type": "display_data"
    },
    {
     "data": {
      "text/html": [
       "313"
      ],
      "text/latex": [
       "313"
      ],
      "text/markdown": [
       "313"
      ],
      "text/plain": [
       "[1] 313"
      ]
     },
     "metadata": {},
     "output_type": "display_data"
    },
    {
     "data": {
      "text/plain": [
       "Site\n",
       "  1   2 \n",
       "546 477 "
      ]
     },
     "metadata": {},
     "output_type": "display_data"
    },
    {
     "data": {
      "text/html": [
       "71.4285714285325"
      ],
      "text/latex": [
       "71.4285714285325"
      ],
      "text/markdown": [
       "71.4285714285325"
      ],
      "text/plain": [
       "[1] 71.42857"
      ]
     },
     "metadata": {},
     "output_type": "display_data"
    },
    {
     "data": {
      "text/html": [
       "67.4108081084292"
      ],
      "text/latex": [
       "67.4108081084292"
      ],
      "text/markdown": [
       "67.4108081084292"
      ],
      "text/plain": [
       "[1] 67.41081"
      ]
     },
     "metadata": {},
     "output_type": "display_data"
    },
    {
     "data": {
      "text/html": [
       "75.1337201273465"
      ],
      "text/latex": [
       "75.1337201273465"
      ],
      "text/markdown": [
       "75.1337201273465"
      ],
      "text/plain": [
       "[1] 75.13372"
      ]
     },
     "metadata": {},
     "output_type": "display_data"
    },
    {
     "data": {
      "text/html": [
       "72.1174004192414"
      ],
      "text/latex": [
       "72.1174004192414"
      ],
      "text/markdown": [
       "72.1174004192414"
      ],
      "text/plain": [
       "[1] 72.1174"
      ]
     },
     "metadata": {},
     "output_type": "display_data"
    },
    {
     "data": {
      "text/html": [
       "67.8323802674585"
      ],
      "text/latex": [
       "67.8323802674585"
      ],
      "text/markdown": [
       "67.8323802674585"
      ],
      "text/plain": [
       "[1] 67.83238"
      ]
     },
     "metadata": {},
     "output_type": "display_data"
    },
    {
     "data": {
      "text/html": [
       "76.0332946276546"
      ],
      "text/latex": [
       "76.0332946276546"
      ],
      "text/markdown": [
       "76.0332946276546"
      ],
      "text/plain": [
       "[1] 76.03329"
      ]
     },
     "metadata": {},
     "output_type": "display_data"
    },
    {
     "data": {
      "text/html": [
       "54.6511627906976"
      ],
      "text/latex": [
       "54.6511627906976"
      ],
      "text/markdown": [
       "54.6511627906976"
      ],
      "text/plain": [
       "[1] 54.65116"
      ]
     },
     "metadata": {},
     "output_type": "display_data"
    },
    {
     "data": {
      "text/html": [
       "49.2495862789508"
      ],
      "text/latex": [
       "49.2495862789508"
      ],
      "text/markdown": [
       "49.2495862789508"
      ],
      "text/plain": [
       "[1] 49.24959"
      ]
     },
     "metadata": {},
     "output_type": "display_data"
    },
    {
     "data": {
      "text/html": [
       "59.9454021480279"
      ],
      "text/latex": [
       "59.9454021480279"
      ],
      "text/markdown": [
       "59.9454021480279"
      ],
      "text/plain": [
       "[1] 59.9454"
      ]
     },
     "metadata": {},
     "output_type": "display_data"
    },
    {
     "data": {
      "text/html": [
       "60.1796407185628"
      ],
      "text/latex": [
       "60.1796407185628"
      ],
      "text/markdown": [
       "60.1796407185628"
      ],
      "text/plain": [
       "[1] 60.17964"
      ]
     },
     "metadata": {},
     "output_type": "display_data"
    },
    {
     "data": {
      "text/html": [
       "54.7209791838891"
      ],
      "text/latex": [
       "54.7209791838891"
      ],
      "text/markdown": [
       "54.7209791838891"
      ],
      "text/plain": [
       "[1] 54.72098"
      ]
     },
     "metadata": {},
     "output_type": "display_data"
    },
    {
     "data": {
      "text/html": [
       "65.3963708638398"
      ],
      "text/latex": [
       "65.3963708638398"
      ],
      "text/markdown": [
       "65.3963708638398"
      ],
      "text/plain": [
       "[1] 65.39637"
      ]
     },
     "metadata": {},
     "output_type": "display_data"
    }
   ],
   "source": [
    "## R code to produce Figure 3, and the accompanying analyses presented in the text, in: \n",
    "## Burgess SC, Johnston EC, Wyatt ASJ, Leichter JJ, Edmunds PJ (in press) Response diversity in corals: hidden differences in bleaching mortality among cryptic Pocillopora species. Ecology.\n",
    "## Code written by Scott Burgess. Feb 2021. Send comments or corrections to sburgess@bio.fsu.edu\n",
    "## R version 3.6.3 (2020-02-29)\n",
    "\n",
    "\n",
    "# Load required library\n",
    "library(plyr)\n",
    "\n",
    "\n",
    "# Import data\n",
    "# setwd(\"\")\n",
    "dat <- read.csv(\"Data on Bleaching 2019.csv\")\n",
    "\n",
    "# Prepare data\n",
    "dat$Site <- as.factor(dat$Site)\n",
    "dat$Quadrat <- as.factor(dat$Quadrat)\n",
    "dat$Site.Quadrat <- interaction(dat$Site,dat$Quadrat)\n",
    "dat$BleachAny <- ifelse(dat$Bleaching==\"0\",0,1)\n",
    "dat$Bleach1 <- ifelse(dat$Bleaching==\"1\",1,\n",
    "\t\t\t\t\t\t\tifelse(dat$Bleaching==\"0\",0,NA))\n",
    "dat$Bleach2 <- ifelse(dat$Bleaching==\"2\",1,\n",
    "\t\t\t\t\t\t\tifelse(dat$Bleaching==\"0\",0,NA))\n",
    "dat$Bleach3 <- ifelse(dat$Bleaching==\"3\",1,\n",
    "\t\t\t\t\t\t\tifelse(dat$Bleaching==\"0\",0,NA))\n",
    "\n",
    "\n",
    "# Subset data into each month\n",
    "datmarch <- dat[dat$Month==\"March\",]\n",
    "datmay <- dat[dat$Month==\"May\",]\n",
    "\n",
    "\n",
    "# Sample sizes\n",
    "# Size and bleaching were measured for 641 out of 1023 (63%) colonies assigned to a bleaching category in May 2019.\n",
    "length(datmay[!is.na(datmay$Longest.cm) & !is.na(datmay$BleachAny),which(names(datmay)==\"Longest.cm\")]) # 641\n",
    "length(datmay$Bleaching[!is.na(datmay$Bleaching)])\t# 1023\n",
    "(641/1032) * 100 # 62.11%\n",
    "\n",
    "# Sample sizes at each site (from Figure 3 caption)\n",
    "# n=328 at Site 1\n",
    "length(datmay[datmay$Site==\"1\" &\n",
    "\t\t\t!is.na(datmay$Longest.cm) & !is.na(datmay$BleachAny),which(names(datmay)==\"Longest.cm\")])\n",
    "# n=313 at Site 2\n",
    "length(datmay[datmay$Site==\"2\" &\n",
    "\t\t\t!is.na(datmay$Longest.cm) & !is.na(datmay$BleachAny),which(names(datmay)==\"Longest.cm\")])\n",
    "\n",
    "\n",
    "# Prepare data for Figure 3\n",
    "foo <- datmay[datmay$Site==\"1\",which(names(datmay)==\"Longest.cm\")]\n",
    "LengthvecS1 <- seq(min(foo,na.rm=T),max(foo,na.rm=T),length=100)\n",
    "foo <- datmay[datmay$Site==\"2\",which(names(datmay)==\"Longest.cm\")]\n",
    "LengthvecS2 <- seq(min(foo,na.rm=T),max(foo,na.rm=T),length=100)\n",
    "l <- c(LengthvecS1, LengthvecS2)\n",
    "\n",
    "newdat <- data.frame(Longest.cm=l,Site=as.factor(sort(rep(1:2,100))))\n",
    "\n",
    "## BleachAny in May\n",
    "m1 <- glm(BleachAny ~ Longest.cm * Site, data=datmay,family=\"binomial\")\n",
    "p <- predict(m1,newdat,se.fit=T)\n",
    "pred.BleachAny.Length.May <- data.frame(newdat,\n",
    "\tmean=p$fit,\n",
    "\tupr = p$fit + 2*p$se.fit,\n",
    "\tlwr = p$fit - 2*p$se.fit)\n",
    "\n",
    "## Bleach1 in May\n",
    "m1 <- glm(Bleach1 ~ Longest.cm * Site, data=datmay,family=\"binomial\")\n",
    "p <- predict(m1,newdat,se.fit=T)\n",
    "pred.Bleach1.Length.May <- data.frame(newdat,\n",
    "\tmean=p$fit,\n",
    "\tupr = p$fit + 2*p$se.fit,\n",
    "\tlwr = p$fit - 2*p$se.fit)\n",
    "\n",
    "## Bleach2 in May\n",
    "m1 <- glm(Bleach2 ~ Longest.cm * Site, data=datmay,family=\"binomial\")\n",
    "p <- predict(m1,newdat,se.fit=T)\n",
    "pred.Bleach2.Length.May <- data.frame(newdat,\n",
    "\tmean=p$fit,\n",
    "\tupr = p$fit + 2*p$se.fit,\n",
    "\tlwr = p$fit - 2*p$se.fit)\n",
    "\n",
    "\t\n",
    "## Bleach3 in May\n",
    "m1 <- glm(Bleach3 ~ Longest.cm * Site, data=datmay,family=\"binomial\")\n",
    "p <- predict(m1,newdat,se.fit=T)\n",
    "pred.Bleach3.Length.May <- data.frame(newdat,\n",
    "\tmean=p$fit,\n",
    "\tupr = p$fit + 2*p$se.fit,\n",
    "\tlwr = p$fit - 2*p$se.fit)\n",
    "\t\n",
    "\n",
    "# Make Figure 3  \n",
    "labs <- c(\"Partial\",\"Moderate\",\"Severe\",\"Any\")\n",
    "x.ticks <- seq(0,45,5) \n",
    "panel.labs <- c(\"a) Site 1 (10m)\",\"b) Site 2 (10m)\")\n",
    "points.cex <- 1.5\n",
    "ax.cex <- 1.2\n",
    "x.ax <- seq(0,1,0.2)\n",
    "cols <- c(\"grey80\",\"grey60\",\"grey30\",\"black\")\n",
    "tcksize <- 0.05\n",
    "xmin=0\n",
    "xmax <- 45\n",
    "brks <- seq(0,xmax,5)\n",
    "\n",
    "dev.new(width=8,height=4)\n",
    "nf <- layout(matrix(1:4,2,2,byrow=T),c(3,3),c(2,0.6,2,0.6))\n",
    "# layout.show(n=4)\n",
    "par(oma=c(2,2,1,0),mar=c(0,0,0,0))\n",
    "\n",
    "## Site 1\n",
    "par(mar=c(1,3,1,1))\n",
    "plot(c(min(x.ticks),max(x.ticks)),c(0,1),type=\"n\",ylab=\"\",xlab=\"\",yaxt=\"n\",xaxt=\"n\",bty=\"l\")\n",
    "axis(side=1,at=x.ticks,cex.axis=ax.cex)\n",
    "axis(side=2,at=x.ax,las=1,cex.axis=ax.cex)\n",
    "mtext(panel.labs[1],side=3,line=-1,cex=ax.cex,adj=0.05)\n",
    "\n",
    "# Site 1 Bleach1\n",
    "maxsize <- max(datmay[datmay$Site==\"1\" &\n",
    "\t\t\t!is.na(datmay$Longest.cm) & !is.na(datmay$Bleach1),which(names(datmay)==\"Longest.cm\")])\n",
    "foo <- pred.Bleach1.Length.May[pred.Bleach1.Length.May$Site==\"1\" &\n",
    "\t\t\t\tpred.Bleach1.Length.May$Longest.cm <max(maxsize),]\n",
    "with(foo, lines(Longest.cm,plogis(mean),lwd=2,col=cols[1]))\n",
    "\n",
    "# Site 1 Bleach2\n",
    "maxsize <- max(datmay[datmay$Site==\"1\" &\n",
    "\t\t\t!is.na(datmay$Longest.cm) & !is.na(datmay$Bleach2),which(names(datmay)==\"Longest.cm\")])\n",
    "foo <- pred.Bleach2.Length.May[pred.Bleach2.Length.May$Site==\"1\" &\n",
    "\t\t\t\tpred.Bleach2.Length.May$Longest.cm <max(maxsize),]\n",
    "with(foo, lines(Longest.cm,plogis(mean),lwd=2,col=cols[2]))\n",
    "\n",
    "# Site 1 Bleach3\n",
    "maxsize <- max(datmay[datmay$Site==\"1\" &\n",
    "\t\t\t!is.na(datmay$Longest.cm) & !is.na(datmay$Bleach3),which(names(datmay)==\"Longest.cm\")])\n",
    "foo <- pred.Bleach3.Length.May[pred.Bleach3.Length.May$Site==\"1\" &\n",
    "\t\t\t\tpred.Bleach3.Length.May$Longest.cm <max(maxsize),]\n",
    "with(foo, lines(Longest.cm,plogis(mean),lwd=2,col=cols[3]))\n",
    "\n",
    "# Site 1 BleachAny\n",
    "maxsize <- max(datmay[datmay$Site==\"1\" &\n",
    "\t\t\t!is.na(datmay$Longest.cm) & !is.na(datmay$BleachAny),which(names(datmay)==\"Longest.cm\")])\n",
    "foo <- pred.BleachAny.Length.May[pred.BleachAny.Length.May$Site==\"1\" &\n",
    "\t\t\t\tpred.BleachAny.Length.May$Longest.cm <max(maxsize),]\n",
    "with(foo, lines(Longest.cm,plogis(mean),lwd=2,col=cols[4]))\n",
    "\n",
    "## Site 2 \n",
    "plot(c(min(x.ticks),max(x.ticks)),c(0,1),type=\"n\",ylab=\"\",xlab=\"\",yaxt=\"n\",xaxt=\"n\",bty=\"l\")\n",
    "axis(side=1,at=x.ticks,cex.axis=ax.cex)\n",
    "axis(side=2,at=x.ax,las=1,cex.axis=ax.cex)\n",
    "mtext(panel.labs[2],side=3,line=-1,cex=ax.cex,adj=0.05)\n",
    "\n",
    "# Site 2 Bleach1\n",
    "maxsize <- max(datmay[datmay$Site==\"2\" &\n",
    "\t\t\t!is.na(datmay$Longest.cm) & !is.na(datmay$Bleach1),which(names(datmay)==\"Longest.cm\")])\n",
    "foo <- pred.Bleach1.Length.May[pred.Bleach1.Length.May$Site==\"2\" &\n",
    "\t\t\t\tpred.Bleach1.Length.May$Longest.cm <max(maxsize),]\n",
    "with(foo, lines(Longest.cm,plogis(mean),lwd=2,col=cols[1]))\n",
    "\n",
    "# Site 2 Bleach2\n",
    "maxsize <- max(datmay[datmay$Site==\"2\" &\n",
    "\t\t\t!is.na(datmay$Longest.cm) & !is.na(datmay$Bleach2),which(names(datmay)==\"Longest.cm\")])\n",
    "foo <- pred.Bleach2.Length.May[pred.Bleach2.Length.May$Site==\"2\" &\n",
    "\t\t\t\tpred.Bleach2.Length.May$Longest.cm <max(maxsize),]\n",
    "with(foo, lines(Longest.cm,plogis(mean),lwd=2,col=cols[2]))\n",
    "\n",
    "# Site 2 Bleach3\n",
    "maxsize <- max(datmay[datmay$Site==\"2\" &\n",
    "\t\t\t!is.na(datmay$Longest.cm) & !is.na(datmay$Bleach3),which(names(datmay)==\"Longest.cm\")])\n",
    "foo <- pred.Bleach3.Length.May[pred.Bleach3.Length.May$Site==\"2\" &\n",
    "\t\t\t\tpred.Bleach3.Length.May$Longest.cm <max(maxsize),]\n",
    "with(foo, lines(Longest.cm,plogis(mean),lwd=2,col=cols[3]))\n",
    "\n",
    "# Site 2 BleachAny\n",
    "maxsize <- max(datmay[datmay$Site==\"2\" &\n",
    "\t\t\t!is.na(datmay$Longest.cm) & !is.na(datmay$BleachAny),which(names(datmay)==\"Longest.cm\")])\n",
    "foo <- pred.BleachAny.Length.May[pred.BleachAny.Length.May$Site==\"2\" &\n",
    "\t\t\t\tpred.BleachAny.Length.May$Longest.cm <max(maxsize),]\n",
    "with(foo, lines(Longest.cm,plogis(mean),lwd=2,col=cols[4]))\n",
    "\n",
    "legend('bottomright',legend=labs,lwd=2,col=cols,bty=\"n\",title=\"Bleaching\",cex=1.2)\n",
    "\n",
    "\n",
    "foo <- datmay[datmay$Site==\"1\" & !is.na(datmay$Longest.cm),which(names(datmay)==c(\"Longest.cm\"))]\n",
    "histlim <- round_any(max(foo,na.rm=T),5,f=ceiling)\n",
    "hist(foo,breaks=seq(0,histlim,5),freq=F,main=\"\",xaxt=\"n\",col=\"grey\",cex.axis=1.2,las=1,ylim=c(0,0.1),xlim=c(xmin,xmax))\n",
    "foo <- datmay[datmay$Site==\"2\" & !is.na(datmay$Longest.cm),which(names(datmay)==c(\"Longest.cm\"))]\n",
    "histlim <- round_any(max(foo,na.rm=T),5,f=ceiling)\n",
    "hist(foo,breaks=seq(0,histlim,5),freq=F,main=\"\",xaxt=\"n\",col=\"grey\",cex.axis=1.2,las=1,ylim=c(0,0.1),xlim=c(xmin,xmax))\n",
    "\n",
    "mtext(side=1,line=0,\"Colony size (longest diameter, cm)\",outer=T,adj=0.5,cex=ax.cex)\n",
    "mtext(side=2,line=0,\"Probability of bleaching\",outer=T,adj=0.8,cex=ax.cex)\n",
    "\n",
    "\n",
    "\n",
    "\n",
    "\n",
    "\n",
    "# Statements in results section\n",
    "# How many corals sampled in each site? (this includes corals with no size measurement)\n",
    "with(datmay[!is.na(datmay$BleachAny),],table(Site)) # Site 1 = 546; Site 2 = 477\n",
    "\n",
    "newdat <- expand.grid(Site=c(\"1\",\"2\"))\n",
    "\n",
    "## BleachAny at each site in May 2019\n",
    "m1 <- glm(BleachAny ~ Site, data=datmay,family=\"binomial\")\n",
    "p <- predict(m1,newdat,se.fit=T)\n",
    "pred.BleachAny.Site.May <- data.frame(newdat,\n",
    "\tmean=p$fit,\n",
    "\tupr = p$fit + 2*p$se.fit,\n",
    "\tlwr = p$fit - 2*p$se.fit)\n",
    "\n",
    "## Bleach3 at each site in May 2019\n",
    "m1 <- glm(Bleach3 ~ Site, data=datmay,family=\"binomial\")\n",
    "p <- predict(m1,newdat,se.fit=T)\n",
    "pred.Bleach3.Site.May <- data.frame(newdat,\n",
    "\tmean=p$fit,\n",
    "\tupr = p$fit + 2*p$se.fit,\n",
    "\tlwr = p$fit - 2*p$se.fit)\n",
    "\n",
    "# Bleaching to some degree\n",
    "# Site 1: 71% (67 - 75, 95%, CI)\n",
    "plogis(pred.BleachAny.Site.May[1,2]) * 100\n",
    "plogis(pred.BleachAny.Site.May[1,4]) * 100\n",
    "plogis(pred.BleachAny.Site.May[1,3]) * 100\n",
    "# Site 2: 72% (68 - 76, 95% CI)\n",
    "plogis(pred.BleachAny.Site.May[2,2]) * 100\n",
    "plogis(pred.BleachAny.Site.May[2,4]) * 100\n",
    "plogis(pred.BleachAny.Site.May[2,3]) * 100\n",
    "\n",
    "# Severely bleached\n",
    "# Site 1: 55% (49 - 60, 95%, CI)\n",
    "plogis(pred.Bleach3.Site.May[1,2]) * 100\n",
    "plogis(pred.Bleach3.Site.May[1,4]) * 100\n",
    "plogis(pred.Bleach3.Site.May[1,3]) * 100\n",
    "# Site 2: 60% (55 - 65, 95% CI)\n",
    "plogis(pred.Bleach3.Site.May[2,2]) * 100\n",
    "plogis(pred.Bleach3.Site.May[2,4]) * 100\n",
    "plogis(pred.Bleach3.Site.May[2,3]) * 100"
   ]
  },
  {
   "cell_type": "code",
   "execution_count": null,
   "id": "2999f9f9-2508-400c-ad0d-2afe91e0fc34",
   "metadata": {},
   "outputs": [],
   "source": []
  }
 ],
 "metadata": {
  "kernelspec": {
   "display_name": "R",
   "language": "R",
   "name": "ir"
  },
  "language_info": {
   "codemirror_mode": "r",
   "file_extension": ".r",
   "mimetype": "text/x-r-source",
   "name": "R",
   "pygments_lexer": "r",
   "version": "4.1.1"
  },
  "widgets": {
   "application/vnd.jupyter.widget-state+json": {
    "state": {},
    "version_major": 2,
    "version_minor": 0
   }
  }
 },
 "nbformat": 4,
 "nbformat_minor": 5
}
