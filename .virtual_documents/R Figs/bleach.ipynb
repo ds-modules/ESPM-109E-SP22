import requests
from pathlib import Path
import time
#standard data analysis libraries
import numpy as np 
import pandas as pd 
#imports for displaying, rendering, and saving plots and visualizations
import plotly
import plotly.express as px
from IPython.display import *
import plotly.io as pio
import ipywidgets as widgets
from ipywidgets import *


def download_data(data_url, 
                  file):
    file_path = Path(file)
    print('Downloading...', end=' ')
    resp = requests.get(data_url)
    with file_path.open('wb') as f:
        f.write(resp.content)
    print('Done!')
    return file_path


bleach = pd.read_csv("https://datadryad.org/stash/downloads/file_stream/1102459")
haplotypes = pd.read_csv("https://datadryad.org/stash/downloads/file_stream/1102458")
mortality = pd.read_csv("https://datadryad.org/stash/downloads/file_stream/1102460")
mortality.show()


bleach_nona = bleach[bleach["Longest.cm"].notnull() & bleach["Bleaching"].notnull()]
for cat in ["Site", "Bleaching"]:
    px.histogram(bleach_nona, x = "Longest.cm", color = cat, opacity = .5, template = "gridon").show()
